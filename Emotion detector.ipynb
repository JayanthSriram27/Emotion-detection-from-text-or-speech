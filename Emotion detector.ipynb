{
  "cells": [
    {
      "cell_type": "code",
      "execution_count": null,
      "metadata": {
        "id": "KnRf-WA3GF49"
      },
      "outputs": [],
      "source": [
        "import pandas as pd\n",
        "import numpy as np"
      ]
    },
    {
      "cell_type": "code",
      "execution_count": null,
      "metadata": {
        "colab": {
          "base_uri": "https://localhost:8080/"
        },
        "id": "wsE02iXFjl-c",
        "outputId": "91730788-2bac-4454-974d-6961b597b328"
      },
      "outputs": [
        {
          "name": "stdout",
          "output_type": "stream",
          "text": [
            "[nltk_data] Downloading package wordnet to /root/nltk_data...\n",
            "[nltk_data]   Package wordnet is already up-to-date!\n"
          ]
        },
        {
          "data": {
            "text/plain": [
              "True"
            ]
          },
          "execution_count": 98,
          "metadata": {},
          "output_type": "execute_result"
        }
      ],
      "source": [
        "import nltk\n",
        "nltk.download('wordnet')"
      ]
    },
    {
      "cell_type": "code",
      "execution_count": null,
      "metadata": {
        "id": "l74j5svXm5nc"
      },
      "outputs": [],
      "source": [
        "from nltk.stem import PorterStemmer\n",
        "from nltk.tokenize import word_tokenize\n",
        "from sklearn import preprocessing\n",
        "from sklearn.model_selection import train_test_split\n",
        "from sklearn.feature_extraction.text import TfidfVectorizer\n",
        "from sklearn.feature_extraction.text import CountVectorizer"
      ]
    },
    {
      "cell_type": "markdown",
      "metadata": {
        "id": "Mmg3iqhD8F15"
      },
      "source": [
        "# **Reading the csv**"
      ]
    },
    {
      "cell_type": "code",
      "execution_count": null,
      "metadata": {
        "colab": {
          "base_uri": "https://localhost:8080/"
        },
        "id": "XrnzzgS8GxMH",
        "outputId": "4da1a46d-c179-4c8a-f2fc-e3709a3c805a"
      },
      "outputs": [
        {
          "name": "stdout",
          "output_type": "stream",
          "text": [
            "         tweet_id  ...                                            content\n",
            "0      1956967341  ...  @tiffanylue i know  i was listenin to bad habi...\n",
            "1      1956967666  ...  Layin n bed with a headache  ughhhh...waitin o...\n",
            "2      1956967696  ...                Funeral ceremony...gloomy friday...\n",
            "3      1956967789  ...               wants to hang out with friends SOON!\n",
            "4      1956968416  ...  @dannycastillo We want to trade with someone w...\n",
            "...           ...  ...                                                ...\n",
            "39995  1753918954  ...                                   @JohnLloydTaylor\n",
            "39996  1753919001  ...                     Happy Mothers Day  All my love\n",
            "39997  1753919005  ...  Happy Mother's Day to all the mommies out ther...\n",
            "39998  1753919043  ...  @niariley WASSUP BEAUTIFUL!!! FOLLOW ME!!  PEE...\n",
            "39999  1753919049  ...  @mopedronin bullet train from tokyo    the gf ...\n",
            "\n",
            "[40000 rows x 3 columns]\n"
          ]
        }
      ],
      "source": [
        "data= pd.read_csv(\"/content/tweet_emotions.csv\")\n",
        "print(data)"
      ]
    },
    {
      "cell_type": "code",
      "execution_count": null,
      "metadata": {
        "colab": {
          "base_uri": "https://localhost:8080/"
        },
        "id": "iMdSZF20G1yb",
        "outputId": "14c091ae-7e5d-4a80-9bc6-67ce26efd867"
      },
      "outputs": [
        {
          "data": {
            "text/plain": [
              "Index(['tweet_id', 'sentiment', 'content'], dtype='object')"
            ]
          },
          "execution_count": 101,
          "metadata": {},
          "output_type": "execute_result"
        }
      ],
      "source": [
        "data.columns"
      ]
    },
    {
      "cell_type": "code",
      "execution_count": null,
      "metadata": {
        "colab": {
          "base_uri": "https://localhost:8080/"
        },
        "id": "y3DA_qUWHY-z",
        "outputId": "669618f5-6de4-4d78-de53-514dba0e4d83"
      },
      "outputs": [
        {
          "name": "stdout",
          "output_type": "stream",
          "text": [
            "{'anger', 'fun', 'neutral', 'boredom', 'worry', 'surprise', 'relief', 'love', 'hate', 'empty', 'happiness', 'sadness', 'enthusiasm'}\n"
          ]
        }
      ],
      "source": [
        "y_total = list(data.sentiment)\n",
        "print((set(y_total)))"
      ]
    },
    {
      "cell_type": "code",
      "execution_count": null,
      "metadata": {
        "colab": {
          "base_uri": "https://localhost:8080/"
        },
        "id": "11EJevRZbumE",
        "outputId": "72005f5c-a7c4-4468-df73-bd886fae40f1"
      },
      "outputs": [
        {
          "name": "stdout",
          "output_type": "stream",
          "text": [
            "2187\n",
            "8638\n",
            "5209\n",
            "1526\n",
            "5165\n",
            "8459\n",
            "1776\n",
            "827\n",
            "110\n",
            "3842\n",
            "179\n",
            "759\n",
            "1323\n"
          ]
        }
      ],
      "source": [
        "\n",
        "print(len(data[data.sentiment == 'surprise']))\n",
        "print(len(data[data.sentiment == 'neutral']))\n",
        "print(len(data[data.sentiment == 'happiness']))\n",
        "print(len(data[data.sentiment == 'relief']))\n",
        "print(len(data[data.sentiment == 'sadness']))\n",
        "print(len(data[data.sentiment == 'worry']))\n",
        "print(len(data[data.sentiment == 'fun']))\n",
        "print(len(data[data.sentiment == 'empty']))\n",
        "print(len(data[data.sentiment == 'anger']))\n",
        "print(len(data[data.sentiment == 'love']))\n",
        "print(len(data[data.sentiment == 'boredom']))\n",
        "print(len(data[data.sentiment == 'enthusiasm']))\n",
        "print(len(data[data.sentiment == 'hate']))"
      ]
    },
    {
      "cell_type": "code",
      "execution_count": null,
      "metadata": {
        "id": "aSMGvRqGSadq"
      },
      "outputs": [],
      "source": [
        "# Dropping rows with other emotion labels\n",
        "data = data.drop(data[data.sentiment == 'anger'].index)\n",
        "data = data.drop(data[data.sentiment == 'enthusiasm'].index)\n",
        "data = data.drop(data[data.sentiment == 'boredom'].index)\n",
        "data = data.drop(data[data.sentiment == 'empty'].index)\n",
        "data = data.drop(data[data.sentiment == 'hate'].index)"
      ]
    },
    {
      "cell_type": "code",
      "execution_count": null,
      "metadata": {
        "colab": {
          "base_uri": "https://localhost:8080/"
        },
        "id": "chAmlbn2M4o_",
        "outputId": "8b686f04-0d1a-4ee1-c12e-2b2f7b56d803"
      },
      "outputs": [
        {
          "name": "stdout",
          "output_type": "stream",
          "text": [
            "{'neutral', 'positive', 'negative'}\n"
          ]
        }
      ],
      "source": [
        "data['sentiment'] = data['sentiment'].replace({'anger': 'negative'})\n",
        "data['sentiment'] = data['sentiment'].replace({'fun': 'positive'})\n",
        "data['sentiment'] = data['sentiment'].replace({'boredom': 'negative'})\n",
        "data['sentiment'] = data['sentiment'].replace({'worry': 'negative'})\n",
        "data['sentiment'] = data['sentiment'].replace({'surprise': 'positive'})\n",
        "data['sentiment'] = data['sentiment'].replace({'relief': 'positive'})\n",
        "data['sentiment'] = data['sentiment'].replace({'love': 'positive'})\n",
        "data['sentiment'] = data['sentiment'].replace({'hate': 'negative'})\n",
        "data['sentiment'] = data['sentiment'].replace({'empty': 'neutral'})\n",
        "data['sentiment'] = data['sentiment'].replace({'happiness': 'positive'})\n",
        "data['sentiment'] = data['sentiment'].replace({'sadness': 'negative'})\n",
        "data['sentiment'] = data['sentiment'].replace({'enthusiasm': 'neutral'})\n",
        "\n",
        "  \n",
        "# # writing into the file\n",
        "# df.to_csv(\"AllDetails.csv\", index=False)\n",
        "  \n",
        "y_total = list(data.sentiment)\n",
        "print((set(y_total)))"
      ]
    },
    {
      "cell_type": "markdown",
      "metadata": {
        "id": "g3CmrjJRfG8D"
      },
      "source": [
        "# **Converting text to lowercase**"
      ]
    },
    {
      "cell_type": "code",
      "execution_count": null,
      "metadata": {
        "colab": {
          "base_uri": "https://localhost:8080/"
        },
        "id": "vyHWTji0e-AJ",
        "outputId": "7b481abf-33bc-47cd-c420-290bb86e1acb"
      },
      "outputs": [
        {
          "name": "stdout",
          "output_type": "stream",
          "text": [
            "1        layin n bed with a headache ughhhh...waitin on...\n",
            "2                      funeral ceremony...gloomy friday...\n",
            "4        @dannycastillo we want to trade with someone w...\n",
            "5        re-pinging @ghostridah14: why didn't you go to...\n",
            "6        i should be sleep, but im not! thinking about ...\n",
            "                               ...                        \n",
            "39995                                     @johnlloydtaylor\n",
            "39996                        happy mothers day all my love\n",
            "39997    happy mother's day to all the mommies out ther...\n",
            "39998    @niariley wassup beautiful!!! follow me!! peep...\n",
            "39999    @mopedronin bullet train from tokyo the gf and...\n",
            "Name: content, Length: 36802, dtype: object\n"
          ]
        }
      ],
      "source": [
        "data['content'] = data['content'].apply(lambda x: \" \".join(x.lower() for x in x.split()))\n",
        "print(data['content'])"
      ]
    },
    {
      "cell_type": "markdown",
      "metadata": {
        "id": "UTmPRiaffT7H"
      },
      "source": [
        "# **Removing punctuations and symbols**"
      ]
    },
    {
      "cell_type": "code",
      "execution_count": null,
      "metadata": {
        "id": "vbvwtunIfR-K"
      },
      "outputs": [],
      "source": [
        "import string\n",
        "data['content'] = data['content'].apply(lambda x: \" \".join(x.translate(str.maketrans('','',string.punctuation)) for x in x.split()))"
      ]
    },
    {
      "cell_type": "code",
      "execution_count": null,
      "metadata": {
        "colab": {
          "base_uri": "https://localhost:8080/"
        },
        "id": "GeX8Gabah6y6",
        "outputId": "214693e0-f21b-46bd-fd46-1d84be4dc184"
      },
      "outputs": [
        {
          "name": "stdout",
          "output_type": "stream",
          "text": [
            "1        layin n bed with a headache ughhhhwaitin on yo...\n",
            "2                            funeral ceremonygloomy friday\n",
            "4        dannycastillo we want to trade with someone wh...\n",
            "5        repinging ghostridah14 why didnt you go to pro...\n",
            "6        i should be sleep but im not thinking about an...\n",
            "                               ...                        \n",
            "39995                                      johnlloydtaylor\n",
            "39996                        happy mothers day all my love\n",
            "39997    happy mothers day to all the mommies out there...\n",
            "39998    niariley wassup beautiful follow me peep out m...\n",
            "39999    mopedronin bullet train from tokyo the gf and ...\n",
            "Name: content, Length: 36802, dtype: object\n"
          ]
        }
      ],
      "source": [
        "print(data['content'])"
      ]
    },
    {
      "cell_type": "markdown",
      "metadata": {
        "id": "4G0nXjsCiZwf"
      },
      "source": [
        "# **Removing stop words**"
      ]
    },
    {
      "cell_type": "code",
      "execution_count": null,
      "metadata": {
        "id": "rsmQh6GRiZAO"
      },
      "outputs": [],
      "source": [
        "stop_words = [\"i\", \"me\", \"my\", \"myself\", \"we\", \"our\", \"ours\", \"ourselves\", \"you\", \"your\", \"yours\", \"yourself\",\n",
        "              \"yourselves\", \"he\", \"him\", \"his\", \"himself\", \"she\", \"her\", \"hers\", \"herself\", \"it\", \"its\", \"itself\",\n",
        "              \"they\", \"them\", \"their\", \"theirs\", \"themselves\", \"what\", \"which\", \"who\", \"whom\", \"this\", \"that\", \"these\",\n",
        "              \"those\", \"am\", \"is\", \"are\", \"was\", \"were\", \"be\", \"been\", \"being\", \"have\", \"has\", \"had\", \"having\", \"do\",\n",
        "              \"does\", \"did\", \"doing\", \"a\", \"an\", \"the\", \"and\", \"but\", \"if\", \"or\", \"because\", \"as\", \"until\", \"while\",\n",
        "              \"of\", \"at\", \"by\", \"for\", \"with\", \"about\", \"against\", \"between\", \"into\", \"through\", \"during\", \"before\",\n",
        "              \"after\", \"above\", \"below\", \"to\", \"from\", \"up\", \"down\", \"in\", \"out\", \"on\", \"off\", \"over\", \"under\", \"again\",\n",
        "              \"further\", \"then\", \"once\", \"here\", \"there\", \"when\", \"where\", \"why\", \"how\", \"all\", \"any\", \"both\", \"each\",\n",
        "              \"few\", \"more\", \"most\", \"other\", \"some\", \"such\", \"no\", \"nor\", \"not\", \"only\", \"own\", \"same\", \"so\", \"than\",\n",
        "              \"too\", \"very\", \"s\", \"t\", \"can\", \"will\", \"just\", \"don\", \"should\", \"now\"]\n",
        "\n",
        "data['content'] = data['content'].apply(lambda x: \" \".join(x for x in x.split() if x not in stop_words))"
      ]
    },
    {
      "cell_type": "code",
      "execution_count": null,
      "metadata": {
        "colab": {
          "base_uri": "https://localhost:8080/"
        },
        "id": "KNoZy915ipKQ",
        "outputId": "3b4cebf5-4aca-4ec7-af05-266a18d011b5"
      },
      "outputs": [
        {
          "name": "stdout",
          "output_type": "stream",
          "text": [
            "1                   layin n bed headache ughhhhwaitin call\n",
            "2                            funeral ceremonygloomy friday\n",
            "4        dannycastillo want trade someone houston ticke...\n",
            "5        repinging ghostridah14 didnt go prom bc bf did...\n",
            "6        sleep im thinking old friend want hes married ...\n",
            "                               ...                        \n",
            "39995                                      johnlloydtaylor\n",
            "39996                               happy mothers day love\n",
            "39997    happy mothers day mommies woman man long youre...\n",
            "39998    niariley wassup beautiful follow peep new hit ...\n",
            "39999    mopedronin bullet train tokyo gf visiting japa...\n",
            "Name: content, Length: 36802, dtype: object\n"
          ]
        }
      ],
      "source": [
        "print(data['content'])"
      ]
    },
    {
      "cell_type": "markdown",
      "metadata": {
        "id": "7LyyrPCEit1m"
      },
      "source": [
        "# **Lemmatisation**"
      ]
    },
    {
      "cell_type": "code",
      "execution_count": null,
      "metadata": {
        "id": "JZgSz4M1iy47"
      },
      "outputs": [],
      "source": [
        "from textblob import Word\n",
        "\n",
        "data['content'] = data['content'].apply(lambda x: \" \".join([Word(word).lemmatize() for word in x.split()]))"
      ]
    },
    {
      "cell_type": "code",
      "execution_count": null,
      "metadata": {
        "colab": {
          "base_uri": "https://localhost:8080/"
        },
        "id": "lzR54RQWiy2b",
        "outputId": "eb3b72f4-23a0-458f-bcaf-a45bfe34a28e"
      },
      "outputs": [
        {
          "name": "stdout",
          "output_type": "stream",
          "text": [
            "1                   layin n bed headache ughhhhwaitin call\n",
            "2                            funeral ceremonygloomy friday\n",
            "4        dannycastillo want trade someone houston ticke...\n",
            "5        repinging ghostridah14 didnt go prom bc bf did...\n",
            "6        sleep im thinking old friend want he married d...\n",
            "                               ...                        \n",
            "39995                                      johnlloydtaylor\n",
            "39996                                happy mother day love\n",
            "39997    happy mother day mommy woman man long youre mo...\n",
            "39998    niariley wassup beautiful follow peep new hit ...\n",
            "39999    mopedronin bullet train tokyo gf visiting japa...\n",
            "Name: content, Length: 36802, dtype: object\n"
          ]
        }
      ],
      "source": [
        "print(data['content'])"
      ]
    },
    {
      "cell_type": "markdown",
      "metadata": {
        "id": "CeATtz52mtGG"
      },
      "source": [
        "# **Stemming**"
      ]
    },
    {
      "cell_type": "code",
      "execution_count": null,
      "metadata": {
        "id": "OycYrIqOms0f"
      },
      "outputs": [],
      "source": [
        "ps = PorterStemmer()\n",
        " \n",
        "data['content'] = data['content'].apply(lambda x: \" \".join([ps.stem(word) for word in x.split()]))"
      ]
    },
    {
      "cell_type": "code",
      "execution_count": null,
      "metadata": {
        "colab": {
          "base_uri": "https://localhost:8080/"
        },
        "id": "cn0vsoaTiyzl",
        "outputId": "fa941dc8-0cca-4a99-9189-51e7c964046b"
      },
      "outputs": [
        {
          "name": "stdout",
          "output_type": "stream",
          "text": [
            "1                    layin n bed headach ughhhhwaitin call\n",
            "2                              funer ceremonygloomi friday\n",
            "4        dannycastillo want trade someon houston ticket...\n",
            "5        reping ghostridah14 didnt go prom bc bf didnt ...\n",
            "6        sleep im think old friend want he marri damn a...\n",
            "                               ...                        \n",
            "39995                                      johnlloydtaylor\n",
            "39996                                happi mother day love\n",
            "39997    happi mother day mommi woman man long your mom...\n",
            "39998    niariley wassup beauti follow peep new hit sin...\n",
            "39999    mopedronin bullet train tokyo gf visit japan s...\n",
            "Name: content, Length: 36802, dtype: object\n"
          ]
        }
      ],
      "source": [
        "print(data['content'])"
      ]
    },
    {
      "cell_type": "markdown",
      "metadata": {
        "id": "Vgivbvb1oOy5"
      },
      "source": [
        "# **Removing 10,000 rare words**"
      ]
    },
    {
      "cell_type": "code",
      "execution_count": null,
      "metadata": {
        "id": "f7DhR5aqiyre"
      },
      "outputs": [],
      "source": [
        "freq = pd.Series(' '.join(data['content']).split()).value_counts()[-10000:]"
      ]
    },
    {
      "cell_type": "code",
      "execution_count": null,
      "metadata": {
        "colab": {
          "base_uri": "https://localhost:8080/"
        },
        "id": "ypxX6YbgooPO",
        "outputId": "8c54339f-f78c-45a9-aff6-11ff328cc3d6"
      },
      "outputs": [
        {
          "name": "stdout",
          "output_type": "stream",
          "text": [
            "['slurpe', 'phoneit', 'zekemurphi', 'stooopit', 'rgambarini', 'goofin', 'greencapt', 'himquot', 'mattmarquess', 'eeeperschoic', 'weidl', 'wantplz', 'krissylin', 'wholl', 'matthalveland', 'alanajoy', 'quoteat', 'cairn', 'pushit', 'poorest', 'somepleas', 'wrongand', 'httptwitpiccom67318', 'indiepixi', 'andytaylorson', 'sesion', 'usquotwhat', 'littlewel', 'vieriu', 'ryland', 'httptwitpiccom4wn29', 'paulamackay', 'werecat1', 'minequot', 'wrigley', 'woodywoodford', 'trackk', 'acousticalt', 'zoita', 'bhaaji', 'janey', 'humira', 'tapeworm', 'tinocochino', 'ilsedelang', 'amytcathi', 'cokebabyy', 'tci', 'emzo2k9', 'outnow', 'tantrum', 'mercenari', 'parikh', 'wolfkitten', 'cookoff', 'selfvalid', 'everblu', 'churchsunday', 'gard', 'yd', 'minneapolisst', 'serendip', 'overlap', 'pkuer', 'atravï¿½', 'niiight', 'nttn', 'befibeez', 'caaaaant', 'purrtti', 'girland', 'guyquot', 'manthigh81', 'amandagelso', 'hahahaa', 'xl', 'quotyummyquot', 'quickpwn', 'basment', 'sikaflex', 'ambitiousmurphi', 'worldtravelblog', 'tamam', 'hellooo', 'troi', 'shadowdeal', 'polo65th', 'httpmudroombostoncom', 'atownbrown08', 'izaartillero', 'rehearsestarv', 'dipfico', 'peril', 'totter', 'ayend', 'centro', 'blooddrunk', 'micoleros', 'boredboot', 'powerpool', 'tricina', 'cassetetap', 'michaeldunlop', 'iphoneappattack', 'myleston', 'xthehappyemox', 'estou', 'hopefulauthor', 'rookiepaul', 'mrstreme', 'hershey', 'incarnatedso', 'quotbattl', 'akashathekitti', 'slowmot', 'carpool', 'ld', 'alohazen', 'laundrynev', 'kwijt', 'youtherefor', 'exorr', 'agarcia1097', 'andrew2229', 'twttrg', 'bonesso', 'rainbut', '10ti', 'lvlyfairygrl', 'stephmccal', 'charchao', 'mrhollaout', 'httpmylocme21cn', 'havoc', 'birdsal', 'morningafternoonnight', 'smwhere', 'yeahhhh', 'nando', 'gimp', '554', 'httptwitpiccom66nvm', 'greatttttt', 'showwwww', 'killah', 'ayyojayfressh', '201th', 'playground', 'fpudude10', 'shocker', 'stephbfli', 'lisabernart', 'cindeelean', '888', 'emeraldashle', 'pmaniac', 'kev95', 'jonjordan', 'leaveprici', 'hellojao', 'nerfherd', '256', 'outgo', 'anarchygarden', 'kristinahorn', 'missneyra', 'tangibl', 'poopedin', 'hving', 'dmbdork', 'vri', '120amhead', 'joemoit', 'httppodilatesgrpp210508', 'englishros', 'beeand', 'hollingsworth', 'marcooth', 'thoughtfulu', 'meetamp', 'humbug83', 'warmup', 'aaaaaalcohol', 'photojunki', 'iainfunnel', 'jeremydmil', 'tycrisp', 'juliabronwyn', 'rikkalaniz', 'demrawd', 'dayglad', 'hemalradia', 'buss', 'mobilebomb', 'ncteacher77', 'groovi', 'servicesquot', 'thejimski', 'arrggh', 'ciaobella50', 'sthlmbeat', 'jonasbrothersox', 'napervil', 'chanicedevonn', 'stephaneww', 'sorrowquot', 'mommymus', 'astronick', 'bologna', 'miafreedman', 'nickjfrost', 'twitterolog', 'myinnertricia', 'kenzonian', 'sickwhat', 'wantttt', 'terriesoberg', 'starlingpoet', 'realizewhen', 'hardwear', 'penpen72', 'buttock', 'cocodkr', 'pigment', 'reprezentz', 'alcoholquot', 'apathi', 'parde', 'httptwitpiccom677bi', 'mysticrose01', 'hillaryohara', 'quotabl', 'yuup', 'amyjbennett', 'greengoo', 'sickophantikmnd', 'doneganland', 'alsotop', 'dbuc09', '16k', 'bornean', 'deauxboi', 'freakonomi', 'orderingno', 'willyemai', 'emailswowcool', 'prodigy702', 'xoxoxoxoxoxo', 'blimey', 'stubinho', 'glamor', 'laurapasik', 'moma', 'siargao', 'flightwa', 'brianneudorff', 'pshdidnt', 'ohmoss', 'xonessa', 'yourboogiegirl', 'anndd', 'seanlight', '24hour', 'waiit', 'haappi', 'jlee07', '722', 'shoot4the5hol', 'wintour', 'cervic', 'masseus', 'tataindicom', 'booksold', 'karnataka', 'speakernya', 'bork', 'breton', 'elliottuck', 'goodget', 'mcevoy1rachael', 'promotingy', 'woofer', 'omega', 'thepbg', 'katieandheart', 'maryquot', 'erocc', 'shawnemerriman', 'sedzoz', 'randiellen03', 'flashcamp', 'harleyplay', 'camb', 'ninth', 'emillyschwindt', 'pokernostra', 'owwjust', 'incapacit', 'deixa', 'thewhitemag', 'blondmobil', 'sugarsharrk', 'quothairsprayquot', 'shtich', 'rysherd', 'photo3180758jpg', 'basicallyheadach', 'jeg007jeg', 'ownflitt', 'tennesseequot', 'deezi', 'drmeredithgrey', 'punter', 'fuzzballit', 'afternooni', 'sabido', 'coffeebreakdmv', 'sacrific', 'httpmylocme1zpi', 'anymorejust', 'camabigail', 'amj', 'ileanedov', 'robinmeur', 'letsdrawmistl', 'victoia', 'gawhatafeel', 'seriuosli', 'desertstar95', 'jlandel', 'sharpen', 'httptwitpiccom4w67l', 'xograceox', 'groul', 'yeey', '5409', 'mothersdayyyyyyyyy', 'nahtuhle', 'caiticaitlin', 'b32', 'overheard', 'khtemplar', 'wahh', 'gh5', 'spooohort', 'mea', 'overthought', 'plantati', 'zzerb', 'toke', 'cask', 'duckamin', 'caitmccoy', 'sonicsalamand', 'httptwitpiccom4wp8l', 'lillytown', 'geneviev', 'rebeccaleigh', 'zi', 'bookfac', 'courvidlove4eva', 'animeshiredan', 'httpmylocme20gf', 'auggie5000', 'normaland', 'callmaggi', 'lorettak', 'nia', 'pssthoy', 'screeni', 'growwear', 'afceahelen', 'sheilasela', 'roundnround', 'againmiley', 'squeal', 'outright', 'glitzygloss', 'ingek73', 'httpbitly1aa1rf', 'thom1937', 'whwha', 'engagementbrid', 'httptwitpiccom67z2q', 'skylar', 'pretty23rd', 'httptwitpiccom66shw', 'dj71', 'profyjust', 'idyl', 'glassez', 'nalora', '244', 'tudyk', 'nsane8', 'daytakn', 'omgzzz', 'kellyke28', 'groundup', 'httptwitpiccom67gwh', 'todayisaprosper', 'jroberson4', 'andrewjones20', 'sweetlibertin', 'shanterowlandd', 'lolmayb', 'thanksgiv', 'bigboyramsack', 'hmmpph', 'morningjust', 'shivshankar', 'jrobertstwc', 'gaeth', 'updatd', 'letterstochri', 'jtim', 'paulacampbel', 'kirsten613', 'gaaay', 'samanthuh', 'heatherwelliv', 'luuloo', 'xaviermathew', '1111make', 'danielfield', 'dohforgot', 'clubon', 'morph', 'httptinyurlcomp2l88x', 'athoob', 'noooooooooo', 'fuseboxradio', 'geekshop', 'umtil', 'thobut', 'httpwwwaporg', 'teresanguyen', 'bunnybridget', 'readerquot', 'grievanc', 'malamang', 'mspixieriot', 'lifespan', 'madlymint', 'allicandy95', 'whaaaaaaaahhhh', 'flyingphotog', 'sampsonn', 'zedshaw', 'coutchcouch', '25kyr', 'quotlordmitchnz', 'cactu', 'httpwwwmyspacecomsteve005', 'crazyballerina', 'everday', 'basquashkon07ghostsengoku', 'sharingi', 'vinylclad', 'perci', 'liddl', 'cloggin', 'moiuae', 'astor', 'hpeikemo', 'tinogom', 'faaar', '600th', 'animuxia', 'lordkartz', 'zindex', 'asinisterduck', 'hilsatlvsonlin', 'entiti', 'andyw', 'nightsigh', 'kevinchinart', 'kirbywhitehead', 'seru', 'antboogieworld', 'snapp', 'ambyr', 'mercedez000', 'semana', 'annavodka', 'streetquot', 'akmourad', 'httpustream2toa', 'xampp', 'shriya', 'cutiee', 'deforestationso', 'quottodo', 'practitionerampsp', 'shakespear', 'north40', 'httpaudioboofm', 'softsynthsdaw', 'lrntoswim', 'gladsad', 'sethrow', 'tymrichardson', 'memo', 'dunia', 'buuu', 'sleepyp', 'janetleejohnson', 'goshi', 'jalenros', 'if', 'jessimon', 'quotsong', 'alabamay', 'lmdlaura', 'norabf', 'janae24', 'dangerjo', 'headso', 'trippingtraci', 'httpmegaredpacketcom', 'moefugg', 'quotgam', 'quotearlyquot', 'anythingbut', 'todayhow', 'travisrobert', 'isaacmascot', 'nettut', 'amytropoli', 'norf', 'fireflythat', 'killakim', 'ampproduct', 'basslin', 'fckeditor', 'jgood', 'serenetan', 'syoofthedead', 'feelm', 'cuteim', 'winninggggg', 'youself', 'deanlusk', 'pranajama', 'roadshow', 'rah', 'nailpolish', 'mastermind', 'amazeeeeee', 'bucki', 'looosi', 'dangriffey', 'tww', 'kreativemess', 'patgarrat657961', 'ryancabrera', 'ohno', 'momebi', 'bowlmilk', 'wwisewolf', 'jodiendo', 'junkyardbluess', 'leamcfly17', 'dorothyjburt', 'djtechtool', 'uso', 'busygod', 'hisweety', 'wonderdra', 'slipnow', 'enbrel', 'etownjenn', 'guuss', 'curdl', 'curb', 'quotpromiscu', 'veroniqu', 'paedofil', 'wendyhous', 'weathermenrneverright', 'dono', 'tutto', 'baker', 'kdpartak', 'dii', 'michv', 'againdarn', 'bombard', 'httpbitlyeyrtt', 'noy', 'slidebar', 'baaaaaaaah', 'thisoh', 'upthat', 'narcot', 'talentdmrripley', 'torchwood', 'robertrich', 'wishlist', 'foreverr', 'sally', 'httpqikcomvideo1638824', 'godtim', 'goodsaf', 'thaboyophici', 'hillsdoctor', 'mist', 'kapilb', 'meijer', 'laloo', 'todaytottali', 'vadimkozhin', 'macvim', 'wr0te', 'sleepthen', 'dopegirlfresh', 'richiban', 'iskrin', 'nicem', 'renu19', 'janitorusrex', 'itttt', 'ventolin', 'acquaint', 'reloc', 'aduvall818', 'famousquot', 'lonestar', 'taxgreat', 'capabl', 'coffeeplu', 'caluvminwoo', 'aracheologist', 'balisag', 'inanz', 'ng01', 'illinoi', 'degen', 'caraciao', 'cybercriminaloverlord', 'heeder', 'driveor', 'vincenthofmann', 'teeenuhh', 'yun', 'imreallywildin', 'shinningat', 'snarkandboob', 'iloveyoult3', 'atti', 'tritip', 'souffl', 'rhib62', 'dermaesthetix', 'jalanii', 'goddamn', 'packil', 'httpffim3nid8', 'quotthestratverycooldomainquot', 'richiesosa', 'niokiaquino', 'improperhostess', 'builder', 'slr', 'realnot', 'countryquot', '650mb', 'besufern', 'caitran', 'chantelmybel', 'ladyluck13', 'bellagio', 'neemah', 'speakerphon', 'jakeyboy26', 'coldplaylt3', 'shipperz', 'quotcod', 'ï¿½net', 'bigggest', 'forrrrrrrrrrest', 'situpp', 'thesedream', 'broompark', 'jarekpastor', 'bp', 'urib', 'lisanova', 'lï¿½rdag', 'xxsam01xx', 'o0hemmi', 'httpplurkcompx2bnl', 'indic', 'dayawonton', 'bedgotta', 'notetoshel', 'ialejandro', 'kofibabi', 'httptwitpiccom4w9p', 'httpblipfm5jgj3', 'mayalabeedc3', 'recours', 'quotexperiencequot', 'alferretti', 'xkaraxcupcakex', 'bornlisa', 'hypahdorkx3', 'funoon', 'dallasjud', 'accountgt', 'whatevahh', 'alexandriale', 'ethan2rock', 'nhanh', 'baptiz', 'nomand', 'shivaniramaiah', 'enyon', 'eitha', 'sensationalistso', 'yetand', 'omd', 'banett', 'rutledg', 'lest', 'videomi', 'buggin', 'shahruz84', 'quesadiaa', 'hnnhmllr', 'semiintox', 'mimick', 'tda', 'minami', 'interuptionsquot', 'chï¿½a', 'sparklydevil1', 'quoteffortquot', 'thebleachwork', 'vonnvonn', 'exato', 'siew', 'musictest', 'againfor', 'schoolquot', '6492', 'automobil', 'httptwitpiccom48gy0', 'wormi', 'micahrowland', 'ashmart', 'smokey', 'blackston', 'valeria', 'youhhhhhhh', 'rootifi', 'yon', 'bittech', 'cassett', 'emilystack', 'bww', 'manderbeth', 'kingtardi', 'kaylt3', 'phog', 'erock2106', 'djeightmil', 'sakata', 'jumblejim', 'farrrrr', 'kbphoto', '30ï¿½', 'blancmang', 'sendsome2m', 'daysmh', 'painkil', 'lynsay', 'carlmi', 'httpisgdj6zi', 'jackalopequot', 'kutski', 'mmmk', 'tmg25', 'elizabethannn', 'httpbitlyttvn2', 'qrandma', 'sublime98', 'leas', 'munze', 'janet', 'farctum', 'julesfm', 'blatantli', 'beatbox', 'ocharley', 'yayou', 'flowi', 'beautifyl', 'xcept', 'shelbyrott', 'b50', 'bronzethumb', 'havta', 'angisori', 'steer', 'thebfound', 'quotbless', 'gabemedina', 'knnnowwww', 'wavelord', 'pram', 'kapag', 'vieirasboot', 'aryari', 'faithjuliana', 'gregxgor', 'lemsip', 'adamthestud', 'bensu', 'sane', 'davorkapozgan', '930forgot', '80sfelt', 'httptinyurlcomdl2upx', 'gorgeousgg', 'greatfirewallofchinaorg', 'camping', 'bgbrwneyesni', 'daninho502', 'ecpm', 'httptinyurlcomdcxoti', 'snedwan', 'goaudio', 'pilarlovesy', 'angelabc', 'karinphillip', 'rooeh', 'ctvcanadaam', '13155', 'ej', 'whoott', 'xomusicloverxo', 'daxxbondoc', 'salsa', 'yoooouuu', 'shanesakata', 'cinnamin', 'httpwwwevanpricecoukindexhtm', 'recover', 'wooleri', 'fosforo', 'reutimann', 'missuzliipzl', 'backgroung', '371', 'gemstar', 'upsidedown', 'equalis', 'bravi', 'adter', 'plana', 'extremewithin', 'httpblipfm5jg6f', 'tudor', 'c4ss4ndr4', 'thegrat', 'peyton', 'slayer89', 'skewp420', 'pokerfacebook', 'laurenohh', 'wwwtwitpiccom', 'therefli', 'mobilem', '66', 'httptwittercomdjcyana', 'archnialeitl', 'greatgot', 'itm', 'lng', 'nathangilm', 'mcosar', 'brandihoov', 'zoidberg', 'schoolcolleg', 'watir', 'lurkey', 'jocop', 'rockstargirl209', 'clairezee86', '253', 'grabrielrossi', 'lentil', 'sweetcharlott', 'jadeskylar', 'nienerene', 'hiyaaa', 'grademock', 'thanksther', 'thees', 'hardd', 'contern', 'voor', 'branchuchan', 'noww', 'pque', 'impal', 'erasur', 'deadmanwad', 'httptwitpiccom4wah5', 'pattymlt', 'courtbolin', 'quotfrom', 'qo', 'grï¿½ï¿½en', 'dosjon', 'shantl', 'foke', 'veeekay07', 'bedandbreakfst', 'marijo008', 'big1', 'neeed', 'funlik', 'sundayshoutout', 'jljf', 'cleverindi', 'tomoo', 'playabl', 'httplfpresscanewsstand', 'cenar', 'zeitgeist', 'earth2mar', 'mocitytwit', 'bboy', 'damnat', 'httptwitpiccom67tcr', 'kirsten95', 'flipflopschel', 'sirgard', 'chewin', 'elliottja', 'beakpi', 'ciaran', 'romp', 'desist', 'otherdad', 'lalalalexi', 'jaicenia', 'booandging', 'bsouthern', 'httpplurkcompstsir', 'yultron', 'sleeeeeeeepi', 'alinachka', 'belly9matern', 'juggernautt', 'juicyjesso', 'bhl1', 'oooooh', 'httptinyurlcomcf63ud', 'beckylopez', '2listen', 'lmaoi', 'bruh', 'holidayparad', 'huski', 'lemziipi', 'janeyha', 'quotpeep', 'haver', 'khayyam', 'camenmarri', 'ellabellcullen3', 'dank', 'workkk', 'timberlakedoin', 'coldddd', 'jiah', 'flor', 'hljx', 'httptwitpiccom66xjl', 'bofa', 'httptwurlnlueivwi', 'rampr', 'fmli', 'hoopsiscrazi', 'elabor', 'lynette21xl', 'alxconn', 'wonko42', 'itsmesammond', 'krazyfrog', 'freed', 'te0h', 'zjelektra', 'terrycafolla', 'brainard', '2goin', 'karramandi', 'deficit', 'homeworkbor', 'rosaliehcullen', 'str8', 'joewtf', 'mgiraudoffici', 'techn9n', 'thomasi', 'ehuffti', 'homee', 'andrewapuya', 'ojtibi', 'httpfffffatspinningvinylipodapp', 'sexquot', 'databook', 'chictopia', 'utjenn', 'msclara', 'daugter', 'mrsmw', 'pleasss', 'kakoivisto', 'spurat', '3000quot', 'dieingpleas', 'n95', 'aaalisson', 'tmnt', 'boundri', 'kakrisch', 'nitesofsuburbia', 'dissect', 'gorjess1', 'inland', 'my2cynt', 'casualintrud', 'overlolthank', '600mile', 'incl', 'jokei', 'sophieeeelouis', 'httptwitpiccom66uor', 'bleah', 'willisfac', 'tmh', 'workbut', 'zeemalm', 'afternoonit', 'karenbradi', 'significantli', 'kaylen', 'httptwitpiccom669nm', 'animalhouse4384', 'celebritystatu', 'redund', 'brah', 'buglegirl', 'casper1201', 'geno', 'jmariu', 'yardsal', 'xxmixedmodelxx', 'mpumalangawa', 'sash', 'twittl', 'paulbaan', 'appleepye', 'russzart', 'hollywoodjust', 'orchidflow', 'improvis', 'quotground', 'petercoffin', 'funnyu', 'embri', 'izzycullen', 'stupor', 'dreamworthi', 'jmccartney', 'favouritegot', 'mrsfudgecrumpet', '30stmfan', 'rosari', 'butit', 'ahgg', 'downtowndian', 'youpleas', 'jackeo313', 'muahaz', 'josiechang', 'armer', 'montday', 'docent', 'sighthank', 'baad', '2for1', 'josieinthec', 'toddh3284', 'possib', 'fakepastormark', 'uniteddogscom', 'jessicacorban', 'umbrellai', 'melissaha', 'richardmorgan', 'mcalist', 'shooooe', 'gregorbenjamin', 'atlteabag', 'davidakaplan', 'jordanger', 'unodeello', 'ordinarili', 'httptinyurlcomccvo3h', 'feeler', 'prereunion', 'romancescomedi', 'httpmypictmefuz', '95sxcom', 'mysoli', 'davecandoit', 'techmem', 'effervesc', 'maureen', 'sufka', 'michaeltao', 'kaydeeismeeko', 'hostip', 'tastemyink', 'lionel', '3ware', 'streetcar', 'mainland', 'mistersex', 'ovid', 'serenad', 'bedipod', 'houss', 'grtsat', 'maaaaannnn', 'missom', 'annieareyouohk', 'flawless326', 'greaattt', 'wahliaodotcom', 'scottreynold', 'thislol', 'adecembertruth', 'terrymy', 'seeeeeeeeed', 'httptwitpiccom4wrxq', 'comanik', 'sarajchipp', 'httpti', 'jrknaughtyangel', 'imit', 'gettn', 'teten', 'mrsvaught', 'davidguettaen', 'yaphilj', 'atldarealest', 'clemati', 'emporium', 'cosmic', 'muffclass', 'victoriastrauss', 'aeayl', 'ericaleigh777', 'colorlight', 'artcon', 'tenenen', 'poisonivy69', 'chantelnicol', 'httpisgdiprr', 'meriel', 'visio', 'reclin', 'shinyflash', 'blonder', 'whattttev', '100rabh', 'dpressman', 'quotmatquot', 'shmeezi', 'touringt', 'girlnow', 'nightne', 'devilishdelish', 'giardia', 'quotnakuh', 'madnessofmani', 'civilis', 'httpdisqus11w', 'wnat', 'httptumblrcomx2k1wgbpm', 'httptinyurlcomoasxx2', 'kristinstewart', 'gloopi', 'quoturlautoexpandquot', 'khsa', 'landfil', 'sarahkov', 'indieandyy', 'mbm88', 'karamcdowel', 'jeweljk', 'dilyaela', 'ovah', 'moncho33', 'sooooooooooooooooo', 'youuo', 'lewington', '6789998212', 'jsnorwood', 'bexieladi', 'oucccccccch', 'aldi', 'bettyt', 'chevron', 'mozconcept', 'toryx', 'augustgrrl', 'loev', 'smackdown', 'slightest', 'tennydesign', 'proli', 'wordsminut', 'herrowitsjess', 'djfreezi', 'shannan', 'damni', 'hellookitti', '528', 'd300', 'kristianinicol', 'lasttt', 'smiley49', 'jennifeaniston', 'atat', 'terrellbrw', 'biiip', 'mohdismail', 'wayloldun', 'mebec', 'mcaulay', 'holdem', 'httpbitlyh14tw', 'rage', 'mogeezi', 'bonnieguthri', 'flipflop', 'thinkk', 'eli', 'deb124', 'actonm', 'cinematographi', 'heartsong', 'paulmcgwinn', 'ladyanne525', 'shiney', 'mercutiom', 'rosiegyo', 'bassisland', 'kimberlyhopkin', 'orchestraand', 'jwphillip', 'letskilldav', 'talinda', 'bencollieruk', 'mingin', 'fnadzirah', 'cocok', 'elgin', 'elvira', 'shod', 'peekaboo', 'hurryup', 'headgeek666', 'timeshaha', 'not', 'kitteh', 'ontdstartrek', 'wangotango', 'keeleykerrin', 'zeralyn', 'torbenge', 'opi', 'fineart', 'killeen', 'carywilliam', 'leeaav', 'scriabel', '60minsnobigd', 'lafloozita', 'exsaust', 'ughhhhhhhh', 'alltir', 'cleans', 'lizmyxx', 'mintyboi', 'backroom', 'shook', 'caseylpark', 'bbbrrr', 'bandand', 'whaa', 'tldn', 'showquot', 'larrysullivan', 'beeeyeteeseehedg', 'blokey', 'stationari', 'janequot', 'signific', 'hurrr', 'smeer', 'narrat', 'armybut', 'tiredddd', 'bannerbomb', 'santojay', 'iamp', 'hokutokonishi', 'rhysahugh', 'httpappsfacebookcomdogbookprofileview5163602', 'disneybest', 'tapat', 'mountainjam', 'eljuansimon', 'quottwilight', 'lolmonst', 'owt', 'inutero', 'httpplurkcompsv5bb', 'petabridg', 'bankrupt', 'kakatweak', 'cento', 'quotdrink', 'bellothika', 'xcharlotteyx', 'heidihabibi', 'seee', 'httpplurkcompsu3dg', 'demonata', 'hicup', 'walki', 'itskany', 'bopuc', 'ithttptwurlnljaq5j4', 'brittanytast', 'mitzi', 'burton', 'stau', 'jesssev', 'enjoyin', 'sadsho', 'todayhop', 'deadra', 'dunker', 'cii', 'officeespeci', 'garner', 'crystaljane', 'dhmptn', 'rosiecd', 'delbertshoopman', 'dayon', 'kellyaelliot', 'reseal', 'wowthat', 'nikkijean', 'dfg77', 'phootbooth', 'quothisquot', 'fm97', 'kimberlycouzen', 'tamij', 'roe4ever1', 'alyssa133', 'neitherrrr', 'bhufford', 'psshh', 'badsenoritaa', 'httpplurkcompx2bha', 'guitarherodev', 'shrit', 'xxdepinkladyxx', 'happyskool', 'faison', 'fooood', 'dinghi', 'kenakasoulstar', 'gallor', 'laterquot', 'i733', 'shortstack', 'pauldoussay', 'disintegr', 'vikkijcapra', 'atlantiscold', 'wbae', 'toniht', 'genoes', 'rayleneornela', 'mysor', '214', 'lightscrib', 'jm', '187', 'httpmikefrizzicomblogp192', 'doggymi', 'callsor', 'enevit', 'rosher', 'whateverwork', 'shweeeeet', 'aprreci', 'englishquot', 'frolick', 'nci', 'decongest', 'sumtxkid', 'songmak', 'gale', 'paperback', 'httpplurkcompx2qkb', 'lazzzi', 'wildbluebug', 'compliant', 'dovidul2', 'holmescnn', 'snowflak', 'thingsbut', 'httptwitpiccom675t7', 'magician', 'cyberprvideo', 'aur', 'bridgetsuppl', 'jasonsantamaria', 'neonbutterfly1', 'col4man', 'headbangersbal', 'garrul', 'dawnmarieh', 'activityquot', 'mumphlett', 'mrijuana', 'erikah', 'katienoonan', 'teeheei', 'joannarobbin', 'oheryn', 'dzaniff', 'daysmart', 'mhensle', 'scorecard', 'shannonkuhn', 'quotnev', 'peppersbeatl', 'thehoosiersuk', 'ryanakath', 'sampd', 'asynja', 'xblapsn', 'daverexwood', 'thorp', 'purlingsprit', 'responsiblyquot', 'kngibbard03', 'timhahnproject', 'dati', 'craziier', 'snowi', 'jaystokes4', 'themyet', 'lilicos', 'mysweetheart', 'algonquin', 'artybloodyfarti', 'thornberri', 'wwwsamstephenscom', 'bbye', 'thecraftykitten', 'horrifi', 'kar', 'dianen', 'lunchn', 'orphan', 'foundquot', 'quotgroup', 'iveland', 'patriciap1977', 'helpltltltlt', 'earthxplor', '400th', 'settingsgtdesign', 'charlottespeech', 'vickybonnett', 'godtalk', 'crunchmonkey78', 'relist', 'hilar', 'mpsh1a', 'shanenassiri', 'palmpr', 'latinlt3', 'gt90mph', 'breasticl', 'sweetthang15', 'ameec3', 'danalynnd', 'itsnikkitim', 'breezehop', 'yeee', 'mike0hh', 'httptwibescomspin', 'lindseyjaff', 'teensthank', 'heï¿½', '3point', 'degreas', 'hartluck', 'mlimburg', 'ccrharri', 'djpayc', 'httpisgdjrla', 'oliveramppet', 'ireal', 'jdrydenuk', 'delt', 'spacehotel', 'piranha', 'dent', 'vonniee', 'ching', 'markyboosh', 'cinemach', 'quotwant', 'httptwitpiccom4wkp', 'vernaewilliam', 'twopiec', 'cancellednow', 'chutzpah', 'evrytim', 'michaelmphys', 'boreduntil', 'revisionn', 'twi', 'shaymonkey', 'drunkfda', 'roqayah', 'iamcattsadl', 'sheistheemili', 'pretentiousgit', 'smarmi', 'leme', 'roam', 'exhilar', 'fruitofdoom', 'aulia', 'dorr', 'liquidtoffe', 'amandababbi', 'nellcon', 'melissahourigan', 'lmrb', 'jordan23capp', 'civ', 'httptwitpiccom4ja93', 'maryrrobert', 'personermdifficult', 'modernemot', 'wildwood', 'orphanth', 'ï¿½14', 'perrrfect', 'finsih', 'quotthanksquot', 'stryperband', 'homeandhos', 'bournemouthecho', 'showima', 'cme', 'chickenstudio', 'scorpian', 'matthewmartini', 'braggin', 'dudett', 'kasa', 'amish', 'dpbkmb', 'inorit', 'langsunghaha', 'downgrad', 'yardhous', 'maggieyan3', 'yorki', 'dlukasrossi', 'ericanurney', 'knowem', 'loiusa', 'socksbrockin', 'vectorfunk', 'httptwittercompaynetsystem', 'thessaloniki', 'httpisgdufig', 'lorirusso', 'capsgirl', 'banksvil', 'justad', 'carnisada', 'thecre8', 'septemberblu', 'redcaphifi', 'neb', 'shina', 'zak', 'slicedlim', 'idiotatgameszombi', 'b7', 'dalydegagn', 'crangsti', 'tisfortammi', 'epi4', 'uktv', 'bobalert', 'mightyjunebugg', 'againsav', 'aianna21', 'yupunfortun', 'slecht', 'whipoorwil', 'waktunya', 'httptwitpiccom4w9w6', 'vengeancechrist', 'kelsistoudt', 'superwomanak', 'grungi', 'coola', 'irenedepp', 'jazzii3phiizzl3', 'nyquot', 'weirton', 'oreowolf', 'idki', 'kujakupoet', 'workcri', 'christianedward', 'weddingsit', 'whiteman', 'psychiatr', 'boringgg', 'babyexpat', 'grannyquotth', 'maccym', 'bifnak', 'reallyanyway', 'snagi', 'quothometown', 'inbound', 'tumblar', 'dameenroug', 'pizzeria', 'mikefrizzi', 'twitteriff', 'dadress', 'redtap', 'naan', 'mizzlalabaybii', 'kojikun', '13riandavi', 'happenedi', 'mmuhlig24', 'lamebut', 'abcdud', 'zhonguoren', 'denybutterfli', 'leavinim', 'dizzydezzi', 'lightner', 'xxyoushinexx', 'elus', 'haciendo', 'i0n', 'amquot', 'whatswhatsian', 'acct1b', 'steffsoflii', 'bamboojad', '299', 'massagedk', 'waydont', 'managemyhomecom', 'dannycastillo', 'ginorm', 'natï¿½rlich', 'melissa0616', 'nevah', 'greatif', '198', 'jacobyshaddix', 'wiii', 'eventhoough', 'interwebz', 'httpblipfm5z2g9', 'foa', 'wai', 'natezim', 'casson', 'beckamcfli', 'adamkruth', 'vagabonddandi', 'yesterdaybest', 'toolbar', 'roooooooooom', 'cuppi', 'favorito', 'httpbitlyhxlfm', 'nooobodi', 'tequeï¿½o', 'ijsthe', 'lucien', 'whitespider1066', 'yourmajestyy', 'torresk', 'you1', 'xhotandfatx', 'giftin', 'sundressquot', 'yeahi', 'bwahaha', 'httptwitpiccom4ja12', 'hatsandhug', 'lesbiancaf', 'httptinyurlcomcv5nw8', 'analogu', 'fii', 'pellerici', 'rosal', 'picasso', 'broc', 'peepl', 'shannon1234', 'opinionated', 'kelseyrose56', 'taurenlegend', 'lycka', 'anotherheheh', 'mmmj', 'masqueradetitan', 'urm', 'voicesmileeyeslaughand', 'djwhiteboyyy', 'woeiwoeiwoei', 'httpbitlyizkab', 'jaycool2k', 'alsween', 'highnesscrystalmariedontluvspiteanymor', 'notmuch', 'httpyfrogcom0zr2jqj', 'mosapp', 'httptrimjtl8', 'xsaydax', 'plaqu', 'paraben', 'lightbik', 'rustyrocket', 'pretzel', 'gil', 'wnna', 'twittererer', 'quottoday', 'piddl', 'httpmylocme1zx6', 'chiefi', 'callen', 'morningish', 'snarkattack', 'httptwurlnlhxux3o', 'rdkpickl', 'rebelrais', 'sarahfloss', 'onewith', 'welcomeanytim', 'knightedbishop', 'lifesaver45', 'kspidel', 'calpol', 'johnamussen', 'mime', 'philritchi', 'oneletter', 'ohsumm', 'mikeplant', 'evlynn', 'sunkist', 'squirel', '12k', 'mtml', 'pt12am', 'beeeeaaaaatooooo', 'netvib', 'fledg', 'postsday', 'httptinyurlcomq3u32x', 'honeyse', 'websiteown', 'bangalorean', 'prick', 'bluewolf2072', 'mexecut', 'cirquelasvega', 'juast', 'sunshinehmph', 'itmi', 'rssanborn', 'panwa', 'smirki', 'scuba', 'aski', 'proppa', 'gtgtwhi', 'poser', 'ownim', 'httpyfrogcom13pdrmj', 'gaha', 'alexwaddel', 'longgggggggg', 'gvesenka', 'qoincideencia', 'psy101', 'gluttoni', 'scenic', 'chipper', 'muuaah', 'rhumatologist', 'nnaa', 'procut', 'kiyosaki', 'remzolog', 'postin', 'quotnah', 'oldveri', 'chilin', 'chichi', 'moran', 'sendin', 'janmcq', 'craigmcgil', 'poomalairaj', 'grantarnow', 'mrbenzedrin', 'okw', 'fenwayyy', 'steakhous', 'pierrino', 'ba115', 'ferber', 'sfxladyj', 'hypnosi', 'workday', 'jsut', 'katiekilljoy', 'bptbtrfli', 'finra', '405', 'http7917044101bumaro', 'jenjuneau', 'theapplefreak', 'httptinyccgmkbt', 'brotha', 'ihnatko', 'coolestbest', 'amf', 'quotnquot', 'charlieover9000', 'miniitx', 'davilivingston', 'tr0se', 'fend', 'quotsom', 'freshnow', 'thriftygambl', 'quotoohooh', 'popcornnow', 'httpplurkcompx2avn', 'stupido', 'buckhead', 'diffus', 'todaysniffl', 'nclusa', 'incredibil', 'unban', 'kimble09', 'snlthat', 'jrztwitterlunch', 'shelliebr', 'httptinyurlcomoto5sz', 'nkotbgadget', 'chloechlo', 'katiekatpink', 'wolverine66', 'zoecorkhil', 'romantici', 'uncertainti', 'airco', 'tinamarie2009', 'rockonrebelchld', 'breeolson9', 'stitchinsista', 'cand', 'anand', 'sounder', 'kimflor', 'silmi', 'curtain', 'zanzoon', 'richardbishop', 'webduck', 'dayamphappi', 'quotcrap', 'therealmj87', 'xombi', 'quotboyquot', 'midsomerlov', 'opengl', 'phxnerd', 'wellyou', 'sweethomebirth', 'songhello', 'analyz', 'highquot', 'blehhh', 'httpyoutubecomstevencohm', 'mirder', 'cantera', 'weaver', 'quottwatterquot', 'deezeen', 'bobbyedn', 'barakitten', 'cofe', 'ralfrottmann', 'magullo', 'thorough', 'ninnifur', 'httptwitpiccom4wjai', 'brunt', 'xuxu', 'frankiero', 'delicatelyr', 'tdobson', 'umiandalt', 'ezlo', 'aimeelynn', 'gretchenemili', 'crystallynn09', 'onlyme614', 'yes2di', 'kenlee86', 'mailinglist', 'cheesivor', 'dafyddhumphrey', 'upfront', 'missiondeep', 'pitta', 'wildboutbird', 'mahnameisjerik0', '20102011', 'duangkeo', 'melkirk', '20000', 'ijanett', 'depoi', 'misadventur', 'badminton', 'lampion', 'billstarr', 'demios101', 'tearlesspoet', 'campi', 'jfufnfwucnbqj', 'demisterl', 'lola0507', 'saucewear', 'chiweet', 'kat785', 'nicurnmama', 'torreyryan', 'doverbey', 'vivyouel', 'vasilici', 'yinawu', 'moonlightflight', 'corriemichael', 'ahbilli', 'quotimput', 'borri', 'shelbycohen', 'hurriyet', 'missverna', 'nikepluscom', 'thepetnet', 'speedrach', 'juliedeborah', 'tcslive', 'revrunwisdom', 'freakyfriday', 'httpbitlysjnax', 'loveyouuuu', 'expos', 'lis0r', 'daniellebabeyi', 'shaydakiss', 'juliannerowat', 'exbarista', 'awesomeon', 'sassyspid', 'misslanisasha', 'enchanteddol', 're5', 'allensjk', 'moodl', 'stomp', 'piecequot', 'eerrrrrrrrr', 'twitterfridg', '9cant', 'jaao', 'txkfilm', 'toesha', 'they', 'im2nd', 'blogam', 'littlemisslea', 'damon', 'frapp', 'babyyi', 'sdsm', 'roxnow', 'eraticschemat', 'mammal', 'graemeskelli', 'beccamort', '6the', 'vegasrex', 'againaha', 'notgiv', 'bmerten85', 'mayabank', 'gio511', 'lisaaaa', 'alyssaisntcool', 'twentyfifth', 'neeeddd', 'ittomorrow', 'lainey', 'xxscarletbxx', 'modofli', 'shaskin', 'fnh', 'httpplurkcompsvs4c', 'morganleigh321', 'ditzi', 'deje', 'neckshoulderback', 'sweeeeeeet', 'missryss', 'suemo', 'httptinyurlcomdyvzsa', 'besok', 'bubblegumneko', 'tonysarti', 'julyish', 'bluegrass', 'urfavoritegrl', '079ï¿½', 'quotnanaquot', 'livefashion', 'shia', 'werby76', 'chupacharg', 'quotproblemquot', 'troma', '20thhmmm', 'cuteshould', 'quotform', 'onmusta', 'cleric20', 'sentosa', 'stormey09', 'bib', 'wizardquot', 'jennygnow', 'showersquot', 'elp', 'carmenparno', 'ravikapoor', 'malcolmmillion', 'cyberspac', 'rdelizo35', 'nickdunn', 'phoenixfm', 'onchmov', 'youitll', 'payat', 'nothinbutsin', 'gsoll', 'unapp', 'ashleypratt', 'funwish', 'metamorph', 'thooo', 'retract', 'maxshrem', 'ahecht25', 'psychorn', 'brandenhaydon', 'biznesssss', 'amusedtim', 'stoooopit', 'coopertraci', 'debian', 'effnng', 'ahhahahaha', 'wwwyoutubecomwatchvcyjvgnp9va', 'sedari', 'dac', 'quoteww', 'goooooo', 'madonnacal', 'happyquot', 'earlylolsoo', 'showsbook', 'montagu', 'badabam', 'quotslic', 'disclaim', 'pantsnot', 'vidlink', 'richardmadeley', 'erwin', 'scottlava', 'faithbookjesu', 'omelet', 'thegreenwizard', 'cocodishman', 'klemmquot', 'mishxmonst', 'fm1079oxford', 'insidegam', 'out', 'quotsombodi', 'greenjeanin', 'warmnfuzzi', 'monatweet', 'onlyhis2109', 'leglol', 'dingyu', 'tati', 'ember', 'thatissodop', 'banquetc', 'stonebrewingco', 'httptinyccoikbk', 'mattdavelewi', 'doona', 'olympi', 'misslasheenaj', 'djksli', 'emay', 'nickyy123', 'budapest', 'mebut', 'httpplurkcompwxz12', 'kevinmoreland', 'ugggggg', 'thehodgecouk', 'corlain', 'zindaret', 'bobbyrey', 'rhyanoutrag', 'bbc4', 'gooodmorn', 'grax', 'mcbride', 'popstop', 'linuxluv', 'akl', 'iaretanja', 'amaurypolanco', 'honey3223', 'rspic', 'harajuku', 'suckswish', 'quotpapa', 'parboo', 'passiv', 'paraboul', 'tweetnewz', 'sarahbelle1414', 'httpplurkcomprpgyy', 'shant', 'sixteenth', 'bggete', 'rheac', 'zommgg', 'atasha', 'httpunbecominglilyblogspotcom200905announcinghtml', 'dever', 'yeeeeahi', 'heeeeeeey', 'powershot', 'yaaaaaayi', 'swiffer', 'namerebecca', 'mattlewismus', 'lpostlethwait', 'hoooray', 'callstxtfb', 'sosoout', 'quotsonni', 'huwwt', 'mummmyyysss', 'joaocalistro', 'whataboutken', 'cannabi', 'showreel', 'httpmigremesi', 'hmigroupllc', 'staceyviera', 'ravenouspanda', 'foodi', '6gb', '143present', 'httpyhana09mybrutecom', 'nambucom', 'peolpl', 'myloveshin', 'cousinstechn', 'chriskalydo', 'snt', 'caseorgan', 'obosessiona', 'ame', 'heavenjon', 'tomricci', 'leahchu', 'brienpet', 'kilo', 'gf3', 'mende', 'halia', 'ltalmost', 'shaialston', 'cumbersom', 'aaaagh', 'bjj', 'rotf', 'freeli', 'aceconcierg', 'handrol', 'deathwishinc', '2nitei', 'mogwai', 'tamtamdol', 'httptwitpiccom66u67', 'lpi', 'randazzl', 'sbenzur', '600k', 'httpblipfm5z6y6', 'mdelamerc', 'fiendfyr', 'bookworm', 'statkallday', 'betterrrrrrrr', 'manejamo', 'glib', 'threat', 'bergu', 'robbcox', 'fineass', 'possibleim', 'exploit', 'caligirl00', 'commodor', 'recori', 'klaudialorincz', 'httpblipfm5ygpg', 'realmikeknight', 'rebeccamast', 'yelainez', 'switchinggranni', 'reparat', 'httpustream2s1i', 'weewifie1981', 'dejam88', 'johnfoliot', 'yoooooooou', 'biknightu', 'mmj', 'robinmatthewfri', 'gymthi', 'noboddddyyyy', 'httpbitlytxpa6', 'pincheguera', 'pokeyoat', 'bubbles3563', 'mela0521', 'quothabitquot', 'carbonara', 'flickstack', 'deadass', 'shitest', 'httptinyurlcomqnh5oy', 'paintballin', 'jeremy89632', 'evolvin', 'jordiebut', 'chrisfromracin', 'dealthes', 'sharagrif', 'lynne08', 'ummmph', 'illmindproduc', 'puffffi', 'smexi', 'earlyer', 'overreact', 'blairr', 'promenad', 'exclud', 'bpdinokc', 'ourbett', 'rainofash', 'beautifuul', 'sï¿½o', 'missrachel', 'trevorgoff', 'amyype', 'joonian', 'santbrink', 'aprilcandy70', 'karinaescobar', 'httptwitpiccom4wrrp', '88brit06', 'pakistani', 'cmtcom', 'vargas7', 'tdi', 'quotmust', 'groovin2lif', 'rachaelblevins3', 'omgitsafox', 'plaid', 'cx', 'danvan', 'g33kguy', 'mattmoreno', 'blawnoxgirl', 'chuckswanson', 'jkblacker', 'cupi', 'pedder', 'hateee', 'trong', 'aht', 'websiteoh', 'gothi', 'icontip', 'selenagomezlast', 'httpplurkcompstjdg', 'toooooom', 'imemor', 'revlon', 'wakey', 'sharonp', 'orwel', 'superwoman', 'luigi', 'bunuelo', 'grungeheart', 'coordin', 'ghconfidenti', 'upbring', 'astroturf', 'weatherpenni', 'karlixpaz', 'drv', 'backhip', 'florin', 'yearelton', 'butterfly562', 'profchandl', 'trish', 'robynlouise1993', 'shopdoesnt', 'fabmissk', 'ryankil', 'yourselfdoin', 'gamegotta', 'stomachquot', 'jazzy813', 'donj', 'releasd', 'trashle', 'scotdal', '100word', 'tiehahaha', 'merrier', '416', 'yesno', 'craaaap', 'dreamland', 'kitty4peac', 'sharkattack44', 'ï¿½3', 'pincod', 'kicesi', 'fuzzy2230', 'almedina4', 'jayskillz', 'creativehom', 'kennywormald', 'httpplurkcomprqpl7', 'bextherex', 'pfffffffffffffffffffffftttttttt', 'finley', 'fang', 'bangalor', 'sarahg', 'jjujuu', 'kyleterrel', 'misstiffytaylor', 'genejm29', 'gourmetcook', 'aprilllllx', 'httptwitpiccom66zfd', 'pav', '050809', 'whant', 'prolificd', 'harneet', 'letï¿½', 'ecjuli', 'assalam', 'fieldwork', 'slowest', 'penjiiii', 'louloudeb', 'sippinn', 'jessca86', 'dilf', 'armour', 'siamus', 'funnow', 'stairsgrav', 'overprotect', 'abba', 'lolfrench', 'mrssunshine96', 'httptwitpiccom67h72', 'paulharriott', 'superreflect', '821kg', 'pneumonia', 'flossalini', 'eyas', 'phiphilli', 'postlemonkey', 'decrypt', 'frack', 'dorothearos', 'httpplurkcompstezd', 'rebond', 'sayingpleas', 'belgiumyeah', 'sickcancel', 'httpplurkcomprreml', 'wereld', 'avian', 'sorchamorrigan', 'ohai', 'tbirdj', 'dfarver76', 'dble', 'jessdubb', 'larger', 'yaeh', 'eeeeewwwwww', 'ceciliaa', 'afficionado', 'mayyyyb', 'httpbitlycet0', 'meth', 'comingi', 'belofsouthi', 'dayani', '3alexx', 'whotheheck', 'thej', 'theroundup', 'moderor', 'apatti', 'expresso', 'computermuseum', 'infomerci', 'httpamandallynnblogspotcom', 'thatz', 'bm', 'msishi', 'thebeaddoodl', 'proctorsarm', 'epicfail', 'ticketless', 'hihi', 'pajamasi', 'jesusim', 'apmckeown', 'lusasousa', 'httpbitly8qagh', 'hernandez', 'daniellebean', 'fridayfirehazzard', 'httptwitpiccom665jw', 'bobdc', 'httpblipfm5z5uw', 'bananasmel', 'prinsezha', 'larryon', 'portableapp', 'throte', 'out2', 'httptinyurlcomkrcamp', 'supastarc', 'iunfold', 'cramcrack', 'differnt', 'hungrygirl', 'shirkinerd', 'joeruiz', 'hillim', 'soundbit', 'quotteamquot', 'quotstud', 'gqmf', 'rog', 'respit', 'httpbitly11dd2t', 'recouper', 'nicotin', 'fï¿½hlt', 'httpbitlyujua3', 'peninasharon', 'beachbut', 'awwwbad', 'omgogmgo', 'homeseri', 'morninï¿½everybodi', 'uggo', 'relis', 'chrystina', 'httpmylocme21f2', 'helaa', 'vengenz1', 'httpblipfm5z4uq', 'verajï¿½nji', 'princessoat', 'blacksilkblog', 'jimbbbbo', 'aaaaaaaaaahhhhhhhh', 'ihuntmidget', 'mimmiz', 'iconsrobg', 'rainboweagl', 'raaaaaaaaaaagh', 'hopesurv', 'imfunsize', '2k', 'aea1023', '1245', 'daisydelfina', 'geniusand', 'coffi', 'kol', 'sammihous', 'johnn', 'moooooorn', 'unsurpris', 'onequotthos', 'colega', 'lech', 'nomsgot', 'coogan', 'weaki', 'httpblipfm5z7zv', 'tae', 'sarrahra', 'leesaw', 'joeysmissmac', 'fontstruct', 'fredto', 'cresh182', 'kï¿½lle', 'singersongwrit', 'dsfq', 'sunnybun', 'tooquotinsert', 'hypergood', 'nuu', 'quotraindropsquotthat', 'christi', 'lunafactor', 'coffeeoops', 'veryy', 'janelliebean', 'cherrylipstain', 'guykawasaki', 'gabyrosario', 'jtay1995', 'leslielang', 'gossipi', 'jeanettesanchez', 'beam', 'loyaleagl', 'httpblipfm5yyud', 'sparklethot', 'deepaprabhu', 'httpblipfm5z2zo', 'igzzi', 'laurarepetti', 'mlbn', 'flatland', 'callmecourt', 'fitzcarraldo', 'aggreg', 'thrasher', 'nikkeexox', 'bonbonita', 'widewal', 'knooww', 'poxsyphili', 'ontrich', 'defer', 'fabrega', 'oceanand', 'gawow', 'j4550', 'dokay', 'votton', 'norafrost', '10hour', 'pleasurenpain', 'gulmohar', 'scummboy', 'dtown', 'imseth', 'mspecht', 'diond408', 'weddingradio', 'tanya', 'wvbrcom', 'tearbear7', 'shaktij', 'schizophren', 'freemus', 'pixelmatrix', 'adress', 'vstudio', 'linkdupont', 'jamespenyc', 'heeeeey', 'cause', 'dawl83', 'xulap', 'archesi', 'inluvwithjon', 'yallgt', 'aquilaquail', 'nkotbworship', 'insightfulquot', 'funkshoi', 'wonderful', 'echt', 'bwmson', 'omgee', 'happyi', 'emailquot', 'cherroke5780', 'anit', 'raehol', 'mssdot23', 'handset', 'loveivi', 'ggeastldn', 'isparkleen', 'hybrid', 'whhaacck', 'superawesom', 'nadyogaga', 'daryllorett', 'farung', 'tenuous', 'lara82', 'lyssaloo', 'taragrace', 'britta', 'tmail', 'robart', 'briannabanshe', 'httptwitpiccom66vdn', 'electricbluebrd', 'foundquotquotbreakfastquot', 'doingquot', 'constraint', 'bummermail', 'awesomer', 'sicouk', 'ssssssssssmack', 'ï¿½17', 'amerz', 'trickiliz13', 'jorx', 'bfgurelgbsr', 'gracepip', 'bdillustr', 'beckykingston', 'steve228uk', 'smoo409', 'httpblipfm5jckp', 'domsofresh', 'httpbitly199zwd', 'twloha', 'atcha', 'erikarhanetan', 'adamaxon', 'sopphu', 'doculab', 'seogoddess', 'yfrog', 'lishakatherin', 'sswayz', 'finaljust', 'uhmaz', 'konstantinshero', 'coreymekel', 'corruptedangel', 'charliefogg', 'saskatoon', 'rcf89', '2nte', 'vaneta', 'lowenstein', 'esko', 'ilylt3', 'cocotian', 'biligu', 'tpt', 'yikeysss', 'matterquot', 'emaxio', 'emalon', 'akissforjersey', '4n', 'beautifulll', 'overturn', 'dispositionlol', 'admiss', 'updont', 'celebratori', 'flatti', 'cancion', 'waitwhi', 'unsaf', 'veddersgirl', 'roughnight', 'vacant', 'wwwmyspacecomdjspi', 'saltyshutt', 'sweetangieolli', 'babyblu', 'longterm', 'laast', 'issorri', 'swimmer', 'mornii', 'crusaderz4lif', 'wearther', 'quotrol', 'milkshakeshakeshakeshak', '90squot', 'misslawr', 'commish', 'evili', 'blondiehk', 'nkirchmar', 'arrngmnt', 'funnili', 'jeninamare', 'hedgehog', 'calfornia', 'backeveryon', 'radar', 'gahan', 'ddubskymonkey', 'japsican', 'quotbonesquot', 'l0renelain', 'jerrytaft', 'woch', 'weareinvinc', 'intim', 'mhmyummay', 'agustin', 'angelicayo', 'leowolf', 'nabaishko', 'gruel', 'danvesma', 'recommendatiion', 'hypedagreat', 'bidor', 'stereogum', 'nfnitedawn', 'tei', 'gurrl', 'quotirisquot', 'ticklemejoey', 'gauz', '1hour', 'cozier', 'sunburnnn', 'thecapillari', 'allyycas', 'quizon', '280lbsyippe', 'todaaaay', 'acmaur', 'jessieho', 'helenh20', 'xxxmaggi', 'boredtri', 'nurseri', 'activegirl', 'musictrauma', 'laurawalkerxo', 'elliottyamin', 'httptinyurlcomd5mjyj', 'httpplurkcomprprl0', 'shadrach', 'fintster', 'thn', 'nhuhieuma', 'nervvoouuss', 'theator', 'achelulzim', 'laternt', 'michaelhot', 'wefollow', 'isafailur', 'nicolemissnikki', 'nene96', 'iheartmissi', 'bfa', '234', 'rapetzel', 'dpbrown', 'kpop', 'jduckworth', 'ricktarr', 'buki', 'madamecomedi', 'mofett', 'soonnn', 'paddydonnelli', 'deaninwaukesha', 'monin', 'lisathediva', 'gabrieledurn', 'makeconf', 'urchin', 'celestialbeard', 'lexlt3', 'poorprogramm', 'barcampbkk3', 'skinnylaminx', 'finalthat', 'boonewallb', 'pfinett', 'skorpiolov', 'didddd', 'supermouse104', 'jeremy6d', 'vennsoh', 'fnoo', 'handlebar', 'ditchin', '2yr', 'todayhowev', 'lylameganmarsh', 'connector', 'girlsmadethi', 'onenor', 'ladyza', 'tweetag', 'habbo', 'somethign', 'valleymon', 'roderick', 'kevinross', 'quoth1n1quot', 'cottin', '200lb', 'httptumblrcomxaj1qz8v3', 'vneck', 'district', 'officialstaylo', 'unheard', 'drilon', 'nmyster', 'okso', 'secondstar05', 'neilfw', 'dma', 'sorryyi', 'demonfactori', 'unbearableamp', 'peepsim', 'baggi', 'calicut', 'beaky22', '5085', 'zachi', 'karl', 'twitwoo', 'itsur', 'postand', 'chrishayward', 'mrtweet', 'denvi', 'jnacool', 'townno', 'shoooot', 'hulkquot', 'andrewconnel', 'xmlrpc', 'anathem', 'movieto', 'sackiroth', 'howto', 'httpbitlyjrm6v', 'nunosalvaterra', 'minewhisp', 'threebysea', 'oppositelock', 'millor', 'villa', '4piec', 'zzwhitejd', 'kamikaz', 'offspr', 'httptwitpiccom4vv', 'httptwitpiccom4ws9r', 'zhighlif', 'motleysi', 'lariebeck', 'lugosi', 'abroad', 'cieg', 'ferrer', 'heartedli', 'vommmm', 'arvest', 'kiau', 'rachki', 'fleeshman', 'tothetech', 'jeskamitch', 'only1kcj', 'mhmm', 'httptinyurlcommegxu2', 'quotbusyquot', 'httpplurkcomprpmyd', 'jackiejewel', 'didja', 'shawnmcguirt', 'sickyour', 'invitingal', 'edit4321', 'atbfmsolidsynnet', 'dneero', 'momofcand', 'meganandliz', 'dayan', 'luciiren', 'moxiegarrett', 'baltimoredc', 'marianna26', 'bennsu', 'trusti', 'gbsinker', 'senson', 'steff', 'abang', 'blujazmin21', 'talkedabout', 'dedicatedgotta', 'flover', 'thatstripeycat', '1997', 'jabula', 'soreeee', 'resaaaa', 'pllleeeaaass', 'myshellmeishel', 'mmagear510', 'pnutt', 'bellaphon', 'jasmin', 'savii313', 'notlook', 'duong', 'scottfaithful', 'djspencer19', '3yo', 'theofficenbc', 'kikimiacherri', 'geogger', 'firth', 'leannarene', 'yrsampstr', 'ruxburi', 'wfamili', 'bondswhic', 'gasx', 'santana', 'peterdowley', '14m', 'dizzycoolbab', 'studiomad', 'ukdavew', 'lieu', 'lolclass', 'ludwikc', 'vitriol', 'emailsvoicemailsfacebook', 'vaahedh', 'h0tcommod', 'mandelin', 'wonky73', 'retardeddddddd', 'schaumburg', 'interweb', 'majorspoil', 'punkrockchick25', 'httptwitpiccom4w3zh', 'ummonli', 'bamf', 'brendonjwilson', 'alevel', 'rolandsmartin', 'loveaft', 'azza', 'heyyhooheyhey', 'scylissynapt', 'riverwalk', 'juicyfruits88', 'ladytwitst', 'beforedont', 'ghostallday', 'gymalmost', 'pbandjay', 'butbutbuttt', 'shoooow', 'thingsmummysaidrollercoast', 'bensholk', 'mickeyx', 'nimbupani', 'rubberduckygirl', 'lopps1999', 'jenrajpura', 'my3boybarian', 'savechuck', '815p', 'httpviigoimsxb', 'coachreggi', 'bsbaegirl', 'weatherand', 'mononok', 'psdn', 'christineros', 'loveeeee', 'midtownlunch', 'jasondjkim', 'prev', 'mandirudg', 'jazzwerewolf', 'sunshineliron', 'janitor', 'pleaser', 'jakki', 'rollup', 'ni99a', 'poppydog', 'butthol', 'rezadubsteppa', 'p4', 'richgirl', 'meeeeeee', 'quotcannot', 'santoscarmen', 'dmore', 'saime', 'uninterest', 'mika', 'helianniina', 'amymeredithband', 'chaparro', 'falselov', 'unladylik', 'grizzlycullen', 'feeeeeed', 'emilyyoung', 'httptwitpiccom4jas7', 'histor', 'dorfman', 'charyl', 'deadplaygroud', 'owwwwwww', 'lmhustle4lif', 'hadthebestdayev', 'voilï¿½', 'shaunarawrrx', 'shomariw', 'riannesketch', 'allaround', 'quotfreedomquot', 'sleepynikki', 'jessela', 'ktiqu', 'workn', 'garycford', 'httpbitly16w6zv', 'causticsoda', 'yayayyayayay', 'mathieuto', 'jasoncalacani', 'misoricesushimochi', 'stoneheng', 'benton', 'calof', '2020', '2dimples2', 'fosho', 'yayschoolisout', 'opaqu', 'subray', 'beu', 'overwheolm', 'jradc', '251', 'luvvi', 'toolov', 'alitaluna', 'definitley', 'aaargh', 'westerfield', 'piccolo', 'myepisodescom', 'arronthoma', 'edenriegel', 'patsi', 'holliday', 'moldi', 'paganvixen', 'lockdown', 'ambiti', 'showww', 'chhophyel', 'prbli', 'ediva', 'gj', 'lovethi', 'getn', 'kristinaxb', 'babyvtec', 'timjackson', 'wwwhennesseyblackcom', 'isaacn86', 'ashleys4', 'edea', 'underappreci', '9h', 'pitchfork', '438', 'httpshzme5k', 'delï¿½cia', 'xdec0d', 'pleeaasse', 'designingworld', 'anrserg', 'buffalosouljaa', 'httpbitly6hesz', 'heatxsink', 'morganmg', 'faketemporari', 'officialbf1943', 'ralphp', 'yeasterday', 'httpwwwhulucomlabshuludesktop', 'stich', 'geograhi', '2orw', 'dachesterfrench', 'reajan', 'custodian', 'smuggl', 'kevinanrshin', 'kaneth', 'changedforgood', 'lyndonchest', 'lemonsaresour', 'aduquett', 'dmp', 'feeln', 'ecxept', 'sprung', 'quotwholey', 'successorst', 'zombiegrrl99', 'reasonmayb', 'oxfordquot', 'daftlikejack', 'alexcox13', 'brittuhkne', 'eeem', 'soufflï¿½', 'clinch', 'shotti', '4ut', 'taylorawr', 'michelecatahay', 'sothen', 'laterit', 'mkarim', 'moisturis', 'mspacer', 'cowpunkmom', 'allisonnazarian', 'gdnite', 'dotnetcowboy', 'kelseyjxo', 'beilaqsodmq', 'ucla', 'yetgo', 'purplecoffe', 'lookmi', 'djain1989', 'bigcitysomeon', 'grayblu', 'lore', 'm3nny5', 'misssprintcup', 'mcflymademma', 'reddit', 'mancrush', 'eupham', 'quotabsencequot', 'gad', 'djruss99', 'kung', 'smak', 'knowng', 'thoughlol', 'mfeig', 'cinelux', 'happinessi', 'lo0l', 'jonsedar', 'massawyrm', 'abeerak', 'quottoysquot', 'lollipopvomit', 'httptumblrcomxye1ph36b', 'petemor', 'justinofg4p', 'elop', 'httpyfrogcom0xhu5j', 'katishahoni', 'bhackett', 'yummmmmyyyy', 'kirstyy09xx', 'ferarro', 'suprlatina', 'httptinyurlcomne6mlu', 'twaysiv', 'simonschust', 'ashow', 'alittletrendi', 'cjloe', 'aobut', 'ousooner44', 'injeni', 'ninjabet', 'lastnightthey', 'pillag', 'httptwitpiccom4jdtj', 'ryanmills1', 'dadt', 'quotwakey', 'sankar', 'killelbunnio', 'flucio', 'sashabouch', 'bombtast', 'gameresearch', 'monthslt333', 'microplaza', 'kellycont', 'dming', 'churnet', 'joycewaddl', 'ccri', 'cantlol', 'valeri', 'jins', 'lindzluvsnkotb', 'outwhen', 'theoreo', 'krooyakk', 'manupreet', 'lexjosephin', 'cathyweeeen', 'joycsc', 'tdl', 'minneapoli', 'overexcit', 'seeeeeee', 'fletcher', 'smartest', 'legendarywrit', 'httpplurkcompwxj54', 'omfgggg', 'cgoldenstein', 'sschabowski', 'kulpreetsingh', 'smaal', 'ltsighgt', 'themlov', 'httpplurkcompwxqwa', 'dinneror', 'aris', 'mustheartdog', '7thscreen', 'caselynn', 'deegirl825', 'hahashiiit', 'miracl', 'opda', 'muchdeserv', 'vinylvickxen', 'timothyh2o', 'rcasagrand', 'clintonspark', 'suitcas', 'ahahahahaha', 'fattkiddbep', 'shutter', 'padestrian', 'nomaez', 'breakim', 'mamiya', 'officedesper', 'familyguyonlin', 'mattg124', 'debtguid', 'cutemadelein', 'lindt', 'gmapspedometerit', 'lupu', 'damoxi', 'eyecandi', 'shitter', 'py31', 'fridaybooo', 'flamenk', 'aatw', 'schoolbut', 'officialbb', 'shopbatti', 'carsxcollid', 'ahaa', 'blunston', 'kline', 'chegay', 'bbcfangirl', 'charmer', 'baterrri', 'tatoo', 'fatsam33', 'mrinklin', 'threatbot', 'whb', '129', 'fluffy617', 'bph', 'rorycoast', 'weheyyyi', 'helooo', 'sono', 'melorailiana', 'shay1988', 'strandel', 'itsjustgoldi', '10yr', 'repliesfollow', 'lomond', 'drbri', 'muchachomalo', 'snazzifi', 'seeeee', 'davidyouman', 'cryingi', 'spontaneouz', 'royalcityriot', 'iat', 'lele', 'wahahahaha', 'hottti', 'cockroach', 'motto', 'midway', 'bluri', 'colie5c', 'eggmcmuffin', 'goodwin0904', 'artnbooklif', 'eagerli', 'donta', 'samtagi', 'tiredlolda', 'wyour', 'mrbean', 'amplay', 'latharg', 'steffaniyu', 'slicksean', 'helllooooo', 'kristenhauls', 'chesapeak', 'rsr108', 'picseshu', 'qcmartinez', 'amigo', 'bedmomma', 'indexquot', 'reword', 'emopunk', 'billfan', 'ambernia', 'burnspank41', 'subit', 'pcso', 'nitentdo', 'gothtart', 'chato', 'ryansilk', 'anthonycashcash', 'twospotgobi', 'httpbitlywxa9l', 'alloverart', 'btillo', 'dagnamit', 'misfit', 'quotfightstar', 'jordinsilv', 'tomorrowit', 'gatwick', 'felicityful', 'jitteri', 'mumof3girl', 'jayceiinc', 'familyit', 'eish', 'bittweeet', 'salisburydown', 'dosh', 'stevehil', 'jfb57', 'dillemat', 'soonest', 'talk2donboy', 'jewnew', 'clarixxxa', 'ohmydaysitshayz', 'hermin', '2daylet', 'peachypictur', 'virtualkiss', 'geeblink', 'noctweetup', 'scitadel', 'xxxxxxxxxx', 'doneit', 'runquot', 'spgridview', 'agneslikait', 'treviso', 'littlereidi', 'dunda', 'edgefesssssst', 'solli', 'httptinyurlcomcd8yab', 'lovelock12', 'rockingla', 'weekendslol', 'ise', 'caput', 'dramasooo', 'monkeyknopfl', 'tumblewe', 'lightaesthet', 'reyah', 'httptwitpiccom4woxf', 'ent', 'goldmin', 'eemma', 'wwork', 'enna', 'pleaseeeee', 'escentu', 'nocturn', 'workfriday', 'sxtxixtxcxh', 'ashlaw', 'xaan', 'absolutelytru', 'getup', 'httpi', 'justsayin', 'micahdwhitehead', 'brighternois', 'deuhlig', 'jolt', 'inshaaallah', 'sleeveless', 'httptwitpiccom4wdnn', 'wt', 'reavel', 'lanulahbel', 'connectionguess', 'igobydoc', 'unshaven', 'ï¿½ï¿½ï¿½ï¿½', 'oohhmandi', 'castledynamicproxy2', 'blagh', 'hahaooh', 'prepr', 'cokelat', 'themikekelli', 'barg', 'wheew', 'spiller2', 'slhamilton', 'nowjust', 'yeprac', 'nolaevol', 'dunnoi', 'monroeonabudget', 'traveltweeti', 'adaptor', 'itsaitana', 'peso', 'birdse', 'philispig', 'crystalhaz', 'megot', 'queue', 'trafalg', 'alwayswys', 'rivercent', 'zacoffici', 'itsjustmenicki', 'marshalloch', 'michyvasquez', 'happymothersday', 'blueeyedmus', 'kaseyhay', 'melrosecashi', 'radio1', 'quoteach', 'mississppi', 'tashababyyi', '9000', 'ringorang', 'heatherannp', 'httptwitpiccom669l2', 'greaaaaat', 'mommasltlt', 'tarneisha', 'wearin', 'vvbrown', 'r0ckshahaha', 'jkneen', 'sloanfinley', 'httptwitpiccom4hbs5', 'richdeclu', 'omnomnom', 'lasercut', 'wwdc', 'fightin', 'krautrock', 'jocey17', 'mongab', 'penny2dear', 'maliciousmandy1', 'masturb', 'jana', 'watchingr', 'gertrudesteinjr', 'ï¿½30', 'kerrianson', 'rossi', 'ozzblair', 'pulleaas', 'lovechrissy22', 'kandic', 'ipl', '15tb', 'somelol', 'bacnm', 'wdyt', 'cutlet', 'rufmac', 'movietfan', 'ittybittykitti', 'littttttl', 'bbbbrrrrrrrrr', 'exhaustedne', 'httpappsfacebookcomcatbookprofileview5626035', 'httpplurkcompx2dvj', 'hitekfam', 'therelol', 'httptrimml6z', 'specilist', 'leathermartini', 'shadowown', 'corki', 'torey', 'beateveronica', 'rampag', 'quotcasualquot', 'ltmi', 'nowthat', 'violenc', 'hopelessheart', 'favi', 'tg', 'rector', 'tonystark206', 'mshadi', 'kixsal', 'houri', 'httptwitpiccom66m7f', 'dotmanish', 'httpwwwmyspacecombigcitymonkey', 'vita', 'misseileen', 'quotlostquot', 'hockeygal4ev', 'workkkkkkkkkkkkkkkkk', 'valk', 'thermal', 'yar', 'larrygadea', 'lmchugh', 'timid', 'kendraamichel', 'httptinyurlcommfm7tl', 'underr', 'yat', 'httpwwwgooglecomphlogosmothersday09gif', 'tenotch', 'eisteddfod', 'spicesierra', 'yaaaaz', 'breastfeed', '2k6', 'bpmore', 'joshbkelley', 'blehckk', 'neishanay', 'tuition', 'reviewwhil', 'flore', 'funkysteph', 'greenock', 'nicci', 'framolamdu', 'cheshir', 'elena', 'carolinekan', 'impair', 'yearmiss', 'jy6', 'debraoakland', 'lori', 'mpl', '225quot', 'dhq', 'jolli', 'bkuz', 'chriswei', 'lboogsdottv', 'boyfriendgirlfriend', 'owm', 'pai', 'dumpster', 'themat', 'aero', 'natalyy', 'quotturn', 'bbl8r', 'crv', 'ansamskitchen', 'gosl', 'kdritchie77', 'toysru', 'httpwwwgooglecoin', 'httpbitlywzk3o', 'missflora', 'chuf', '1245pm', 'supervis', 'judoracio', 'httptwitpiccom4jcf1', 'exict', 'keyn', 'httpblipfm7af72', 'marianuum', 'tiggerk', 'applecar', 'becoz', 'bobbyclarkxxx', 'ucler', 'fiddlecub', 'arizonaobvi', 'dirtbikegirl18', 'sadandbeauti', 'httpimgsuicidegirlscommediaalbums65713576658166jpg', '1050i', 'aaauuuggghhh', 'vï¿½ri', 'dyer', 'altanta', 'terrac', 'hollabec', 'face2fac', 'outliv', 'cauzinhoooo', 'dodd', 'mcrglad', 'musicwish', 'gallagh', 'jordscajuncuti', 'jgreco4', 'orrepli', 'mszjai', 'shygam', 'verona', 'dayswk', 'hbsexec', 'lastnit', 'uppeac', 'shouldhav', 'gt2000', 'anamoorz', 'djcommish', 'guidanc', 'rosewindal', 'movielolwhat', 'toki', 'millportonian', 'guapisimo', 'januarypark', 'perfectgrrl85', 'fandango', 'najiahyahya', 'hmstill', '1995shand', 'ep22', 'ryt', 'oscil', 'roupinha', 'missamanda', 'enorm', 'lifewithmikey82', 'leash', 'relasi', 'streyed', 'lunchnow', 'paedophilia', 'wifflebal', 'melancholi', 'chigurl', 'fasn8nurmind', 'laylanatali', 'frappachino', 'vanessawhit', 'myoh', 'hardcore4', 'cassieebe', 'princemarkiede', 'mrr', 'morimoto', 'reborn', 'moviebut', 'rosaliiinda', 'dealt', 'boingo', 'lootwis', 'mikeywayday', 'meaty216', 'hudgens', 'nelsonsito', 'djzeeti', 'claudiuvoicu', 'thetahealermaya', 'avataraang', '11stupid', 'milerz', 'reclaim', 'chellybel', 'rematch', 'quotquirki', 'bacterin', '1tiffani', 'peen', 'felipemercado', 'pixy88', 'gump', 'bown', 'skewl', 'katieinthehat', 'practisethepropos', 'tweetz', 'hubbywak', 'karanguni', 'gto', 'recyl', 'pagian', 'arcticmonkeysuk', 'hopeluvfaith', 'chatroom', 'humanabstract', 'bronqu', 'quotello', 'brianjk', 'lbq', '547day', 'yeyahbut', 'theolog', 'mommii', 'shabbygom', 'yvettemare', 'restauranthow', 'saresa', 'rivahratt', 'iver', 'ginogagaza', 'canna', 'vickixx', 'mitaliandm', 'quot300secondsquot', 'scof', 'treelin', 'vod', 'chrissyst', '531', 'leifreak8', 'nlouisem', 'zionxpress', 'gnimsh', 'waaalkii', 'httpsnurlcomizzau', 'rukki', 'okyou', 'oxygenoverdos', 'haff', 'termineda', 'jerryswifey23', 'httptinyurlcomclrbau', 'rashadhouston', 'evolutionquot', 'shutterbetti', 'bleedblackngold', 'httptwitpiccom4jf4m', 'jessiimiica', 'nikhilbhaskaran', 'bryybryyi', 'nicolehoney', 'offamp', 'flt', 'itsq', 'labba', 'zdaefron', 'rumpelwald', 'lemonpi', 'wallman', 'amaaaaz', 'commm', 'revolutiongeorg', 'rï¿½t', 'mamagra', 'kmrn', 'zoexand', 'bubblin', 'togetherquot', 'tgiflt3', 'emilymorden', 'yeslt', 'jennafurbe', 'upwad', 'airborn', 'ujala', 'httpffim3o7rv', 'shopi', 'alisongow', 'uhhm', 'franceza', 'inet', 'people', 'pedomet', 'flamingblustar', 'wv', 'robfindlay', 'httpbitlylrzjr', 'yucaipa', 'morningbarbacoa', 'xoangelbabiixo', 'caitymari', 'hangi', 'strudel', 'uy', 'adidasgoddess19', 'nuhhhh', 'nooooooooooo', 'gymu', 'pickup', 'reecerentboy', 'funpleaseil', 'nothinbg', 'httpbitlydaxa0', 'msi', 'shiiiiiiiiiiiiiiiiiiiiiiiiiiiiiiiiiiit', 'rigth', 'quotconfirmedquot', 'btvsuprnatur', 'ibgpn', 'mashon96', 'thebamboozl', 'blinki', 'ï¿½m', 'annagabbert', 'jaynenorthov', 'choru', 'vic', 'tiernandouieb', 'tenant', 'dvb', 'sohfahrkreyze', 'wellbail', 'unconfer', 'geekettefi', 'dealextrem', 'bdeugenio', '105all', 'httptwitpiccom4wn71', 'emilyksalcedo', 'shannannagin', 'dinolich', 'alriiightt', 'uyaerdna', 'fakeflu', 'djstunz', 'msalicev', 'syapa', 'practis', 'videogtblah', 'morm', 'punisher5643', 'onnnnnnnnnnnn', 'youthank', 'ancillatilia', 'dsthestar1121', 'gorayeb', 'mixtur', 'liu', 'httpplurkcompsvm0w', 'restuar', 'chinneri', 'veeveebombshel', 'whitehal', 'mscitycoutur', 'bayi', 'johnhensel', 'ahahahahahahahahah', 'lutz', 'hn', 'jtimberlakepleas', 'foodtour', 'goooooooooooood', 'sightse', 'natashayi', 'hag', 'scholl', 'vessel2219', 'mgrocki', 'henriok', 'httptumblrcomxz31werch', 'spoonerist', 'sophichigo', 'ï¿½740i', 'stellarbeam', 'delivrd', 'jimwtodd', 'kalebnationcom', 'darthamandar', 'shush', 'mom2twnsn2000', 'thelawr', 'spamponesal', 'mancunianle', 'profkhai', 'westcott', 'newww', 'slefish', 'uninvit', 'northang', 'httpplurkcompx1ap6', 'slapmast', 'piyushranjan', 'firstladydaboss', 'oth', 'tabletop', 'oron', 'stopp', 'chug', 'quothelpedquot', '546', 'jesss', 'hgtvand', 'morita', 'riotnow', 'stella', 'cocotteloup', 'afflict', 'haiti', 'biggabx', 'ritikakar', 'sensualbodyrub', 'katabolickati', 'jemistryteam', 'chandeli', 'savagem', 'inshalla', 'djuniti', 'calyx', 'bbqim', 'lmatechnolog', 'letterman', 'leebrimelow', 'lichfield', 'anthothemantho', 'httpbitlyn9tsm', 'billionth', 'masterpiec', 'njdemocrat', 'supastit', 'thik', 'heydustin', 'intellectu', 'greenish', 'studioyourcom', 'fatdaddysweet', 'supergirln', 'comeeeee', 'putain', 'passionquot', 'thehebrican', 'awesoom', 'jsmithreadi', 'ilovef', 'gatau', 'selly06', 'creationswheart', 'minish', 'doctorbond', 'httpyfrogcom6p190aj', 'phon', 'futureclass', 'treasur', 'ira', 'dancinqueeni', 'apachekil', 'friendfollow', 'bleaker', 'degr', 'simonelrp', '3then', 'dunkindonut', 'chango', 'waterindian', 'ramoso', 'bigest', 'ucki', 'mortensax', 'anima', 'ginaturn', 'nanpalmero', 'deliciousmiss', 'hookbil', 'campo', '2seren', 'nome', 'anilam18', 'mta', 'canvass', 'httpwwwyoutubecomeyezaddict', 'rvca', 'burntoutcar', 'hcore', 'giselle2323', 'soichi', 'httpwwwyoutubecomuserjessinoel29', 'mahnx', 'httpstevencohmerblogspotcom', 'blackpool', 'jovi', 'rowansingh', 'yin9shi', '4050', 'cashcapon', 'coreycochran', 'chroni', 'markheartofbiz', 'trotzdem', 'eucalyptusapp', 'lmoa', '1750', 'luvai08', 'nzbek', 'labour', 'carajen', 'shawdow', 'obes', 'maiden', 'jovani', 'captainjaneway', 'playcount', 'astropix', 'chrispringl', 'como', 'xxmolliexx', 'healthcar', 'rainsnow', 'yaykimo', 'amaaaz', 'debadowlingooop', 'jamiedelain', 'lilbrowngirli', 'heygot', 'ashli', 'needcharg', 'httptinyurlcomct83ub', 'oceanupquotmiley', 'faeyakof', 'hoomme', 'jersey39', 'sabor', 'misscritta', 'c25k', 'jocant', 'rag', 'nyo', 'rehearsalgonna', 'ppooool', 'finagl', 'rih', 'seenpreced', 'quotoffic', 'faffyfoo', 'storys', 'merchantship', 'pianogirl4jesu', 'collinson', 'agoodey', 'offramp', 'lovekelsey', 'andy2dx', 'greener', 'wwwptsiciblogspotcom', 'mpvt', 'httptinyurlcomdgpr7q', 'looki', 'celebritynoth', 'madri', 'redefinit', 'yuppi', 'mikethomson71', 'sexybrandi', 'hairlossgotta', 'listenersltlt', 'stephenmulhern', 'disorgan', 'sundayfirst', 'theank', 'debt', 'jole', 'hedgewytch', 'angelbear7', 'winningach', 'superjerri', 'ourlittleacr', 'storei', 'twoquot', 'k4ge', 'cume', 'amandapoop', 'mshypnot', 'httptwitpiccom67f8o', 'oakmonst', 'singtel', 'certainti', 'thrillingand', 'thedanishgirl', 'alternatefinch', 'dkhotop', 'whyinthehel', 'alinichole0619', 'cominglif', 'bussi', 'nilagnat', 'horseback', 'kaay', 'enw', 'crimsondream', '0128', 'dotboom', 'metqueen', 'peperoni', 'feelingquot', 'woohoothi', 'isabela', 'cheescak', 'pffffffffff', 'willow', 'skwl', 'videogareth', 'bonehi', 'stp', 'runhaha', 'httptwitpiccom4wsu', 'robygirl53', 'ahhnic', 'mrgetmoney', 'addison', 'ratio', 'punni', 'kirbis007', 'httptinyurlcomc73ehq', 'lovelybooki', 'ï¿½2', 'lovejones83', 'weetabix', 'joenoia', 'windowfar', 'jamiebow', 'horseradish', 'festivalswel', 'rohonhdnet', 'goona', 'uproot', 'phillherold', 'theiblog', 'timminchin', 'g2g', 'rolando', 'espowari', 'creditcards', 'wahhhhhhh', 'mtrier', 'channisaulfah', 'mothersmotherfigur', 'httpplurkcompwxpdr', 'devest', 'buddinggeniu', 't4', '310', 'crazygolfa', 'wouldn', 'dooood', 'mateoviento', 'slooooow', 'thelonelygnom', 'muaxxx', 'no1if', 'quotghost', 'hardcoremetalcor', 'sunglassesmi', 'danwtmoon', 'httptwitpiccom4jhp8', 'shooould', 'easti', 'roborees', 'raptherenegad', 'dazzlespr', 'jaderoberts91', 'elmwood', '2field', 'darrensoh', 'layer', 'wheeee', 'mondo', 'mankini', 'dillingen', 'quotcomp', 'o0ginger0o', 'httptwitpiccom4wtyj', 'fibromyalgia', 'bellab', 'sigo', 'abrecord', 'nickw84', 'todaysuckedso', 'heyagainlando', 'alexistai', 'httpdiggcomu12miw', 'kidth', 'tiffanycastillo', 'whut', 'chaoscartel', 'burgandy1', 'hasin', 'tacquira', 'hollykin', 'ohtay', 'jolop', 'httpffim2zgfk', 'benick', 'recon', 'betsycon7now', 'primeminister3', 'mrsranc', 'almostt', 'swizzi', 'serenajwilliam', 'fempi', 'mentalphys', 'cecinieva', 'nicerath', 'shortchang', 'justinmcintosh', 'ombra', 'lauramorris1983', 'leegazeprophet', 'ughhhhhhhhh', 'quotgear', 'tnlo', 'awessome', 'megturney', 'ncarcadio', 'mammyy', 'brinn', 'stunkno', 'tinker', 'feminist', 'ayou055', 'realign', 'bien', 'camre', 'laydieluck777', 'proms', 'darkgraci', 'ronnilab', 'sleepytown', 'cemberemb', 'musicislife377', 'debsbooknook', 'shemm', 'tweefight', 'phl', 'zimmermannillionaredhini', 'baru', 'enjoywish', 'monsterchew', 'raeboz', 'btchquot', 'darkheath', 'maverickni', 'euphor', 'ick', 'noncivilis', 'justben', 'mistakeil', 'shoppinghmmm', 'helolos', 'httpbitlyesgiq', 'httpbitly9vbzg', 'malli', 'tada', 'cwpm', 'keylman', 'lamaestrada', 'superexcit', 'vuelven', '1505', 'staaceeyi', 'coachkaterina', 'milkskak', 'meganward', 'bhabhi', 'pansi', 'patgiblin', 'agoraphob', 'tassilovivaslap', 'httpweaselbeeblogspotcom', 'screamo', 'reflectionemit', 'quotmonicaquot', 'gradesoutsid', 'japanim', 'fiyahlilli', 'ncq', 'krisbellmus', 'miniherb', 'nemonemesi', 'famo', 'absout', 'judysteapot', 'calcuttadelhilucknow', 'herman', 'tna', 'n00bin', 'pah', 'fream', 'qirlsniqhtout', 'illustr', 'cesna', 'courtneymej', 'snowdaysss', 'httpblipfm5jbvo', 'rexharrisl', 'artemisneith', 'playback', 'dumpl', 'ghostexecut', 'timberland', 'jesterjay', 'unsuccess', 'markwreev', 'sidanarchion', 'middleclick', 'outjust', 'quotk', 'friendnot', 'amazingtel', 'facepanda', 'atduskgreg', 'chaletlaforet', 'rifi', 'quotbottsquot', 'shul', 'yaaawn', 'jennybax', 'teseract86', 'thakkar', 'dannyvan', 'rodcub', 'natalyathre', 'razr', 'esspens', 'divabat', 'jeffmello', 'quottogetherquot', 'mileycyrusquoti', 'muemerri', 'katrinl', 'hrm', 'etdragon', 'lauriedriscol', '504chucki', 'swoopthekid', 'it6', '7aaaand', 'rapper', 'waupoo', 'quoturgentquot', 'mylivetweet', 'mander', 'foad', 'httptinyurlcomonog', 'hommmmmm', 'henryscreek', 'todayth', 'lilim', 'booooooom', 'trasfusionload', 'blurry', 'joshwaleigh', 'rohant', 'lanet', 'stephaniehal', 'iamrehman', 'girlsuch', 'tonoght', 'sotwitterp', 'xkookie03', 'mzunyqu', 'jdperri', 'saver', 'soooori', 'thebabsi', 'easiest', '1txsage1957', 'jont', 'fefe', 'frankiete', 'thirdchapt', 'heartsnsparkl', 'httpplurkcompstns9', 'failfriday', 'irac', 'abelpetsuppli', 'cherrybaby2001', 'calabria', 'kindof', 'chocolatei', 'shaylasenzafin', 'courrtneyyy', 'dzschill', 'flatmat', 'mateomac', 'argtri', 'homeon', 'vluna', 'hoepfner', 'xanist', 'ohmeabbi', 'daughterquot', 'lichfieldblog', 'jefftracey', 'beachview', 'joelmchal', 'printingship', 'clang', 'jessiealeea', 'yetmikeyway', 'agriggs8', 'sayquotbitchquot', 'carmik', 'ohshnapsss', 'bloat', 'alancostello', 'theclimbx3', 'donnel', 'listent', 'httpplurkcompx2apl', 'rocstar', 'naiadrisa', 'teamqivana', '312', 'metal0520', 'workdetail', 'hobgood', 'dnkanai', 'penguinsnew', 'leilanili', 'otara', 'badxxx', 'flonas', 'haaaa', 'freesat', 'thisquot', 'ofcmatesamp', 'johnnybean', 'beathroom', 'miayuthao', 'quotshhhquot', 'xdkrystal', 'treefalldesign', 'plaza', 'thekingm1', 'ideapad', 'trentl', 'newbouldm', 'hermorrin', 'ecnmst', 'joemoore10wel', 'brittanysnow', 'wallli', 'julieposetti', 'bretti', 'lï¿½get', 'jap', 'owenong', 'danielleadali', 'undeniablequeen', 'httptinyurlcomn28lr3', 'ltcmusic', 'mrakin', 'moommi', 'mg', 'schoollol', 'fastnext', 'knwn', 'youdear', 'jordyn', 'flymeaway', 'mzmraz', 'flatworld', 'washingtonim', 'fornic', 'metaverseu', 'taiwanes', 'portabl', 'vinsensit', '117th', '2ampampetc', 'otra', 'moneymakn1', 'lovelytrinket', 'juliamari', 'theemptynest', 'teresakopec', 'mrspaulkjona', 'dirtycucumb', 'malaysiano', 'djsmartiez', 'folkeston', 'sahm', 'ktml', 'ruston', 'jeejee99', 'vkong', '2goodby', 'radiomobounc', 'symphon', 'jennvi', '3rdegree09', 'cocofontana', 'marseethey', 'manana', '8830', 'pacquiaohatton', 'shiggiti', 'ribfest', 'kgwsunris', 'johnnyrcoop', 'moonooh', 'giannicash', 'chrisshields06', 'hsubidoobi', 'tylerharrel', 'shoutz', 'xthemus', 'tireddd', 'kanoaofgomega', 'criedmak', 'kitod', 'carothenyx', 'pachero', 'quotshut', 'pseudosoph', 'bigben91190', 'yma', 'jamesshor', 'the', 'i94', 'mjasenn', 'dummerboyk', 'chuckreynold', 'alllot', 'chaya', 'httptwitpiccom66ymw', 'quotnokia', 'asay', 'dentistthey', 'httptwitpiccom4w1s4', 'tweetdeck025manualblink182air', 'booi', 'pusher', 'dormir', 'lastdress', 'prodigiy', 'dragonforc', 'sanzz', 'jemshad', 'sahabat', 'tilaaa', 'headlong', 'vsimmon', 'gahhhh', 'dibervil', '700000', 'jolla', 'gtnotlt', 'nï¿½mme', 'vaga', 'httptwitpiccom66y00', 'thatboybry', 'kindergarden', 'mo4sho87', 'alsoup', 'girlygirl007', 'httpyfrogcom3o3zxoj', 'bowman', 'awwwon', 'christa42', 'niqhti', 'patientnot', 'johnlush', 'repel', 'pst', 'bellyach', 'squink', 'bearer', 'marleematlin', 'gotica', 'luk', 'lukeholland', 'banditta00', 'jamaiiicah', 'thingand', 'jpaola', 'bikeradar', 'karolinepaixao', 'jenifel', 'almchees', 'toyno', 'cliojlh', 'busays12', 'consecut', 'httptwitpiccom4wsk3', 'natetron', 'theredhood', 'wandelweekend', 'aaahh', 'mysteriouslov', 'scorchmom', 'hillari', 'herrrr', 'whuahahhaha', 'hugsbut', 'weatherthastorm', 'rm', 'ropemark', 'actionchick', 'lamentablement', 'chelseytx', 'elliecopt', 'jaxboxchick77', 'kiitzyy', 'httpplurkcomprrj4', 'sharmi', 'themi', 'gerami', 'firepro0f', 'gauss', 'starvin', 'artcabinet', 'pickupshanan', 'solaigwc', 'monni', 'tifftiff88', 'itamarw', '1230', 'khandvikamane', 'sympathectomi', 'livenoutloud', 'pappy60', 'cheapest', 'melo', 'twisher', 'saget', 'swtcupcak', 'djdiva', 'fatten', 'emilyalltimelow', 'mssql', 'gayu', 'jessicastrust', 'allmanding', 'texi', 'bumboo', 'chubbi', 'kidquot', 'loadi', 'paulwingz', 'littlebird', 'shihadchick', 'hunim', 'httptwitpiccom4jkea', 'gyaan', 'httptwitpiccom4jeij', 'thriller', 'eoi', 'httptwitpiccom67ezh', 'ruthchu', 'pristina', 'cnystedt', 'aeir', 'leandro', '3144', 'caitlandkawaii', 'jenfidel', 'pohaku', 'doneto', 'portsmouth', 'taaaschi', 'oge', 'macedonian', 'numan', 'mantan', 'clicki', 'raineromano', 'pdf', 'bwl', 'mostaza', 'funpack', 'activeresourc', 'tinabeanz', 'slinqui', 'autismvox', 'mathewdavid', 'disservic', 'yhaw', 'dmoneymania', 'meekakitti', 'lewd', 'tiim', 'schoolgawd', 'hassan', 'jerrytrainor', 'struckthought', 'midad', 'anime81', 'cancertown', 'httpplurkcompwyqow', 'catvampe', 'management75c', 'grafittimysoul', 'carlospoulet', 'broooooooo', 'mexiabil', 'ggwbach', 'genevarockett', 'lalalaland', 'quincyann', 'summerr', 'meill', 'imthink', 'baulko', 'glorianatheband', 'mkt', 'httpbkitecom07kbq', 'mrsblankenship', 'uv', 'davidchua', '2nit', 'queenkak', 'bummerienjoy', 'httpbkitecom07k6', 'neeshababyyi', 'psycho', 'yeeah', 'frikken', 'perl', 'featherblossom', 'socialili', 'smilyross', 'xdxdxd', 'ilovewtcc0228', 'ihatemorn', 'tweetsuit', '639', 'jaya', 'yj', 'ohmanitsjessa', 'osocut', 'concertjunki', 'daysdiffer', 'cavit', 'rachaelphillip', 'smudger', 'bcisher', 'hump', 'teamjaydenicol', 'arvindrock', 'lifehous', 'flossa', 'chrisla', 'lucaspac', 'bejewl', 'aholston', 'ellesergi', 'crackberri', 'r1cc1', 'taylernicol', 'bing11', 'fightmosh', 'squeee', 'totem', 'floss', '14yr', 'laterrr', 'okiebud', 'cnreilli', 'minhteeeefresh', 'hahahhah', 'jeffabel', 'awwwbusi', 'soarin', 'damali', 'twicullen', '237', 'crazymadzi', 'internetquot', 'commercials', 'httpbitly15yyid', 'memesijaitort', 'nakam', 'amitcb', 'ï¿½20', 'fightlol', 'livejourn', 'therealgiftednj', 'bojan', 'lunarlif', 'sï¿½ï¿½', 'thriftymamab', 'becas', 'scapersus', 'feather', 'fortrel', 'rivoli', 'movingcariphon', 'tisha', 'httpplurkcompx258n', 'ericludzenski', 'duhhhhhh', 'bellabellini', 'raera', '800pm', 'successnow', 'collectivesoul', 'iso', 'bunnyhungri', 'ethiopia', 'freelanc', 'pralin', 'furbi', 'dwsomer', 'squirrellist', 'lilceas', 'darlenezschech', 'mrddg', 'angelac519', 'nataliefish', 'quasisequel', '367', 'strawbleu', 'irascian', 'purg', 'scorpio1641', 'synday', 'ameliafel', 'youl', 'abduzeedo', 'mcdick', 'traceym75', 'sicksom', 'jamiewhincup', 'chaz81', 'fladdermusa', 'communitychannel', 'laddi', 'thewordaliveaz', 'ohmyseven', 'hoursveri', 'verna', 'grayguitar', '840', 'lovebank', 'geekandahalf', 'aminakad', 'whaaat', 'lottsa', 'domin', 'quotend', 'fridaywork', 'marissac500', 'pervert', '2050', 'quotwhoor', 'afc', 'morgannnn', 'messga', 'grouch', 'angee10', 'amad', 'declan', 'susancrenshaw', 'dealseekingmom', 'kamu', 'byeso', 'twitterfriend', 'abcddesign', 'franco', 'growingquot', 'camerabag', 'lofnotc', 'ionoi', 'missrain', 'heep', 'brettyrock', 'geskoi', 'agenn', 'togetha', 'aarg', 'tapite446wwhllyar', 'httptinyurlcomd3qwar', 'osx', 'sobbi', 'cristnabl', 'myjacksonbrown', '830pm', 'quotcaus', 'maani', 'annerondeau', '1x', 'clarendon', 'lupinbebop', 'alilj', 'sensor', 'greenlak', 'mobileech', 'bifoc', 'nungguin', 'kileyymarie', 'boxi', 'probablywhi', 'yï¿½n', 'witun', 'beshirthappi', 'roundup', 'outhaha', 'marieskizo', 'mcphee', 'iloveitwhen', 'hawndog', 'barryalistair', 'timmy', 'autorefresh', 'licns', 'marigold', 'wylthenemesi', 'ooow', 'mtbonez', 'katarinahj', 'deannamichel', 'ceidiog', 'viz', 'shakti', 'ikonora', 'quothimquot', 'lï¿½ng', 'christmasim', 'revisin', 'raemonvip', 'bwahahaha', 'raadiu', 'janehungoz', 'pra', 'httptinyurlcomlk9ag8', 'brettdennen', 'joaniemaloney', 'quotdonequot', 'outsi', 'payforglori', 'coca', 'kameliamohamad', 'grrrrrrrrrrrrrrr', 'iamnotmatt', 'piggl', 'serco', 'soudabeh', 'tifflacey', 'bleck', 'twidget', 'ugghhh', 'skotcarruth', 'erinbarna', 'torontostarmap', 'usticks555', 'publicvoiddk', 'itlog', 'weeekend', 'captainwalk', 'wellhop', '8000', 'micah', 'balist', 'soundbwoyfast', 'hereliesvanessa', 'nowto', 'knowbut', 'bikesh', 'spinallhead', 'httptinyurlcomr5o3zj', 'o0robertpatt', 'robbinson', 'twitterslowli', 'httpyfrogcom08kaifj', 'sarald', 'quantum', 'umbrellaless', 'heri', 'itstrizunig', 'jamasweetie06', 'uset', 'reeese', 'flywithmeobsess', 'zacgandara', 'lament', 'jezkemp', 'httpplurkcompx2k1z', 'costumeor', 'clearer', 'heut', 'texasgarabedian', 'ampaha', 'verbsnnoun', 'parnoid', 'sammysamsam5', 'shode', 'mackillop', 'daz', 'annabranch', 'samcarterrul', 'gknight', 'cybercheatin', 'morphine1st', 'chrispalko', 'ulstacular', 'resolv', 'guysterr', 'djhazzard', 'zotz', 'myronetadrid', 'doni', 'existiu', 'mpool', 'realoomph', 'lutheran', 'web10', 'rawheal', 'ludi', 'belay', 'interpunkt', 'polaroidsof182', 'wellhapit', 'djnv', 'ttt', 'girlfriendquot', 'abstractg', 'loretta', 'diggg', 'ghwt', 'trolley', 'resti', 'hannahbananale', 'eddieifft', 'russtl', 'tegan', 'shackletonmus', 'marsacademi', 'elmo824', 'asinkujobear', 'writin', 'herecomesdomzi', 'tronella', 'froyo', 'compton', 'hellblaz', 'kittin', 'empirebetti', 'wmewel', 'veeele', 'sexonwheel', 'httptrimkpor', 'sugafactori', 'redwood', 'unblock', 'httpappsfacebookcomdogbookprofileview6480360', 'ngoskillz', 'penny268', 'tankianann', 'finenow', 'knowheartless', 'onthepontyend', 'alicam', 'uktoday', 'babblingbrooki', 'proclam', 'examenul', 'burbleon', 'ram014', 'petethevet', 'latenow', 'xxlovexxpeac', 'igaia', 'unscript', 'ferretwho', 'jenniferjayi', 'meghaaa', 'leztah', 'goodgirl', 'grrrsvill', 'bpm', '16yo', 'grrrrrr', 'x9999999', 'prows', 'johan', 'gourd', '9650se', 'assistantcooknannychauff', 'animeexpo', 'ditucci', 'maatt', 'killumbu', 'emilyjonesmus', 'unfairltemogt', 'wotd', 'sorcha69', 'cheesygiraff', 'imagesandword', 'getgood', 'ajaleigh', 'californiai', 'kstricklen', 'trekagain', 'quotshortquot', 'yett', 'dhellohannah5', 'stickysoychai', 'emailsonli', 'iamumlaut', 'wayneliew', 'justit', 'takeov', 'hfw', 'quotswin', 'daysthey', 'frustratingli', 'yesterdayim', 'palnic', 'sleeeeeeepz', 'peoplemyself', 'httptwitpiccom665a2', 'shannen', 'computeri', 'back100', 'mrng', 'httptwitpiccom4wjr', 'dontletgo14', 'exercisebuddi', 'httpisgdkqsk', 'mithru', 'axm9237', 'gamemoth', 'nyappi', 'vy', 'joke14', 'daysh', 'ï¿½timo', 'pxi', 'johndavidwright', 'salivari', 'doki', 'godown', 'fortyisthenew20', 'punlk', 'dbackwardsman', 'tobinharri', 'ddoodm', 'meghanian', 'asencil', 'breport', 'lagaff', 'yyyyuck', 'recordthi', 'ericviolett', 'hoodiecoutur', 'dongl', 'helloholland', 'dte', 'twitermethi', 'httpplurkcomprr121', 'concord', 'kvagur', 'godddd', 'shouldthen', 'suckkkk', 'erikamodina', 'pressrecordmag', 'looloojoju', 'danbharri', 'trcatanes', 'ickl', 'uniqueguitarist', 'scooby867', 'holliebarden', 'amyfroebel', 'warmer', 'howlertwit', 'wonton', 'shag', 'roadrippersid', 'fatine', 'fightingfatigu', 'goopmop', 'wonderwhi', 'ozbargain', 'youknowimsofreshtilldeath', 'buckonellen', 'carï¿½too', 'httptwitpiccom4jfkw', 'ispylevi', 'friendthat', 'jubey', 'trnds3tr', 'ranukka', 'draven', 'dyinghafta', 'complexion', 'robholladay', 'subsid', '2peopl', 'nyblaqu', 'gatorayd', 'laurencarl', 'jberrebi', 'ariana', 'tiiini', 'melancth', 'hbd', 'bgn', 'giirll', 'dayword', 'fuckyeah', 'technicallyi', 'creamamp', 'tabbi', 'aaaaaaaahhhhhhhh', 'dillybar', 'hawkesburi', '23rdani', 'cloudsand', 'hre', 'sympahti', 'runsexcurs', 'saishediddi', 'misscherrypi', 'pgce', 'httpbitlyik6kf', 'counteract', 'wedspac', 'paskalamonik', 'thc', 'pokerauthor', 'backfb', 'httpdiggcomu12xao', 'juh', 'itsleish', 'ninalo', 'calikik', 'httpblipfm7a73f', 'hiyer', 'httptwitpiccom666gi', 'quotconnectedquot', 'snappytouch', 'trueand', 'bluevolv', 'krustycanuck', 'crobcari', 'snivel', 'lauraaaknight', 'httpbitly3pj876', 'nickbrickett', 'sayitwithecard', 'mono', 'fourstringfuror', 'pom', 'httptinyurlcomkq47ah', 'boydhilton', 'httptwitpiccom5s5f9', 'markkh', 'enterpric', 'dlanham', 'citibank', 'bea0414', 'geektoad', 'httpblipfm5jnl7', 'httptrimkpk8', 'copeland', 'quotlolol', 'shudnt', 'jmarie7481', 'youhav', 'abeerforbil', 'rebeckela', 'clorox', 'yujm', 'sama', 'bigjim', '88michael', 'mrballist', 'africanewtonxx', 'goodgreentea', 'httptwitpiccom4wiqv', 'sayit', 'liveinlove10', 'puppyy', 'folkiesss', 'tiffanycelest', 'doze', 'proov', 'caiti', 'whilegonna', '10m', 'imei', 'wfm', '710', 'lath', 'httptwitpiccom4wssx', 'xanitalx', 'moweezl', 'kimberly625', 'alltel', 'laciete', 'rubik', 'twothi', 'zeenel', 'francaiskitti', 'variabl', 'retsi', 'aditya', 'schol', 'astaldoia', 'lancey', 'quotgraverobb', 'chocolatesuz', 'thq', 'circlealsoab', 'tiredhad', 'micheal', 'propagandhi', 'acweven', 'farsi', 'toddmeg14', 'alperdotr', 'slicehost', 'wwwjustintvkubbur20', 'kyoto', 'nzz', 'gentlemanriot', 'emmaautumn', 'bobwieck', 'viennoziimiigi', 'emmmaj', 'moonsgirl', 'meljachin', 'hapen', 'ahseya', 'crawli', 'thespian', 'alltop', 'httpblipfm5jhim', 'acident', 'partï¿½ï¿½', 'ulead', 'httptwitpiccom65623', 'quothedquot', 'morlhon', 'somerset', 'issueï¿½', 'billpritchard', 'icetv', 'speciaal', 'jacketslut', 'yfeandipoo', 'smfalways3', 'httpwwwcultureshockmagcom', 'zzzzzzzgoodnight', 'rugrat', 'stevechaiguy', 'trillin', 'snapili', 'kzulu', 'fopp', 'withstand', 'kiisfm', 'troyella', 'httptwitpiccom4grnh', 'jeangra', 'wwwlatalkradiocom', 'quotsummertimequot', 'llauren', 'goanna', 'kindlejunki', 'tessneal', 'chemist', 'schoolbook', 'haber', 'respondquot', 'idestroy', 'peckhar', 'ilonaaaa', 'billbergstrom', 'wldnt', 'lum', 'showertrafficfactori', 'upfeelin', 'claytonmorri', 'puggi', 'wantholla', 'sueveeyal', 'httptinyurlcomc7yojg', 'cityslipp', 'jdcritt', 'cyntaxerror', 'chrisef', 'areonle', 'abound', 'servernic', 'xheiligsein', 'sallyanne85', 'gregor123456789', 'dud', 'rda2009cla', 'caarooliineex3', 'stayn', 'arisinterlud', 'quottouchquot', 'neyo', 'danawillhoit', 'gracetanglefoot', 'dreeaami', 'httpbitlygjqsh', 'dcastellani', 'niccccol', 'varunshridhar', 'annran5', 'jupaa', 'httpcoordinfogc1ret6', 'loopt', 'vï¿½ng', 'deadset', 'schoolim', 'joannelee7', '050', 'forrest', 'runanskyrun', 'charifi', 'uhhindoor', 'hismus', 'graciou', 'capcomm', 'shiznaay', 'photojack', 'freddurst', 'syammasri', 'therei', 'williambeekhui', 'yeayyy', 'niceguess', 'lifeasiceyit', 'therobertmorri', 'tierda', 'quotseri', 'arsehol', 'reec', 'capulet', 'rotc', 'rolf', 'pleassur', '3stripe', 'httptwitpiccom4wgp2', 'gotsoul', 'chorleywood', 'classicbecca', 'hilaryj', 'httpisgdyioj', 'hampton', 'lacrossehawti', 'ladystar88', 'allank', 'uwian', 'mrphotograph', 'tailgat', 'persaud', 'ladybug21', 'awesomespock', 'microauto', '28ï¿½', 'howya', 'dcvulcanraven', 'natalie1990', 'ahww', 'fayst', 'cybersleep', 'chilosa09', 'cï¿½m', 'linoleum', 'afro', 'jennajmsn', 'whitley', 'bptheproduc', 'jakazid', 'shreveport', 'sometimessomtim', 'isay', 'picturequot', 'houuur', 'timbuckley', 'apologet', 'phot', 'sarasso619', 'xxmcrladyxx', 'elliot79', 'emc', 'ashleyyyi', 'sheat', 'needquot', 'weatherman', 'reddh', 'zeenabobeena', 'noopdoggnatasha', 'loveistrain', 'louhhh', 'httptwitpiccom4w5eh', 'pythonkingsnl', 'shepard', 'oooooooooo', 'vn', 'roxxinikki', 'n0w', 'kerroncl', 'latham', 'coffie', 'rockedon', 'ghxststori', 'shopoholictot', 'speakgirl', 'worthacrap', 'nigellamb', 'defiantli', 'jointquot', 'mwaha', 'rememberquot', 'izon', 'txp2', 'httpustream2j3l', 'httpbitly16lugx', 'carillo', 'unmarri', 'mcgiff', 'agress', 'familyampfriend', 'mikegrac', 'georgieboom', 'ladyinurdreamz', 'whorehay', 'pisstak', 'kimberley', 'bradleemeredith', 'nhip', 'michelleweb', 'jerryaz', 'nightfin', 'muahahahhahaha', 'ninjapixie83', 'mamapennington', 'catch22', 'ulcerrif', 'quotniteoutquot', 'sundress', 'jlsear', 'tigers09champ', 'copycat', 'fucckinggg', 'fragment', 'soulsweet', 'kellylabanco', 'indigofish911', 'vill', 'offrop', 'marcuspowl', 'veo', 'catfight', 'fusedgam', 'mosskat', 'httpbitly15fo4x', 'bcyde', 'barmak9', '85', 'quotpoppingquot', 'laurenhalestorm', 'grimestopp', 'valkyria', 'immobil', 'largo', 'httpisgdyopo', 'danielfelic', 'kayteemick', 'zap', 'sandwichquot', 'markboulton', 'httpbudurlcomc765', 'potatochip', 'daythat', 'shir', 'dayrod', 'classnot', 'ybwm', 'ecxcit', 'httptrimkpc1', 'tiredbor', 'dspecial1', 'rowdi', 'wspnew', 'dougbenson', 'aaaaw', 'triniaguirr', 'homieactu', 'snowd', 'jkt', 'subhana', 'ruffhop', 'mommaluv', 'wellllll', 'malicev', 'httpbitlya0pyr', 'sammoran', 'laurendorcusi', 'maddiewan', 'rstat', 'markdeakin', 'jazzjeet', 'coolse', 'wandahop', 'dorkita', 'httpplurkcompstvri', 'yaobroken', 'safig', 'cuut', 'blucu', 'brotherrrr', 'yarnth', 'trike', '425', 'venetian', 'hyhtt', 'warisfuck', 'httpofff09media140comp131', 'waaw', '3asa', 'rara', 'ph7', 'montmelï¿½', 'beadqueen', 'rightgotta', 'kristaeccleston', 'tare', 'nowthank', 'lockbox', 'lieslm', 'mabaho', 'abean2007', 'samfenton', 'chelsii56', 'scrapplesandw', 'seasid', 'savi', 'nickil', 'wseven', 'beautifuland', 'marketeson', 'spahkleprincess', 'andrewmayn', 'raawrrrr', 'kg4rdf', 'boredmiss', 'yesterdayapolog', 'tamara', 'myob247', 'rachelongkili', 'goddamit', 'marieluna', 'itexa', 'sooooon', 'dirtlawy', 'waterfir', 'eftelingfun', 'iamhenrymorgan', 'immun', 'forgetwhen', 'prospect', 'marimcfli', 'bromeliad', 'mia423', 'greenbelt', 'amplearn', 'igortizz', 'puffyn', '753am', 'karmadillo', 'prissi', 'httpbitlypenql', 'drumset', 'trippplesweet', 'wfujerseyjon', 'sorbet', '13341015518', 'haiszt', 'conjunct', 'xxsteebiexx', 'pfftt', 'sirpopey', 'displeas', 'cookiemonster82', 'pcornqueen', 'visitng', 'cushion', 'unforgett', 'kontorrecord', 'carmenbeliev', 'snoop', 'nkeathley', 'thenpsych', 'jennysmynam', 'jive', 'idealt3', 'bluesfabul', 'alchemus', 'murphyusa', 'sankeertanan', 'microphon', 'peacediva', 'jadoon88', 'formfillingin', 'httpbitlyss6yp', 'scandic', 'robertday26', 'spiro', 'muslim', 'jummi', 'buggysros', 'emmadaarl', 'lifecoach2women', 'berkata', 'gabbyfek', 'tstorm', 'orch', 'boagsi', 'o2', 'parella', 'booksmovi', 'shaayad', 'totallym', 'karinbza', 'poeboyandi', 'fernshadow', 'waityeah', 'sueyoungmedia', 'annna86', 'russfisch', 'bidden', 'thug', 'jdlcaro', 'arielm27', 'seexyyyyi', 'maximph', 'httptwitpiccom4w1rr', 'opendn', 'dne', 'xmind', 'elderwand', 'wood83', 'freakinggg', 'lilazngangsta', 'didntb', 'jobo', 'deanbenning', 'jmoriarti', 'sugarloot', 'ebm', 'mhall214', 'homeit', 'sputty11', 'palmdal', 'jessbooka', 'booya', 'bingthecherri', 'shaevvv', 'confusedp', 'boelzebub', 'joooooooooooooo', 'mediteranian', 'azaxacavabanama', 'brunyc', 'malibudud', 'mugglespac', 'goliix', 'theuncleloui', 'mckra1g', 'congratu', 'quotrac', 'juergn', 'fim', 'compoundin', 'quotsometim', '9128', 'hosea24hour', 'djinfrar', 'senci', 'anant25121986', 'sleeeeeep', 'mandilouis', 'quottravel', 'yougt', 'gpr', 'itto', 'alexnavarro', 'amedawg18', 'ocla', 'sttart', 'thereit', 'coloursfest', 'hanoi', 'unnerv', 'epiczorzpeep', 'boxa', 'teachereeya', 'wn', 'phenomenonal', 'marchit', 'ahahaay', 'mcm', 'yoshitori', 'tant', 'dielavish', 'tweepleway', 'samesex', 'erinhosborn', 'iva09', 'teacup', 'migawd', 'bayareabit', 'tinpanalley', 'forw', 'luismvaz', 'fizz', 'nathandevont', 'spainyou', 'kthxbai', 'nikhilnarayanan', 'wasnï¿½t', 'millionfagmarch', 'mold', 'aserejï¿½', 'timeout', 'dist', 'haloom', 'winn', 'moreov', 'cheati', 'pridelin', 'macedonia', 'rominafahem', 'amychiu', 'innyvinni', 'curios', 'npollard', 'schedulequot', 'serani', 'grandpalt3', 'bumper', 'umnick', 'quotstrang', 'correctiona', 'cranberryquil', 'inolv', 'hahahaand', 'rv109creek', 'gbglass', 'pob34', '715', 'splitrockranch', 'gilmour', 'tobutt', 'yansie02', 'httptumblrcomxyb1qw8cb', 'titanium', 'emclev', 'rebeccamezzino', 'carriek', 'bowsquot', 'faculti', 'mikebrinkman', 'dance2jeffree', 'beginsyay', 'moy', 'mikehuntington', 'blather', 'yuraf', 'albuquerquequot', 'mastersunshin', 'comingc', 'thomaskattu', 'avontenikol', 'httpbkitecom07k6x', 'melbelle2805', 'nafra', 'ticketranaway', 'andrewdisley', 'remast', 'birthdayhappi', 'slamma', 'crappleton', 'katherinewhitbi', 'lesnoys', 'glowi', 'httpplurkcomprou4v', 'vinerinim', 'loven', 'pierdut', 'goodthank', 'lunchhmph', 'imtetst', 'tschryver', 'richard1988', 'joyrid', 'blahe', 'lipstickkiss', 'liein', 'badnurse09', 'fanboygeekstu', 'ditzynicki', 'goldenfish00', 'negghead', 'djbrandigarcia', 'httpnaturalismofileswordpresscom200801elliott10jpg', 'trumpy03', 'maaaaaaaaajor', 'danny30011980', 'httpplurkcompsv034', '168', 'httpblipfm5jf53', 'ommg', 'hemorrhoid', 'ath', 'neomonia', 'latonya', 'obamaï¿½', 'zane', 'neillavin300', 'httptwitpiccom670tp', '15h30', 'moondog', 'goonight', 'httptwitpiccom4we51', 'farhappi', 'newsz', 'seanthigpen', 'buyim', 'kristensaywhaa', 'strikegood', 'outvot', 'lolbethi', 'wlcome', 'jenninoman', 'gretchenrubin', 'missshell20', 'scattyjan', 'djflipout', 'nodd', 'alimsalahuddin', 'hï¿½ndel', 'cheetahmamibia', 'shelton', 'yayay', 'sportsdivatiffi', 'nincom', 'arosh', 't9r8am', 'truep', 'devbanana', 'minutei', 'disgruntl', 'thebigmac', '12ghz', 'stii', 'chairman', 'fotoreportag', 'whitecap', '9yr', 'motelroom', 'httpwwwmyspacecomtherealfunkymonkey', 'kleenex', 'narn', 'lowkeyi', 'chitwn', 'skott', 'xcatx', 'vautlapein', 'rkmonkey', 'ost8doc', 'bclub', 'mrsmcsupergirl', 'spookerlab', 'baybe', 'everyher', 'xbl', 'tanyaahedo', 'mikeescamilla', 'kyluhtoot', 'partysuprisingli', 'journoatwork', 'reeaaalllli', 'pauljchamb', 'charice', 'paddington', 'areyoume', 'sweepi', 'walmond', 'francebelgium', 'bakerpet', 'jailbroken', 'snw', 'mewel', 'nikkipleasssee', 'dione', 'mistressjett', 'plav', 'relationshipssh', 'piaatrinidad', 'ulduar', 'bret', 'caramp', 'misscaseyb', 'httpplurkcomprpzmx', 'ghunght', 'ilol', 'gernika', 'malo', 'babelfish', 'sahal', 'ankualga', 'nosliweiggam', 'clumsysteph', 'jen004', 'w4m', 'jbii', 'intofar', 'msluce', 'mrsmonj', 'hispan', 'phillyr', 'caulk', 'wavez', 'bwrc', 'rachiku', 'brianshead', 'httptiny12tvi3ks8', 'sellput', 'zelenka', 'drastic', 'harryharley', 'impli', 'faces', 'marlooz', 'preoccupi', 'crowntown', 'uuu', 'roxieravenclaw', 'silenceiseasi', 'achurley', 'squareenix', 'httptwitpiccom4t6qx', 'httpmylocmefim', 'gweetin', 'pinkyponk', 'managingonlineforum', 'tarlac', 'ito', 'elegysanft', 'liar', 'quotdinero', 'acryfromthesoul', 'smug', 'fannyaddam', 'moredior', 'tynie626', 'nakakahyp', 'betterislittl', 'kankzxd', 'domcorleon', 'etafish', 'tweeterdiva', 'mrjimson', 'moneymak', 'greattttt', 'bred', 'godit', 'tswendywilliam', 'httptwitpiccom3x3wq', 'idolscott', 'scram', 'zorni', 'ronnyakatrauma', 'officialcharic', 'ieit', 'upssher', 'successfuli', 'vogonpoetry42', 'enzyt', 'mespptc', 'xfactor', 'httptinyurlcomddyyd6', 'weekpleeeeeasssee', 'jamesprop', 'myoungpsu', 'rawwwwrrrr', 'latapia', 'unsur', 'nandito', 'ummmmm', 'larrieux', 'emmalovesheart', 'chut', 'nowgnight', 'jamesahart', 'eliseven', 'fressshman', 'fuckbomb', 'evertb', 'tmrohow', 'llawen', 'littlele', 'helenwraight', 'cydonian', 'luc', 'eew', 'celebret', 'joloc', 'kevkevv', 'equivoc', 'embroideri', 'taxidermi', 'xxxxxxxxxxxxxxxxxxxxxx', 'heston', 'kazoocarriefan', 'httpg', 'anbudanbala', 'conorcl', 'uuugh', '865', 'sonia', 'beforeyoufal', 'thequietone35', 'drem', 'boomer', 'sosososo', 'dogcrazi', 'clint', 'walaikum', '1cor1613', 'dlayphoto', 'daveockun', 'frostedfroslass', 'misssarabe', 'knoim', 'atlumschema', 'breakdown', 'httptwtfm91610', 'wacha', 'swensen', 'mnmissi', 'hlywdscrnwrit', 'httpbitlyygpdd', 'slither', 'ultimatepetshow', 'songbuildersuk', 'nickytvf', 'fanboyuk', 'httptrimkwnx', 'whuffaok', 'leff', 'lyke', 'moleskineï¿½', 'eqpmnt', 'devin', 'depit', 'msfeistu', 'jeanettebern', 'rawknrollnet', 'thaidn', 'goddaught', 'reachfind', 'goodbad', 'antonkiselev', 'davidahugh', 'elton', 'soleinvestor', 'sklh', 'mattmecham', 'jamesphelp', 'lettersemail', 'pmcclori', 'themrsh', 'ohbtwi', 'siskita', 'httpbkitecom07jz', 'debblu', 'stephan', 'wwwxiuxiuorg', 'flair', 'timer', 'j0shu4', 'earthidea', 'satish', 'islandidea', 'justmebo', 'boooooooor', 'testingquot', 'vwller', 'keve', 'ruthnin', 'kde', 'brotherjess', 'novalich', 'okayso', 'howby26', 'birdquot', 'httpustream1ntp', 'reap', 'oouuchgood', 'izzyartest', 'kterwin', 'ceesdop', 'moooorn', 'betscrr', 'mannnnnn', 'misst7', 'infant', 'boringquot', 'jtabzz', 'betaread', 'onionbootycom', 'powderhorn', 'theshoctor', 'heavyweight', 'oliverphelp', 'bwahahahahahaha', 'notthebest', 'brad92190', 'youï¿½v', 'alarmsong', 'ameefac', 'teabot', 'kamy775', 'cabrera', 'thng', 'bettersur', 'swampedso', 'upgradedon', 'gazillion', 'mandysaturn13', 'calll', 'gamier', 'kellz95', 'crampin', 'framiann', 'cheeseburglar', 'cyndi', 'steampow', 'crowdhow', 'fennel', 'combon', 'musiclover15', 'whinetweet', 'anoldmasterjukz', 'chidlom', 'brianwierman', 'shakamaiden', 'lmangueart', 'gunter', 'chiang', 'missmarissxox', 'atlpic', 'repetit', 'brokeoh', 'hmmmmm', 'cbarrett', 'wildchickendew', 'hopetheyv', 'lunch85', 'sickkkk', 'soph', 'arnteriksen', 'cockatoo', '3mramr', 'singz', '10gb', 'antm', 'upfor', 'steadili', 'megsegg', 'skoduri', 'markstanto', 'stub', 'nelley', 'michelleph', 'wyclef', 'cruisetour', 'robbywat', 'homerun', 'joannaboothbi', 'httpgetskyfirecom', 'ferrao', 'curvey', 'confetti', 'buren', 'horsekiss', 'tofuatom', 'adrian', 'httptumblrcomxs81qy54', 'mississippi', 'pleeaaase', 'golfbal', 'mezandi', 'scoundrel', 'kamathvasanth', 'httptwitpiccom67hw5', 'nethra', 'maaaaster', 'estmay89', 'iwish', 'perivis', 'anyidiot', 'fluffymuppet', 'grouptweet', 'acara', 'iloveyouuu', 'lell', 'nsharm75', 'crimsonmus', 'kidsit', 'lopatcong', 'hpt', 'zackintoy', 'girrrlfriendim', 'goddessfleur', 'bestsel', 'kelvin', '530p', 'nomadit', 'gdrage', 'tahitianmom', 'hamlet', 'benz', 'ventura', 'emmabmth', 'genghi', 'springwatch', 'stephxrawr', 'cadet', '194', 'tyseal', 'albat', 'dearest', 'httpbitlyykksu', 'i95', 'fisch', 'higherscor', 'bigg', 'ticon', 'flipsid', 'spellcheck', 'httptwitpiccom4wqyn', 'phast', 'flyykiddangel', 'scampi', 'svetlana', 'sweetp0tato', 'ipodsadi', 'scearley', 'laermer', 'loveliest', 'gerdadur', 'mamab10', 'taraw07', 'sara3isenough', 'rusak', 'fishahhh', 'jonathon', 'finalth', 'doingansw', 'sjesk', 'quotstil', 'amazak', 'littleren', 'larasati', '242am', 'mlpband', 'httptwitpiccom4gemf', 'httpplurkcompsvm3r', 'brolight', 'grapevin', 'kimmyownsy', 'haldira', 'iweb', 'misschellebean', 'kurang', 'jazzyladee1908', 'slimi', 'jtchan83', 'yeahjust', 'suzydafloozi', 'cigar', 'linuxoutlaw', 'ger', 'snapshot', 'nonresid', 'unagi', 'hahaaaha', '30c', 'multiplay', 'kiransmommi', 'stripclub', 'proven', 'lwoodhous', 'newyshortstack', 'heyquot', 'vall', 'quotfoodstatsquot', 'jennyinmaui', 'terriim', 'gman', 'workhomexpert', 'skyguard', 'pinkisux', 'wirechair', 'pallet2005', 'ilovedarkedward', 'poltergeist', 'hepcatrayo', 'staydamnthat', 'katnip', 'girlonlaptop', 'antwoinn', 'newslit', 'stefanz', 'httpmylocme205r', 'guillian', 'unair', 'jasonhoun', 'parkcaf', 'melolmin', 'missendon', 'proabli', 'httptwitpiccom2uzx4', 'rappn', 'ambernclark', '1424', 'dxspaintbal', 'timmytenga', 'asmita', 'susiegroov', 'eplisa', 'weefeetfranki', 'johnpapa', 'sickal', 'bsd', 'tikka', 'yeahquot', 'ngayon', 'dollg1974', 'evanhindra', 'napveri', 'claritin', 'yummmmmm', 'tamejhna', 'gothat', 'lknerl', 'countrygirls86', '1057', 'paulcoleman', 'churro', 'irrespons', 'evenn', 'lesliein', 'boldnbright1', 'clouddancefest', 'desertparadis', 'fortheloss', 'banggg', 'appleinvestor', 'httptwitpiccom67ybk', 'musicislife2010', 'justplainmeg', 'lifechang', 'angeltalk', 'quottalkedquot', 'kausarazam', 'clam', 'smashingmag', 'vitalstatistik', 'amyswarren', 'atomicfern', 'jayo240', 'quottryquot', 'lovestruckxo', 'httpblipfm5jhtv', 'barbaranixon', 'kaust', 'juniesgurl', 'tbortnyk', 'plasticpiranha', 'nyokap', 'quotchangequot', 'toocan', 'blurgh', '1102', 'amdiegelman', 'bobi', 'dvautier', 'walet', 'bmovi', 'jongirl79', 'anthonycolaneri', 'jorddanknight', 'cuil', 'wickedgirl24', 'petaeurop', 'ohman', 'mattwerkmeist', 'merlen', 'xchristineannx', 'pleeezzz', 'ianknaan', 'moin', 'petshoptyp', 'tost', 'sensehahaha', 'superninjamax', 'robm67', 'fuster', 'lilvicioussodmg', 'punkd', 'bannish', 'teatre', 'aimecain', 'laurenwhisp', 'puerhan', '71st', 'x0', 'maryleefod', 'katdart', 'litteratur', 'yeahhhhhhhhhhhhh', 'hose', 'blondebear87', 'heyythnxxorinvitingmetourpartyrobillbedownthereonjune24thillmissuwhenugotoitali', 'hapi', 'webquot', 'azamann', 'krisrey', 'simplifi', 'unfix', 'wondefl', 'cnew', 'shoppingwowbig', 'goodbey', 'amgot', 'onlyjesus777', 'camillecak', 'newsroom', 'eleww', 'jayne4jbd', 'jeannethink', 'boya', 'magreal', 'httpximeemcomkpeqpg7vuy', 'tripod', 'twngreat', 'bobbyvoicu', 'mercuriosjewel', 'hehenic', 'scientist', 'sims3nieuw', 'alphabet', 'httpblipfm5z6n8', 'juneambros', 'tyvm', '153bpm', 'jdawg', 'surbir', 'httpblipfm5jv7j', 'sb6', 'dougv', 'molagoot', 'geoffjon', 'ememcoolj', 'vigor', 'sgb', 'sameperson', 'misscindybabi', 'quotdramaquot', 'pfff', 'muh', 'itmatt', 'jor', 'mcflyxxdannyxx', 'fatherinlaw', 'jenti', 'tinkn', 'butler', 'shufflebit', 'maryviolet', 'soetim', 'bloodhoundgang', 'httpmobypicturecomee2ij3', 'moviee', 'apt10c', 'kinduhh', 'ukrainian', 'gtgti', 'neep', 'rajtilak', 'domezydr', 'itsannafriel', 'lapitytop', 'sunvitd', 'kevsbrtni', 'leyrock', 'kitankhamun', 'marchaduch', 'johar', 'leftwithout', 'dnldub', 'replic', 'gurrrrrl', 'httpblipfm79g85', 'datejust', 'mhcsmooch', 'kingdomquot', 'travelingcircu', 'chup', 'audun', 'arinbjorn', 'quotinstal', 'httpfreecdbackseatgoodbyecom', 'joeyarceo', 'aaaargh', 'turbo', 'httpbitlychzlw', 'httptwitpiccom624qo', 'richardescobar', 'nymph', 'jayfmonlin', 'worldfamouskid', 'frizz', 'thinker80', 'httpblipfm5jo4w', 'g11i', 'httpbitlyqqe7b', 'noravrenezi', 'walkeron', 'joanna', 'ladyve', 'commiser', 'speedofsound', 'dooc', 'ilt3u', 'momstob', 'goooooooo', 'httpbitlyktfbr', 'reddevilleann', 'impostor', 'todaymi', 'poooooooor', 'doublejasmin', 'kulir100', 'shiftswil', 'okim', 'spaghettistrap', 'dataloung', '418', 'httpbitlycom3lohvl', 'party40', 'tenderloin', 'boysi', 'iloco', 'thirteen', 'karyva', 'halfmonkey', 'startil', 'httptrimkp06', 'harora', 'httptwitpiccom4wfqn', 'custodi', 'maeannett', 'nowic', 'twitast', 'farafaizul', 'burga', 'thegtgt', 'uhoooh', 'sunilsebastian', 'wweeeeooo', 'annwitbrock', 'lincolnt', 'muhahaha', 'daaaaaanc', 'elit', 'sleeepyyi', 'liesgood', 'amar', 'tompiperfresh', 'lq', 'stacilynni', 'bbolin1469', 'jpnnbak', 'mariancal', 'jennymalaiali', 'ishaka', '30b5', 'mump', 'koh', 'faninfo', 'freedomor', 'httpbitly1doeej', 'httptwurlnljnizbw', 'notmi', 'caiu', 'snuffel16', 'jeffgerstmann', 'wildflowersweet', 'ewl', '350am', 'httptinyurlcomdm4b3q', 'anothrstupidkid', 'gleek', 'shwasteddddddddd', 'louistm', 'mishasaysrawr', 'sï¿½i', 'youcanknowgod', 'icharlott', 'thehottestboy', 'arkansa', 'congrad', 'makeupgeek', 'derekcodi', 'bundi', 'davewarwak', 'tradewind', 'niveauxbandit', 'otw', 'bareknuckleyel', 'ï¿½300', 'shangstav', 'weh', 'alexosh1234', 'rawrve', 'bog', 'jaymckenney', 'goodmorningnight', 'emelgeek', 'loribot', 'jackhamm', 'angelcor', 'heartstr', 'souvlaki', 'cpeven', 'meon', 'frioooo', 'bsaeed', 'capnmactast', 'heyb', 'devour', 'nicolahunt', 'cruelti', 'tentando', 'sickkkkk', '29yr', 'bottem', 'thatit', 'empsfm', 'justsal', 'receptionsc', 'anywayss', 'sophieveronica', 'dinosuit', 'instanc', 'derrickjdavi', 'jimmydougla', 'wooowww', 'hojomo', 'jonaknt', '1330', 'headlight', 'goodwil', 'cbenton', 'ooft', 'mayoroftwtr', 'ghetto', 'skinnymari', 'askaroundottawa', 'thelogistician', 'throwingkeep', 'imajicart', 'absoulutley', 'sancha', 'johnback', 'talker', 'timehaloveyoujonesi', 'astronomi', 'httptwitpiccom4vp3x', 'dmhome', 'reflecti', 'sandsp', 'crashhad', 'meca', 'sergeant', 'emlevin', 'nltonlin', 'divxquot', 'belindashort', 'archuletachick', 'almaden', 'cov', 'pokr', 'metafisix', 'amyserrata', 'zwaloo', 'foxyoxymoron', 'juggler', 'chelseasm', 'darthvad', 'yellowpeel', 'giaquot', 'groan', 'crippl', 'pantone801', 'ignorejust', 'cascandar', 'bain2', 'harrisonjsmith', 'nkotbahamas2009', 'childrenth', 'paranoif', 'pickleybabi', 'afarid', 'umzug', 'nanashambl', 'kimp19', 'staronmainest', 'leesondoyl', 'wwwreverbnationcomsuki', 'dionusia', 'resto', 'cyrusbabi', 'soultravelers3', 'slushygutt', 'ginagawa', 'sydthekid', 'titboob', 'bwahahahaha', 'adtï¿½000', 'toncilitu', 'asshat', 'raymond', 'joyeuxmort', 'llda', 'jcpwee', 'zsnagi', 'chrisreinhard', 'wwwmysweetebonycom', 'mawbook', 'taytaystar', 'sheonahg', 'galway', 'yolanda', 'lt3cb', 'reebok', 'quotsubject', 'doorknob', 'manga', 'chaayaa', 'jagk', 'senc', 'hmmmstrain', 'badd', 'waaaaaaaa', 'heatxcl', 'scarabeo', 'snowwhitex', 'venti', 'jman', 'checkquot', 'savvybrid', 'alansteven', 'paiseh', 'gtltany1', 'wenatcheewash', 'guessdamn', 'nataliebrown', 'katherineclar', 'foreveryours13', 'nemoisback', 'djcoolm', 'tranceasleep', 'tennealmare', 'showif', 'luvli', 'xxkelliemariexx', 'fatzgalor', 'laina', 'onscrn', 'quotpul', 'quotgoquot', 'starreemoon', 'applyn', 'taura', 'sammxx', 'friendand', 'catholicgirlyz', 'httpbitlyba3nf', 'noca', 'hogaan', 'mensstyl', 'kaliboooo', 'balikbayan', 'reallllyyi', 'moviegirl09', 'apostrophem', 'davidbdml', 'blg', 'rachelxvac', 'pmed', 'cokey', 'pettl', 'sorryil', 'nemecek', 'hahahim', 'oder', 'to', 'smalltowntroy', 'graandma', 'telemaniatik', 'streetztalk', 'overlook', 'hugobrown', 'quotgirlsquot', 'keithjoforev', 'otp', 'httpbitlyplnm4', 'ike', 'ash786', 'slovakbrew', 'millenia', 'problemagain', 'mhawthorne19', 'girll', 'httpisgdjmjb', 'doupl', 'repet', 'ï¿½ï¿½l', 'marysarahmus', 'yayamartinez', 'smb', 'dboyd1', 'commi', 'wwwloveisthecurenet', 'alrady40', 'antwanduncan', 'captaincarrott', 'cln0103', 'ismnora', 'claussuch', 'blakelewi', 'concertbut', 'muchyep', 'magh', 'eumiko', 'miin', 'dowhen', 'pendulum', 'txtd', 'ugggg', 'uqh', 'manicurist', 'tyefight', 'jordansgirl81', 'bleargh', 'httptrimmq39', 'wyattt', 'bhank', 'movin925fm', 'oiram16', 'tommmliv', 'baybeehdol', 'chewbacca', 'deep25btech', 'autoreturn', 'soberdang', 'quik', 'ï¿½27', 'wowi', 'ashley094', 'httpbitly10uemq', 'momsen', 'brokenromant', 'sweatband', '31th', 'pattyp', 'mikusi', 'sanmiglight', 'krauss', 'jayel', 'vampirefreak101', 'toniiiit', 'tozer', 'crusti', 'pdoc', 'loco', 'tameshad', 'princeari', 'quotballist', 'famousna', 'lil214lili', 'arianna', 'httpbitlyp274b', '695i', 'morrningg', 'stuttgart', 'goitn', 'graciousgreta', 'sherylloch', 'b4i', 'letseatout', 'giddygirli', 'httptwitpiccom4wsmw', 'scattegori', 'mypowerbookg4rip', 'moviewasnt', 'makaio8688', 'twitpeep', 'arabyrd', 'preetttti', 'httptinyurlcompavh76', 'rcss', 'weddingbtno', 'okot', 'omfgisel', 'thesvillenew', 'wbreakfast', 'julieanne', 'posterrr', 'hearandim', 'flygirl', '2lmao', 'sabrinabryan', 'markup', 'httptinyurlcomra48y', 'daybest', 'bernadeth', 'heyjust', 'tatter', 'foilplay', 'hmtm', 'httptwitpiccom4w9h2', 'walnut', 'happensquot', 'msning', 'unhook', 'lawwa', 'httptwitpiccom4wfeo', 'midyr', 'piggyquot', 'badladi', 'eitherit', 'wharra', 'httptwitpiccom4j9om', 'kix', 'cottonandcloud', 'snot', 'michalkaalyson', 'lilbooty24', 'livingaut', 'ughcold', 'mktg', 'mework', 'birthdaytwin', 'mem', 'shakedown', 'celenko', 'gleneagl', 'madilovesmerd', 'sleeptak', 'sosip', 'chocolatelol', 'augustine25', 'unload', 'goof', 'dusktallon', 'eatpoor', 'caitlinhllywd', 't4p', 'legarmfoot', 'boubou', 'lynz', '8mm', 'ineska', 'sarcasticleav', 'tearrrrrrrr', 'optimis', '1017', 'gladiat', 'ggd1', '1jaredpadalecki', 'brotallybeh', 'karensindayen', 'daystay', 'snood', 'saaaandra', 'chaoszac', 'oii', 'chantelli', 'dyankaaa', 'httpmylocme21d', 'httptwitpiccom4jb0q', 'httptwitpiccom4wmaw', 'narendranag', 'mondayback', 'idont', 'httpplurkcompsuyev', 'myfriend', 'lleyton', 'drford', 'halian', 'albert', 'ricotta', 'raddest', 'heatherwrit', 'tshirtterrorist', 'hufff', 'jerryshaw', 'simoncollist', 'wwwoverheardinlondoncouk', 'mromairi', 'rocknrollqueen', 'minigolf', 'mqm', 'esuh', 'jamesh1993', 'nweek', 'mommyyi', 'solder', 'kach', 'httptwitpiccom4w67k', 'drchino', 'archeianessiah', 'xkcd', 'cheergod2002', 'favoriteicecream', 'flybabymoni', 'muzzzza', 'audreythebabi', 'bevjones1983', 'domsai', 'quotinternet', 'quesmoney', 'wrapper', 'mariramo', 'courtneyread', 'daninbarca', 'ovr', 'bcquot', 'isagoksu', 'chrisett', 'webkit', 'akarshsimha', 'haircutmight', 'wrongli', 'twittermi', 'marchie1', 'guyfreind', 'passyunk', 'shabooti', 'httptwitpiccom4wmoa', 'fcking', 'unhelp', 'okseriouslygood', 'httpwwwimtiredonlinecomsmil', 'xmyrth', 'labella27', 'httptrimgwoy', 'darci', 'beeen', 'instinct', 'httpplurkcompstz7a', 'misshilarypaig', 'vanetarog', 'raderr', 'httplooptusogqb5wt', 'req', 'httptwitpiccom4sx96', 'kruss73', '502', 'groundbreak', 'ringmor', 'ageofbrillig', 'monkeymad2', 'lai', 'billyidol', 'officialathenar', 'victortan', 'businessneed', 'roflmaoy', 'suspicion', 'sueleebaybe', 'forcequot', 'serephinaa', 'fuun', 'jerrykontur', 'jpiasentin', 'sameway', 'naturally7', '023', '21you', 'chuckwelch', 'koool', 'personnel', 'yongfook', 'karuna', 'undi', 'tursiops718', 'eazyeron', 'nggi90210nya', 'mutter', 'httptumblrcomxiy1qycvc', 'fastsmallballbusteri', '10mm', 'marjorielu', 'pinkey', 'leavequot', 'kidsdepend', 'direngrey', 'geerlingguy', 'chippewa29', 'qet', 'dreadzon', 'quottweetingquot', 'httpopenspotifycomtrack1b75hgrqe7a4fwee3g3wmu', 'sirlance16', 'cheesebread', 'cacaubrazil', 'giladbi', 'docker', 'steffist', 'christickel', 'moovmnt', 'cryyyy', 'kevpar', 'sfobear', 'mook', 'joshjnap', 'spittin', 'wird', 'yealook', 'lrkane', 'lanceschmidt', 'marcuselzey', 'dumbblondi', 'atkin', 'berryli', 'twitterbug', 'jeffco', 'comeï¿½ar', 'hahayeah10th', 'quotstay', 'debby41', 'eithah', 'petitesuitecb', 'mmmmmmmm', 'limosup', 'nikkicsw', 'hjn119', 'brittanyshaw', 'christyharrison', 'ummokjust', 'hafta', 'sushichines', 'fonzi', 'fightclub', 'lmontt', 'queenrania', 'heao', 'digeni', 'soompi', 'pausei', 'caitlnnnnnnn', 'joyknow', 'malaka', 'minni', 'jonasbrothernj', 'platter', 'marisatangorra', 'chrishornbi', 'gadgetopia', 'walleit', 'paminnewzealand', 'bnx2', 'oooowwwch', 'cashric', 'dirk', 'erect', 'gervai', 'swa', 'oschmid14', 'phonecal', 'storyal', 'wean', 'ticklish', 'quotbuinnequot', 'floyduk', 'thurstyturtl', 'httpoproercomtwwwitt', 'sarahwilson', 'themit', 'quartet', 'owengreav', 'lizlov', 'iknowww', 'bucharest', '4toy', 'tdrfarmer', 'fieri', 'brotherquot', 'alay', '88th', 'telesilla', 'xxnapoleonsolo', 'jonmyer', 'bagger', 'zachflauau', 'entourag', 'sharneselani', 'mishgoddess', 'ryan888', 'jequalo', 'ordeal', 'camel', 'mattchung', 'weekendpari', 'morningh', 'alllllll', 'imna', 'aaaaaw', 'httpantwrpgsfcnasagovapodap090504html', 'gjvmanen', 'awrd', 'teejay0109', 'wendydoeswaco', 'vlogcandi', 'brookefras', 'medici', 'ugboot', 'eyglo', 'himokok', 'jimithy1', 'interraci', 'allmoth', 'httpbitlymo0qn', 'mskiannathediva', 'pyr', 'deeeearl', 'httpmobypicturecomuqi0h2', 'summervac', 'withinso', '930a730p', 'martwo', 'swarm', 'seattlewillow', 'viintagedress', 'babycli', 'kraussey', 'wanti', '16hour', 'tiday', 'squarethat', 'kellycomb', 'smashingpumpkin', 'lauvanexel', 'highrawfood', 'maximillian62', 'sheabath1', 'quothaterquotyoda', 'aquabh', 'diiinner', 'languageampi', 'aoh', '222222', 'lucia', 'meaytlolhttpbitlyuspln', 'nanava3', 'ohmyali', 'girlfriendim', 'chasitynichol', 'loveeya', 'starsailor', 'silveryb', 'gori', 'bampq', 'monica2112', 'transpir', 'bellion1988', 'fatal', 'jackierunaway', 'wcharli', 'psuperstar', 'geolog', 'greekdud', '1pm', 'sherenejos', '365day', 'tweetword', 'iyl86', 'alllllllllllll', 'kellynico', 'hitten', 'austinwis', 'unsuspect', 'constip', 'thecub', 'silentbrad', 'danggggim', 'prsvr', 'pak', 'byronlk', 'doesntt', 'djlthemasterkey', 'ov', 'depaul', 'jessizakool', 'p3fe', 'tonighttomorrow', 'httptwitpiccom67s14', 'cristo', 'amj89', 'goddessprogress', 'wag', 'jennyboomboom83', 'experian', 'httpwwwvinenetdefaultaspx', 'ingridmus', 'caitegg', 'httpwwwlivinghandyd', 'okaaaay', 'shikari', 'asununiqu', 'probando', 'glennlund', 'adoarbl', 'lolwat', 'tashster', 'pornstar', 'aprilfilm', '43416', 'ohsosexi', 'scaredededed', 'dc101', 'amazzz', 'isawesom', 'autoreset', 'jordanhowel', 'wmc', 'stroppi', 'wham', 'hahhh', 'saraluna', 'gwenyth', '11pm', 'josettewher', '2job', 'nickyjam', 'yallmi', 'lexymez', '525600', 'conni', 'brainberri', 'markii187', 'rowwish', 'swwwaaaaggg', 'refind', 'hollowbabesher', 'morgandonovan', 'darkmindedsith', 'creamspyd', 'nop', 'cx520d', 'codelust', 'maintan', 'daaaang', 'jordalynn', 'quotmin', 'peeï¿½', 'hollyr', 'lelahg', 'unfollowingnot', '1975', 'hawksmoor', 'hockeyw', 'akarra', 'oliviathiem', 'arielemoonfir', 'naidanai', 'httpbitlyb9v90', 'nicei', 'sadjust', 'ohhhhhh', 'quotbrid', 'sctrahc', 'sleepppppppp', 'emilyorshan', 'l3ree', '3easi', 'davehart', '3v3ri', 'kris0614', 'landwork', 'bookfooleri', 'douglasi', 'nowjuuuuuust', 'bfoyf', 'harrykim', 'wonli', '2u2', 'rosegraymus', 'performanceparti', 'followillfriday', 'swrightbouch', 'leoduk', 'ericworr', 'leonay', 't0mf', 'vail', 'littlereddr', 'devjavanet', 'agirlcalledana', 'luckquot', '23600', 'franknitt', 'httptinyurlcom63qoz4', 'pandi', 'ameshay', 'macet2himym', 'arviena', 'neoindian', 'valdivia1', 'colleagueswould', 'aliciawag', 'morganeleanor', 'shelv', 'httptwitpiccom4w7d2', 'todaybut', 'spycamsspyequip', 'cuttee', 'firstbut', 'looci', 'cooool', 'justababi', 'throwedmind210', 'gingeri', 'ruineddeath', 'thelovelybon', 'vegangirlzrock', 'shudv', 'ladypn', 'prezzi', 'twiin', 'dg4g', 'lof', 'sweetsheilx', 'leighannirvin', 'taho', 'herdesign', 'bodywisdominc', 'studyexam', 'k8lyn333', 'swbuehler', 'srhmae', 'hedburg', 'alwayswond', 'xem', 'httpplurkcompx29ss', 'dougstech', 'greatkingrat', 'liedra', 'thatkadygirl', 'hhilaryy', 'eeeethannnn', 'iamlauren', '640', 'morning230', 'purti', 'montiasutton', 'musical', 'loggad', 'apunbindaa', 'windswepttre', 'nemitabbah', 'sorrrrrryyi', 'opsaksa', 'freeeeeeee', 'hellolizzi', 'coleryanxxx', 'mcsmoothi', 'ruuullzzz', 'everhin', 'deeenisee', 'citizendav', 'chiro', 'duff', 'tomorrowwim', 'jba', 'stir', 'numer', 'jaiden', 'emilyhall92', 'planyezzzsir', 'kroll', 'supperinn', 'newsfurtheri', 'frward', 'jamesmackney', 'annarosekerr', 'beshi', 'directorsandi', 'sixti', 'llittizzio', 'pubquizz', 'jordanohlin', 'craigslistquebec', '800day', 'stumpi', 'hairband', 'nien', 'pmsharlequin', 'lemonjat', 'quotgrac', 'cs3', 'speach', 'caretoo', 'watchmovieslinkcom', 'sakit', 'lifelovestress', 'thedrumlif', 'httptinyurlcom4ttngg', 'meghan', 'undent', 'showw', 'andyman264', 'jkandbvgirl', 'httptwitpiccom449yj', 'avocet', 'hardwood', 'youlol', 'tinkl', 'andrewbraven', 'probbi', 'streamin', 'hoursnow', 'biosshadow', 'quotaltern', 'followhow', 'mattydavidson', 'agfest', 'narotbahar', 'get2knowpro', 'feedmekick', 'mightmight', 'herquot', 'kingstonpaul', 'httpbitlyjywnz', 'boldn', 'seetiggerbounc', 'ladyrubaiyat', 'cheesy', 'theprincebem', 'courtneysit', 'grnturtl', 'osdawaya', 'watergun', 'bwi', 'morethanhuman', 'jobe', 'gtgtgtgt', 'chilito', 'atmbeen', 'jubliantjo', 'maeci', 'ummnop', 'brudder', 'stonedbuzz', 'tooprob', 'cronat', 'mainpa', 'quotvacationquot', 'aiint', 'tswift', 'interven', 'sketch678', 'httpbitlyvqiuf', 'ils', 'itel', 'babyjidesign', 'imnothelz', 'wingsstef', 'inter', 'milkquot', 'enchantedstar', 'mooddisord', 'sealfur', 'mbb', 'stepson', 'lt3crimini', 'rahul', 'marthinnayoan', 'surlytween', 'fu', 'mtvcom', 'authent', 'rondanc', 'tauren', 'bighit15', 'sophiaalmeida', 'afterthought', 'misternoodl', 'lauratoogood', 'rawrgoesaime', 'nitrishi', 'registri', 'darrendoyl', 'thetinyjewelbox', 'mkeguy69', 'calib', 'barakat', 'beaumont', 'glamvoy', 'tlk', 'n9vl', 'dlp', 'konami', 'dijon', 'eftel', 'butbutbut', 'jpoglesbi', 'lightwil', 'httptwitpiccom664uz', 'lovecould', 'hauer', 'jaylastarr', 'gib', 'differenti', 'damnth', 'becabear', 'halfamind', 'dez', 'biketo', 'tibet', 'wate', 'yariv', 'luf', 'brandinmus', 'yuhh', 'tifa', 'limey', 'httpplurkcomproxar', 'duherica', 'jessicaca', '15minsofmet', 'remak', 'shawtysodop', 'isuhin', 'phunybuni', 'jaysodmg', 'jenhp', 'filthyduk', 'handand', 'hammymi', 'cameronmonroex', 'peopleoh', 'dolor', 'rdougan', 'firepit', 'rolliepollie32', 'ramin987', 'larrytil', 'sublimin', 'amazingjust', 'midshow', 'smal', 'lizhodgin', 'tiki', 'nickyvend', 'padawan', 'calgon', 'scifileagu', 'queenkelso', 'sylwiapresley', 'burgfest', 'ianstoko', 'httptinyurlcomqlrcec', 'beingnobodi', 'quotthey', 'httptwitpiccom4j92o', 'kayi', 'minsthink', 'shahrukhkhan', 'birthdayday', 'gparent', 'dinerokidmayo', 'hayle', 'shorelin', 'ericsson', 'victorgo', 'lucashardi', 'queef', 'vicodin', 'httptwitpiccom4jf46', 'httptwurlnlnz8f4i', 'trunk', 'cc', 'gode', 'yesit', 'iggypintado', 'miztrouble89', 'awwwgnight', 'ampwatch', 'scarybunni', 'lynnisnotgay', 'danielshockk', 'openhous', 'rhcp', 'starfish', 'alice286', 'aussieim', 'technclrninjo', 'induce1', 'jhonenv', 'malc', 'nisher', 'amileegr', 'httptwitzapcomuaw4', 'snuff', 'duster', 'youcom', 'daaammmnnnnn', 'bymyself', 'kylehamilton', 'inlovewithjona', 'quotthehannabeth', 'quotnoth', 'corpu', 'douchenozzl', 'casndra', 'tdwnds1', 'muuch', 'replenish', 'sankq', 'bourbon', 'werecount', 'httpwwwmusicistheheartofoursoulcomsearchlabelniptuck', 'rotfl', 'twicer', 'podr', 'kinokuniya', 'atxtravel', 'penelopemil', 'corcorjdor', 'bleumenth', 'okwel', 'ddrdiva', 'jag', 'httptwitpiccom4jkvl', 'jimawern', 'shae75', 'jaap', 'altzheim', 'applebottom', 'emal', 'meesterbel', 'quotwithin', 'uncondit', 'distracted', 'itsjeff', 'jenjbphoto', 'kenftwin', 'fox19sara', 'brokepimpstyl', 'carole09', 'annaphylaxi', 'assistiu', 'redframer123', 'greeat', 'lagi', 'fatass', 'tinkfan', '338am', 'renekay2', 'jaderibeiro', 'slowlyquot', 'jeeeez', 'bubl', 'rtwestcoastgal88mawmaw88', 'deluxetru', 'shammi', 'defygravity81', 'pretamang', 'ethereal87', 'mintbubblegumcookieflakenerd', 'jorincowley', 'dragonflly93', 'deetzse', 'emerilizzi', 'ewan', 'standstil', 'wareasi', 'caseywright', 'tmzaol', 'biowithout', 'httptrimkmvl', 'bettyispretti', 'inning', 'sweeeeet', 'divadivachrissi', 'okaii', 'colorarmi', 'pixelbas', 'lisagraham', 'losdigit', 'faceee', 'nevermore222', 'quotfavesquot', 'southphillymel', 'detbal', 'offnow', 'nicley', 'realshamu', 'teleject', 'courgett', 'rof', 'quicklygotta', 'leilaanasazi', 'quotpartnerquot', 'manbag79', 'perfectand', 'httptwitpiccom4w70j', 'winserzhao', 'xolotl', 'girlal', 'bucher', 'spootychild', 'emjaystar', 'supprintdesign', 'cayman', 'lodg', 'tate', 'quotgrabquot', 'rasga', 'yuppp', 'busyellebe', 'hamm', 'currenyspitta', 'ahhahah', 'lizpimpmcge', 'vest', 'plansem', 'megeezi', 'aaronmatth', 'quotoper', 'petronella', 'malepattern', 'cubano', 'computerguest', 'writeoh', 'httpisgdwjej', 'r18', 'elzorro', 'josette78', 'retch', 'filmscoregeek', 'zur', 'walletpop', 'hornym', 'dalekwidow', 'riotgirl14', 'httpbitlyegvw3', 'silatjunki', 'dnw', 'davidgibbon', 'carless', 'jpsherman', 'meanbut', '315pm', 'empress', 'escape2thestar', 'nyeh', 'em1234', 'quotwhit', 'thepalmgift', 'matineesp', 'goofi', 'replyy', 'lke', '8week', 'noghti', 'moist', 'daveduart', 'nadedepress', 'httpplurkcompwy9wi', 'theasiangoddess', '912', 'joelyright', 'bev', 'amanzimtoti', 'runday', '28c', 'edma', 'mirabrodi', 'salmon', 'dinnersurpris', 'milkhub', 'bungandi', 'osaka', 'httpblipfm5jboh', 'khasabadmemori', 'aboutim', 'sarahbeeni', 'touchreview', 'ingridholliday', 'whitneyev', 'thaentertain', 'mashupnicol', 'referenc', 'majayi', 'kingofthelab', 'deepwarren', 'herchu', 'jjooss', 'fukkn', 'dario', 'msnewappear', 'edu20', 'sleepcrazi', 'kylewade05', 'hac', 'motherdaught', 'zeke', '2read', 'yogachicki', 'hehebut', 'heymamakat', 'putrinda', 'berwick', 'zoey', 'ccnaccnpcci', 'httpbitly14lvi', 'thatwouldmake1of', 'accountsand', 'pushplaycj', 'insidemust', 'stancethi', 'sciifi', 'kennyj88', 'hottvampchick', 'carcassonn', 'amyyyxoxo', 'sweetpea00', 'rdj', 'sharpi', 'nindrawr', 'frankman', 'fayewhitak', 'puppyyi', 'tova', 'nasa', 'handbal', 'orbit', 'kii', 'meebocom', 'neighbourhood', 'piglet', 'httptinyurlcomcudamo', 'flouresc', 'httptwitpiccom67rt8', 'afterjun', 'goit', 'ernalicious36', 'hellokittylei', 'endulg', 'ivanjohnivan', 'dalden', 'balli', 'hilda', 'xtfrtalr', 'labhr', 'leavinggggggg', 'maureenjohnson', 'vez', 'aerform', 'blowjobsquot', 'daveoflynn', 'hea', 'espressoth', 'lostgirl66', 'einclin', 'placequot', 'caffien', 'izzyvideo', 'dynastyquot', 'amysfinerth', 'haiz', 'jpallis001', 'xxxxxxloser', 'clubpenguinfan3', 'athenakg', 'httptumblrcomxxv1qz4g', 'raptorsforum', 'rhonddalad', 'champion1510', 'barbschaef', 'quotsup', 'tjp5082', 'interwebnet', 'hollaatk', 'bourdon', 'quothealthi', 'usmobilereuterscommobilemanyarticleprdturlhttpwwwreuterscomarticlebigmoneyidus1284981420090508', 'zenh', 'herewish', 'absolutsilv', 'whatthefuck', 'gamestop', 'president', 'marciheart', 'marcmawhinney', 'succubu', 'drob23', 'tsu', 'buckquot', 'g5', 'geraldnapol', 'judielis', 'httpplurkcompx116r', 'malikafay', 'gokart', 'ccburn', 'diskstat', 'tiiiim', 'ferrari', 'justinro', 'dannisaywhat', 'alycemadden', 'mseclect', 'tyronevh', 'pww', 'boge', 'quotpopup', 'cuddlebug68', 'sacaba', 'xjamiex', 'samanthadepanta', 'girlslt333333', 'montepulciano', 'unfit', 'daont', 'eroar', 'fuze', 'httpisgdysah', 'hisheidi', 'httptinyurlcomcmal68', 'bigchubba', 'tuesdaydumb', 'httpwwwmyspacecomjanedurkin', 'cutebug', 'dollburrel', 'recco', 'crystalrain', 'youporn', 'rrtheatr', 'drugstorecom', 'fem', 'witdraw', 'mslaurenlondon', 'themjust', 'freosan', 'superstit', 'gentstim', 'drmommi', 'miguellf', 'racoonresidu', 'httptwitpiccom4jax3', 'lifeestylequot', 'peternomad', 'quotmoth', 'droppedcom', 'mesa', 'thekrew', 'standup', 'ringin', 'wondrou', 'leeyecandi', 'spahkli', 'foodmoney', 'oooooooooook', 'ohmigod', 'citipoint', 'ambrosechick', 'bandung', 'benot', 'meim', 'hoganf', 'arielsatriani', 'vegansteak', 'sephora', 'httpplurkcompx25jw', 'httptwitpiccom67fs9', 'kellylt3', 'gerrard', 'cactopu', 'nownow', 'melov', 'attal', 'echoinghim', 'saran', 'chelk', 'blackmantra', 'follwin', 'dept', '2getha', 'unbrok', 'mangointheski', 'heatherh', '183', 'candacera', 'justintimberlak', 'ipodgreat', 'partypicn', 'laraslatteri', 'sme', 'bloss', 'douch', 'voyagerstyl', 'ladyredcrest', 'aayushsoni', 'paperweight', 'httptinyurlcomc8uj28', 'gfail', 'overs', 'jussinen', 'legseww', 'shreddi', 'saramcdonald23', 'featureblend', 'anythig', 'pourmecoffe', 'wwwsoompiradiocom', 'lushltd', 'baju', '2would', 'elin', 'giulianaranc', '1027kiisfm', 'howser', 'awesomewa', 'foodfoodfood', 'frend', '10p', 'billund', 'inspit', 'binasth', 'lodgethi', 'invad', 'wellll', 'o0chiinkz', 'hameedhemmat', 'shadaasshol', 'wendytgibson', 'omoli', 'rival', 'jengo', 'applecharlott', 'lovah', 'jefebarrio', 'enjoymor', '1386am', 'balmera', 'moocow', 'cheskiebear', 'tediou', 'questcon', 'thefurk', 'utterlyterrif', 'suppliment', 'charmand3r', 'httpbitlyvuixg', 'lifebychocol', 'deathmatch', 'tenner', 'ï¿½150', 'hurley', 'shutuppat', 'premir', 'philiplinden', 'karan', 'hahahahahahhah', 'actorress', 'chalki', 'roomeveryon', 'mamitica', 'httptwitpiccom5kahh', 'boverdx', 'hha', 'kaohsiung', 'clownin', 'westend', 'sizemor', '6040', 'davidawatson', 'allconsoffun', 'httpblipfm5z50g', 'looooooov', 'jealousmuchi', 'dealz', 'lier', 'cuuutest', 'humou', 'joeman', 'admeeet', 'demilynnmus', 'cowgrrrl', 'boohoohoo', '6p7p', 'cait', 'aid45xi', 'partyend', 'queetsss', 'quotwrongquot', 'dannigyrl', 'random1', 'camfinlayson', 'rbuerckner', 'jessiee', 'kirkfranklin', 'wasup', 'dleroux', 'sempit', 'dfapam', 'saniyyah', 'silverarcheress', 'ellipt', '35hour', 'efron', 'chichic', 'preshowquot', 'fonewoo', 'andrewgr', 'courageouson', 'mabrook', 'localdud', 'rave', 'ovber', 'abbyjanki', 'crazycindi', 'iht', 'hmmyour', 'whatyoudeserv', 'formerli', 'mayurjango', 'amazingi', 'coriluvthedon', 'runhipporun', 'wasam', 'orral', 'flyingnutcas', 'jamieaiken919', 'quotjonesingquot', 'ovidiunegrean', 'francesc', 'aspirin', 'minivac', 'cystic', 'loopjazz', 'httpbitlye2bjm', 'rickgriffin', 'picscheck', 'girlbutgeek', 'richter', 'megmatthews20', 'greenpolkadot99', '2ndari', 'x3f', 'cthagod', 'dataloretv', 'httpyfrogcom0egwanj', 'sanx', 'pandjcraft', 'adelgabot', 'kod', 'cjstuart', 'damondvip', 'macintoshtipz', 'songquotpet', 'hungoverstil', 'accordion', 'mzwhatthepuck', 'shaniquadenis', 'amazecor', 'daynaakarowan', 'sqlsarg', 'catacomb', 'placebo', 'toadtast', 'tholet', 'luwa', 'accdentt', 'soulsistanindi', 'djiri', '91', 'httptinyurlcomcoypsl', 'neighboor', 'carostilwel', 'rachelasha', 'kiyomisu', 'rubydoor', 'margin', 'overstress', 'summerquot', 'offbeat87', 'thedinnerladi', 'mrcartersnurs', 'whati', 'raunchi', 'someand', 'cassiewho', 'imwork', 'meni', 'robber', 'brinahaha', 'welcomey', 'mikebugout', 'christinafaith', 'collist', 'trimmer', 'httpbitly1bi7ad', '2002', 'nugent', 'luket', 'httpbitlytgvr7', 'expectedsur', 'essens', 'claymoor', 'dayquil', 'wannna', 'reducul', 'mainfram', 'skandar', 'somuchmo', 'bazillionz', 'jonathanlerwil', 'mialotta', 'jayresc', 'powershel', 'alcool', 'cameronjnp', 'iaindodsworth', 'wittyrud', 'lennykravitz', 'morninq', 'csk', 'butmi', 'lololi', 'dï¿½jï¿½', 'lollipop', 'imwatchingthehannahmoviewithmomshesaidthisfilmverygreat', 'thatmak', 'djasap', 'httptinyurlcomckdwao', 'cinci', 'dd1', 'otoole4info', 'squeaki', 'wearpalett', 'eawalker00', 'keirajona', 'kristie999', 'httpyfrogcom0xoxij', 'gurlstrang', 'landg', 'httpplurkcompx2zp6', 'fiiiinaaalllyyi', 'handmak', 'decembbberrrrrrrr', 'mmmmmmmmm', 'mfnbpwnz', 'dontenn', 'spaaluhi', 'atg', 'wookei', 'indefinit', 'mareensher', 'blore', 'capcom', 'rooobbbbbiiieeee', 'hootsboot', 'tagscat', 'djcrmix', 'lmfa0', 'skimso', 'elmers10', 'horriblenow', 'naiv', 'hznkzm', 'cohoonsworld', 'marcusg704', 'kacey3', 'overim', 'harney', 'angiebeyinc', 'actorscharact', 'dirkstanley', 'ronald', 'hahanot', 'quotinquot', 'hopnoxi', 'cyrandorman', 'apm', 'lovley', 'cassowaryjewel', 'parislisbonn', 'listbut', 'sata', 'melissaleah', 'yabut', 'tonightjustin', 'sthig', 'mdjensen', 'kimbononowowo', 'halfwelshdragon', 'mistahfab', 'mday', 'outboard', 'mnemosynekurai', 'httptinyurlcomdfs7fi', 'manilow', 'delong', 'httpyfrogcom13izrj', 'dopenhagen', 'stephaniefil', 'p1', 'adriii', 'ltgt', 'ahhchiee', 'suiza', 'ghadalanc', 'mikeziem', 'icehockey', 'greensborolov', 'womadabudhabi', 'cinco', 'buffalokid', 'mrkri', 'jordandroid', 'toee', 'quotmight', 'mushygushi', 'twitternut', 'selfawar', 'kita', 'myselflt', 'embassi', 'aworldinsid', 'vpl', 'morganedgar1307', 'corazonsito', 'roxxy89', 'levifig', '1948', 'elliejouzdani', 'thefatboy', 'lucysieben', 'digooooo', 'marjicurran1', 'downnnn', 'racer108', 'httpbitlyxpvt7', 'johni', 'alievans719', 'settlene', 'dutylov', 'shecango9984', 'dreamergirl822', 'tpgraham', 'gpt', 'filogrrl', 'httpbitlymymea', 'ekardmatt', 'httptinyurlcommdewfk', 'swpave', 'shefind', 'unzelaif', 'ashmohazel', 'httpbitlyyufil', 'downsizingh', 'hatti', '131', 'sphere', 'esh', 'uour', '2mz', 'craigralph', 'nawil', 'rockndan', 'kellieann1', 'amypredsfan', 'afternoonnot', 'argylesocksoo', 'httptwitpiccom664oz', 'interestingand', 'brittney', 'harmon', 'rica', 'frixionoffici', 'heyitsriley', 'meredith', 'mondaygreat', 'klzm31st', 'yojibe', 'gnarli', 'stillsaf', 'abbeymari', 'chicagogirl', 'shriek', 'siskack', 'seventh', 'fishhhfac', 'mydailyroutin', 'funzen', 'bitcross', 'lazyy', 'energeticspac', 'noodlez', 'laurabolg', 'playn', 'jwess', 'queenangel84', 'mylesagnew', '4week', 'wamarineangel', 'yerba', 'woof', 'spiritequ', 'busaysay', 'sleepup', 'clighti', 'jackbox', 'lifestylesquot', 'ughhreal', 'lightsresolv', 'veggiesgotta', 'nau', 'europa', 'mypreciouskid', 'toggl', 'httptwitpiccom4wsscful', 'backpleas', 'albion', 'poolsid', 'httpplurkcomprrg18', 'shrinkingj', 'camillapierri', 'sickk', 'nghe', 'jjlola', 'fcpmacbook', 'ginidietrich', 'malennaa', 'templecultureambiencetruli', 'asasgdygyasdgi', 'marlyra', 'lklol', 'butnick', 'jeffholton', 'charmingli', 'thï¿½ch', 'academyish', 'nololo', 'parquette1', 'davidtreynold', 'arathecoach', 'khan', 'dens', 'gab', 'bizchamp', 'moracca', 'accumul', 'constanc', 'yi', 'haaaaair', 'mick', 'britainsgottal', 'drumstickboy', 'emailin', 'xme', 'sugari', 'beachbabe4ev', 'max2ski', 'tweetb4ueat', 'brucebrownnc', 'hannbob', 'ellewhit', 'httptinyurlcomnqudrt', 'klum', 'nowth', 'philthemayor1', 'httptinyurlcomd9g8sj', 'duskyazur', 'craigi', 'jennaiswrit', 'beley', 'andrewkfromaz', 'outsidewish', 'muchli', 'whatsup', '99p', 'sayo', 'numberi', 'quotfollowingquot', 'acust', 'adrianspenc', 'joechacko', 'aprovech', 'jesslina', 'cowel', 'melissaohh', 'quotmustachequot', 'breakingg', 'dresinatra', 'aroundtakin', '006', 'homebrew', 'msmandymay', 'kaiminoeau', 'beath', 'sustitut', 'goon', 'kurtismarsh', 'runt', 'fluffodil', 'jeri7yn', 'alexxxpatterson', 'thek3sha', 'httptwitpiccom4jjy9', 'jsrobertojr', 'trauma', 'lint1', 'lindi', '2mb', 'hobbitn', 'quotseductivelyquot', 'buhbyee', 'garyed46', 'nowmiss', 'httprailsbridgeorg', 'britishquot', 'wowhop', 'fierc', 'ivyblu', 'toooooooo', 'gregverdino', 'kimberle', 'lewdogg', 'listit', 'thomson', 'wildomar', 'zagreb', 'httptinyurlcomc5ljwm', 'tracybegin', 'iyup', 'teng', 'thï¿½ng', 'mclaren', 'wereveri', 'bellesouth', 'naglilihi', 'astop', 'scruffybe', 'httpdogwuhcom', 'hungryget', 'softyi', 'djjamminjo', 'speedway', 'devonshire94', 'asthet', 'dizzybunni', 'prompt', 'tmrwstay', 'fung', 'lactosequot', 'bribee84', 'yaaaaaaaaaaaay', 'nuffin', 'markymark7', 'hik', 'mizmind', 'phillycustom', 'unco', 'innn', 'dunkdetox', 'soderl', 'typedbut', 'dreamgirl', 'thhaank', 'probabil', 'optician', 'lasherdemon', 'kariannana', 'rebuild', 'apizzle86', 'giid', 'hoorayi', '29on', 'holidayzzzzz', 'couisn', 'shaunieo', 'nag', 'halgriffin', 'yehh', '25ft', 'yayz', 'vanrip', 'lurequot', 'hanaabanana', 'jgooden', 'jkid', 'chuweeni', 'domsmitherz', 'nerddream', 'kathleensh', 'flashi', 'oohnoo', 'theharvardian', 'boogpopular', 'robertmil', 'becoi', 'djdolcevita', 'cagebal', 'jessmitch', 'treecould', 'michaelpietsch', 'dicaprio', 'saini', 'tighter', 'fredrikth', 'goldenboyluk', 'mast', 'chuysgirl708', 'httptwitpiccom67wa0', 'alaskabut', 'emai', 'dgottesman', 'usatexa', 'taili22', 'bunnydrum', 'juliansimpson', 'itshazel', 'httpskipallcom8ppng', 'amwhat', 'yohanik', 'babyvoffici', 'broad', 'frat', 'candicejo', '44sec', 'httpmylocme20dd', 'juliarosien', 'cara', 'httpplurkcompsvkch', 'zoom', 'frankrumbauska', 'icebergmeadow', 'mamakimi', 'marshallsheldon', 'dtothealex', 'shortsleev', 'jenchristi', 'lid', 'newjourney09', 'ashleno', 'partyit', 'httpwwwspeedtestnetresult483892161png', '3to7', 'ryankanno', 'sheath', 'bprohibit', 'gonetwitt', 'nehkurang', 'amcmoor', 'princ3ssdim3', 'httptwitpiccom4wukz', 'arrav', 'enthousiast', 'melfay86', 'myhandboundbook', 'downuughh', 'mckenna', 'hooked4lif', 'thenyou', 'sowwwwyy', 'backstagepazzcom', 'melvin16', 'vestybabi', 'goer', 'kewsboogi', 'classesif', 'aban', 'rake', 'fjdskal', 'tanapoli', 'everwish', 'iblu', 'cornellfinch', 'heatherjacob', 'cleaningcloth', 'traxamillion408', 'yeni', 'simonwild', 'photolook', 'mysql', 'nanay', 'katstopfeel', 'suzylak', 'ikklepickl', 'jayojay', 'httpmylocme21s1', 'codingvictim', 'neeliemoo', 'unpleas', 'marissamariposa', 'yipaw', 'angelivxxx', 'da7e', 'rootin', 'relaxxxx', 'carlocruuuz', 'soonhav', 'fpu', 'httpblipfm5z7v3', 'tomorrowhappi', 'nextmileycyru', 'kidb', 'steven89', 'ttorrent', 'apparantli', 'criscokidd', 'httptwitpiccom61ov1', 'jeopardi', 'droom', 'ooohi', 'kellysh', 'reichel', 'joshuardean', 'rae', 'cocodemerusa', 'plagiar', 'dimepiecemag', 'bluemandm', 'sweetisa', 'heeeee', 'changin', 'anesthet', 'westlifebunni', 'timinnh', 'tractahpul', 'aaronhoskin', 'colinoln', 'amberlili', 'spumant', 'loonix', 'sparklej', 'overconfid', 'janellebel', 'laniew', 'nathistorywhal', 'http13tolifeu', 'nicholaabdo', 'httptwitpiccom4wlpv', 'profoundli', 'tivon', 'dages58', 'wwwfancastcom', 'theav8tr', 'gemamalov', 'secondlif', 'httptwitpiccom67di2', 'apparantley', 'bibi', 'sarzp', 'brookedaniel', 'wembley', 'rehnawil', 'roflwolf', 'beautifulalbeit', 'twitterblackberri', 'jamesyeah', 'bbc2', 'fairyfroggi', 'seemouserun', 'roxylove524', 'taralouis', 'ginoandfran', '25mbp', 'y4it', 'orderd', 'mariekehardi', 'lenaaileen', 'ct06873', 'modulista', 'waaaaahhhhhh', 'pue', 'dragbut', 'sarcasmoo', 'job2', '123243342', 'addfollow', 'deadli', 'patriarchi', 'trinemt', 'betch', 'backsorri', 'addl', 'partli', 'rasikakrishna', 'bloomsday16', 'taylena', 'crackup', 'tidygraph', 'sevilla90', 'httpimg15imageshackusimg153512img2960vjpg', 'grinder', 'justlikethem', 'hubz', '121908inlov', 'grantedluckili', 'minotouro', 'hernameisnicki', 'warten', '374', 'maritessdeleon', 'arghhhmi', 'djmo27', 'karess', 'duuuum', 'arielmeir', 'samuelasand', 'refil', 'hiddenfil', 'midgetmeg', 'thetherm', 'finishin', 'thewbdotcom', 'woahhitsjess', 'ryann', 'canadianquot', 'semiflaki', 'irc', 'kkaleal', 'larin', 'debba', 'yeeeah', 'aguyfrtx', 'empresstrena', 'moreton', 'banknorth', 'goign', '62023', 'undaunt', 'supashley', 'naner', 'leey', 'shibuya246', 'littlemissgina', 'httpblipfm5yvnd', 'famz', 'inbrug', 'jetson', 'kaleidoscopeftw', 'speller', 'polaroidnet', 'caitlingray', 'selinittothehighestbidd', 'kasexyhan', 'funsad', 'convict', 'tryout', 'greatgrandmoth', 'blo0dsta1n', 'bbbaumgartn', 'fandom', 'aroundharlem', 'jakeashley', 'politicalqueen', 'vixx1983', 'squiretwizz', 'bulldyk', 'seriouslyi', 'yourselff', 'sweeeet', 'ellebella618', 'evn', 'jusreenoma', 'professorgreen', 'houv', 'homey', 'dancingwait', 'exil', 'tkplesli', 'boiler', 'gahaha', 'whitney0925', 'grice', 'ren', 'eexcit', 'oprivilleg', 'greensborough', 'kerk', 'elyssad', 'harlsil', 'rayamartin', 'linooo', 'and12', 'cherynston', 'aaronovitch', 'crayon', 'charter', 'vittl', 'lollllll', 'nicoleapparatu', 'bjadaycom', 'homerefresh', 'utf8', 'httpbitly179jx', 'qlad', 'tantra', 'jennycliu', 'clairesal', 'lincolnshir', 'carefre', 'httpmylocme2144', 'bbheaven', 'xbellamariex', 'downward', 'ubook', 'chearn73', 'thatbesid', 'krigeren', 'apiï¿½', 'lovequot', 'chillingdont', 'lukemarsden', 'patata', 'essa', 'aiaahh', 'httplookbooknulook92920', 'davidismyangel', 'keitakeita', 'heyyyyyyyyyyyyyya', 'giiab', 'ultramegaman', 'ampthil', 'cyderrrrrrrrr', 'penileword', 'tomorrw', 'spandexx', 'achan', 'quotinvalid', 'imbecili', 'chellanglo', 'jessere', 'mikeymontana', 'tbake', 'bgeezi', '63g', 'talkingvoic', 'yankeegirl20', 'dietsch', 'sims2', '142staircas', 'kazzababe95', 'dchi606', 'httpblipfm5jd4b', 'jae', 'toxicsociopath', 'glassdahl', 'hithere90', 'cbd', 'ragazzi', 'pearlwhite27', 'excist', 'whasup', 'herepick', 'lewisforb', 'jonpaulkais', 'danifi', 'quotlook', 'dji', 'revisionbiolog', 'spencesaur', 'kirkdunst', 'httpplurkcompwxidk', 'lharp', 'rearri', 'may1st', 'mygoldmask', 'wickedquot', 'pixl', 'steveraz', 'techanim', 'noooowww', 'heatherbond', 'spikethelobst', 'shantel', 'laurentiaa', 'quotgit', 'mikecas', 'lt3hannah', 'clintird', 'lostthegam', 'pronunci', 'datapoint', 'som1', 'cyberwest', 'saginaki', 'taylorgotbeat', 'southwestern', 'sasalov', 'paulmjohnston', 'decentso', 'viocenit', 'achurch', 'melani', '28deg', 'paulcockerton', 'httpchelseavantoletsycom', 'ep11', 'kyladurden', 'airportno', 'hbu', 'isol', 'itslisali', '820', 'laurenxexcart', 'lymz', 'yummy411', 'colton', 'mfarrugia', 'usnlbest', 'conti', 'washingtonlam', 'myinnerbitch', 'quotworkquot', 'nullif', 'grandrapid', 'davemuel', 'httptwitpiccom5wb0k', 'deathfic', 'yonker', 'budceil', 'jasontryfon', 'protoslag', 'topsurf', 'jisbellemtp', 'kevinpuentez', 'httptinyurlcomygcp3f', 'guysthre', 'b4dm1n7on', 'desperatli', 'sampler', 'godamn', 'pui', '261c', 'puppetguy', 'httpbitlygrrda', 'iloven3wyork', 'rpg', 'roisinmck', 'obtain', 'leukemia', 'pradasmith', 'squeeee', 'cjdavi', 'edu', 'cassandra', 'yellowishorangeishbrownish', 'quotacura', 'redsunflow', 'smartphon', 'suziewi', 'kuala', 'dederobb', 'workingbut', 'funchal', 'thatpaigekid', 'meldiesel', 'loooonnnggg', 'erg', '13055', 'wizzlewolf', 'leightonmarissa', 'themhelp', 'tonematrix', '080809', 'boak', 'rubymay', 'cravin', 'jonbreisn', 'famousreject', 'zippi', 'jealousur', 'bogwhoppit', 'gratiss', 'bapang', 'agressiva23', 'andychapman09', 'cuold', 'httptwitpiccom67x7n', 'bulid', 'ï¿½iï¿½m', 'sheri', 'urbalcloud', 'dejeb', 'steveagl', 'tomelrumi', 'mommypag', 'relight', '981', 'milkkk', 'loook', 'fp09', 'matti', 'boyfrann', 'armywife98', 'sunrash', 'granddad', 'pentecost', 'lï¿½sst', 'roflmfao', 'quotslabquot', 'euh', 'sfwa', 'mrtomhil', 'hehei', 'morgancompani', 'ahhrjay', 'jackiekessl', 'httpbitlytjvhv', 'karenejon', 'whous', 'jimhunt', 'suai', 'soybean', 'crewww', 'amyp', 'inif', 'hursty810', 'meeshthebeast', 'trudg', 'hokeypokeybandra', 'highmiss', 'dopey1972', 'taser', 'httptwitpiccom4wsy6', '20ghz', 'realrobbrydon', 'mangow', 'genuinecasp', 'joyfulbiz', 'nolandfam', 'sourish', 'itnot', 'dadinlaw', 'ericaglass99', 'mistress', 'soreadi', 'buenohop', 'httpnewyorkseriouseatscom', 'nesarajah', 'buthesmin', 'rhel5', 'oik', 'hamber', 'yomissb', 'whoiskenan', 'rayvinhsu', 'sarahroset', 'potrait', 'tdahsar', 'halfponi', 'tatylici', 'camomil', 'peepin', 'gatorsnow', 'razz', 'cassiefasho', 'beup', 'tesser10', 'hotttt', 'imbas', 'quotslsequot', 'ryder', 'utdkick', 'whataday', 'shybut', 'shoptilldrop', 'overheat', 'httptwtvitecom3koyqo', 'ginggo', 'whattha', 'dingl', 'forkncork', 'pen15lvr', 'slowth', 'mela', 'webmail', 'kmon3i', 'doublechin', 'cleanquot', 'babyviben', 'iceweasel', 'subwayyum', 'carpark', 'doperahstyl', 'hellloooo', '317', 'goooooodmorn', 'rennasuicid', 'lovi', 'somwher', 'clinic', 'saaaaaf', 'notoriousflirt', 'chatter', 'oneil', 'sflorida', 'evgibson', 'wolfie85', 'tayfo', 'graciealbernaz', 'espacesoleil', 'adulthood', 'ss1271', 'pree', 'momento', 'nanawish', 'httpuntweepscom', 'comingand', 'toothpick', 'httptwitpiccom4jkvh', 'sufisammi', 'aim69', 'porsch', 'dmc4', 'spacasso', 'quotknowingquot', 'redfact', 'cuooi', 'awakeningquot', 'celldwel', 'slo', 'hape', 'croissantmangomeloncoffe', 'rebroadcast', 'thenn', 'sunshinenoth', 'cecewhi92', 'elvenstarart', 'idulay', '400pm', 'misssnooz', 'etschuetz', 'willy9', 'eyein', 'magsbookannu', 'myapplestuff', 'rowww', 'outrageousjavi', '5468', 'chrisloo', 'morninghappi', 'shitload', 'httpyfrogcom0t2b6j', 'jprestonian', 'motherblank', 'uhhhg', 'httptwitpiccom4jb4o', 'thisid', 'agostino', 'arbi', 'supercr3w', 'celebxxxvidsyh', 'lisalisad1', '8pm12am', 'beverley', 'hairbrush', 'sendstudio', 'bxa2', 'elibrodi', 'siansburi', 'pretwitt', 'omar', 'epicwinmast', 'momll', 'jennwadsworth', 'execut', 'jeffpow', 'shawn3k', 'deg', 'somethingil', 'onesquotlook', 'maryjanewatson', 'performac', 'berriesi', 'holyday', 'neestapl', 'jeffshemano', 'multimedia', 'hoursbooo', 'nadav', 'kyriik', 'httptumblrcomxzn1pir8', 'lei', 'larissabootz', 'cï¿½ch', 'yeay', 'lolsoooo', 'livestrongnj', 'lilrainbow89', 'deadliestcatch', 'cheryltiu', 'jacquelin', 'rhchestnut', 'httptwitpiccom4wh0o', 'knitteraticomau', 'expedit', 'matthewful', 'snowbal', 'makeupy', 'worriedi', 'picturesnof', 'leprakhaun', 'vanwau', 'alansmitheejp', '128', 'aroundhah', 'msmoss', 'andysquirrel', 'bestquot', 'rebekahmcfli', 'ocean29', 'gooot', 'churna', 'kasperapd', 'jazzyhale22', 'makino', 'visionaryey', 'stephreayi', 'tangoo', 'whahahah', 'hedberg', 'wowvirtualpc', 'mycakesrock', 'suburb', 'tanyadenalilov', 'cmykara', 'becthomasphoto', '9412', 'remiransom', 'michemo', 'missjerile', 'waspass', 'dayydoesnt', 'asheleybg', 'vm', 'ashpolicarpio', 'yadatre', 'kylebjudah', 'sickand', 'rkuang', 'httptwitpiccom4m9up', 'gdnight', 'marjori', 'retort', 'httpplurkcompstk04', 'vancityalli', 'startl', 'princessdeleon', 'moiv', 'finito', 'winkphotographi', 'laurenriotx', 'mcmcbuddi', 'peoplewithgoodtasteinmus', 'carryon', 'httpsmlvgjl0ki1', 'valholla', 'need4sheedcom', 'bahh', 'lovelylisaj', 'proclaim', 'jonkragel', 'lilli', 'pabloest', 'organicsu', 'christay0102', 'occas', 'pimpyouriphon', 'crazy', 'twitteringup', 'massa', 'bwright', 'pussymor', 'littlemary01', 'gottaaa', 'stephaniebambam', 'cajolejuic', 'undeniablyfaith', 'bordum', 'httpwwwnewscientistcomarticlemg20227065900', 'httptinyurlcom64ozr7', 'inhabit', 'beauabroughton', 'alow8111', 'tweetioi', 'jennyism', 'toh', 'twitternam', 'whittier', 'steemer', 'mde', 'poohbaby91', 'poyntersex', 'weiner', 'zacefron', 'abp', 'downjust', 'ihat', 'phillipa', '0630', 'quotshould', 'roninreckless', 'conceptsubject', 'gayadoptiondad', 'xxfriendxx', 'shermk', 'andheri', 'zacjones13', 'jojosvoic', 'brgd', 'ddd', 'luongdat', 'bobobyeby', 'wstmjonathan', 'alane01', 'suzzyqotstyl', '0255', 'lumier', 'itsakey', 'monicaobrien', 'chezmax', 'iancpalm', 'wentworth', 'peterjrday', 'drsteggi', 'kkkkkkk', 'primesuspect', 'shoooooot', 'todayson', 'httptinyurlcomdz7tm', 'gavinmus', 'elikapeka', 'calypsominer', 'quotrestor', 'mysgreen', 'gemmabess', 'robinject', 'molltini', 'slurpeee', 'viehl', 'clipsepisod', 'danielbedingfld', 'weill', 'quotbitesquot', 'francai', 'kyneton', 'twitterlt3', 'snipeyhead', 'aruba', 'huaaahhhhh', 'backstreetteam', 'roborob', 'quotboobfeedquot', 'saaaaaaaaaaaaaad', 'doublepunch', 'wright', 'campfir', 'accustom', 'sacto', 'sunnysidesup', 'janesle', 'kerrisnead', 'butlin', 'parachutesfail', 'hijack', 'iffi', 'nintendog', 'sunshiin', 'cmzart', 'kandeezi', 'fayarina', 'quotdatequot', 'lilctownroast', 'localgovcamp', 'jamesquot', 'drew8890', 'misscheryl', 'httpwwwlapbooklessonscom', 'iamcomedi', 'caramb', 'bagginsboy', 'smartiej', 'mseger', 'quotf', 'danijelabaron', 'cera', 'ampmor', 'weekend80', 'gallar', 'handleingquot', 'esa', 'janisj1212', 'poof', 'taylorr', 'morningin', 'handsi', 'catwalk', 'twittpic', 'tish', 'dubquot', 'saaphyri', 'nuclear', 'exirel', 'allstudi', 's0ulja', 'lulurocks3', 'softer', 'teekay', 'synn', 'franz', 'cheverlyhillz', 'juneye', 'httptinyurlcomddqpoa', 'insorri', 'laurenlim', 'euch', 'yuuup', 'twindexxcom', 'bitbac', 'gianninarossini', 'angryyoungman2', 'practiceal', 'alenadoma', 'anachron', 'tiffi', 'undrstand', 'actuali', '3xasif', 'jawsh', 'anticipationsf', 'aheadand', 'bridgeleav', 'collin', 'hh4764', 'httptinyurlcomq7eax7', 'ouchwait', 'quotrecoveringquot', 'smokefre', 'chontellebourk', 'perus', 'hotoh', 'duskyblueski', 'jacqui', 'filati', '200f2', 'mee8', 'deceiv', 'boredgirl260', 'noooi', 'sweldo', 'otaku', 'kaibosh', 'brandyxo', 'honeytweet', 'aramos82', 'lizzidol', 'amaziii', 'mineu', 'httptwitpiccom4j9x4', 'nitadarl', 'grain', 'eastgarden', 'moanwhingemoan', 'misskrene', 'care2', 'sunho', 'craftjoshua', 'samsoir', 'fasteveryth', 'antonioalmost', 'werewookie', 'jill777', 'stealthboompow', 'halestormrock', 'arlenesunivers', 'leakycon', 'httpbkitecom07xoh', 'httptwitpiccom4so0u', 'kerbear', 'wita', 'backit', 'ceethetruthi', 'ratatat', 'erock', 'applemous', 'grangersmith', 'ashumitt', 'httptwitpiccom4wsj3', 'olina', 'rhyder', 'kabobbin', 'aquafreak123', 'angelazodiak', 'clarinette02', 'gru3som', 'geoffcomma', 'bobatnhtpc', 'forgivem', 'j0hnnywyatt', 'httptwitpiccom4wlpf', 'omarion5sho', 'heeel', 'hank1914', 'ginaaaaaaaaaaaaaaaa', 'mtvaward', 'beherenw', 'beckyyi', 'jeanis', 'creampuffsstar']\n"
          ]
        }
      ],
      "source": [
        "freq = list(freq.index)\n",
        "print(freq)"
      ]
    },
    {
      "cell_type": "code",
      "execution_count": null,
      "metadata": {
        "id": "n1TIXk8xo9hN"
      },
      "outputs": [],
      "source": [
        "data['content'] = data['content'].apply(lambda x: \" \".join(x for x in x.split() if x not in freq))"
      ]
    },
    {
      "cell_type": "code",
      "execution_count": null,
      "metadata": {
        "colab": {
          "base_uri": "https://localhost:8080/"
        },
        "id": "c8kh-waQorDt",
        "outputId": "1d94e905-e627-4466-cd94-6e0293360592"
      },
      "outputs": [
        {
          "name": "stdout",
          "output_type": "stream",
          "text": [
            "1                    layin n bed headach ughhhhwaitin call\n",
            "2                              funer ceremonygloomi friday\n",
            "4                     want trade someon houston ticket one\n",
            "5        reping ghostridah14 didnt go prom bc bf didnt ...\n",
            "6        sleep im think old friend want he marri damn a...\n",
            "                               ...                        \n",
            "39995                                      johnlloydtaylor\n",
            "39996                                happi mother day love\n",
            "39997    happi mother day mommi woman man long your mom...\n",
            "39998    niariley wassup beauti follow peep new hit sin...\n",
            "39999    mopedronin bullet train tokyo gf visit japan s...\n",
            "Name: content, Length: 36802, dtype: object\n"
          ]
        }
      ],
      "source": [
        "print(data['content'])"
      ]
    },
    {
      "cell_type": "markdown",
      "metadata": {
        "id": "7lV406Kb3zII"
      },
      "source": [
        "# **Label encoding**"
      ]
    },
    {
      "cell_type": "code",
      "execution_count": null,
      "metadata": {
        "id": "NkbUDm9RpCjF"
      },
      "outputs": [],
      "source": [
        "label_encoding = preprocessing.LabelEncoder()\n",
        "y = label_encoding.fit_transform(data.sentiment.values)"
      ]
    },
    {
      "cell_type": "code",
      "execution_count": null,
      "metadata": {
        "colab": {
          "base_uri": "https://localhost:8080/"
        },
        "id": "Q4GI-mqd3O2_",
        "outputId": "9dfa2f32-9b4f-476c-dbb5-abe451853598"
      },
      "outputs": [
        {
          "name": "stdout",
          "output_type": "stream",
          "text": [
            "0 - negative\n",
            "1 - neutral\n",
            "2 - positive\n"
          ]
        }
      ],
      "source": [
        "for i in range(len(y)):\n",
        "  if y[i] == 0:\n",
        "    print(y[i],'-',data.sentiment.values[i])\n",
        "    break\n",
        "for i in range(len(y)):\n",
        "  if y[i] == 1:\n",
        "    print(y[i],'-',data.sentiment.values[i])\n",
        "    break\n",
        "for i in range(len(y)):\n",
        "  if y[i] == 2:\n",
        "    print(y[i],'-',data.sentiment.values[i])\n",
        "    break"
      ]
    },
    {
      "cell_type": "markdown",
      "metadata": {
        "id": "uUDNahg434JH"
      },
      "source": [
        "# **Train test split**"
      ]
    },
    {
      "cell_type": "code",
      "execution_count": null,
      "metadata": {
        "id": "ZK9hA7wqAB6J"
      },
      "outputs": [],
      "source": [
        "Test_size = 3000"
      ]
    },
    {
      "cell_type": "code",
      "execution_count": null,
      "metadata": {
        "id": "MPIgjIZW3Wfm"
      },
      "outputs": [],
      "source": [
        "X_train, X_val, y_train, y_val = train_test_split(data.content.values, y, stratify=y, random_state=42, test_size=0.1, shuffle=True)"
      ]
    },
    {
      "cell_type": "code",
      "execution_count": null,
      "metadata": {
        "id": "4n9aaL0RUksa"
      },
      "outputs": [],
      "source": [
        "\n",
        "X_train_ = X_train[:Test_size]\n",
        "y_train_ = y_train[:Test_size]\n",
        "\n",
        "X_test = np.append(X_val, X_train_)\n",
        "y_test = np.append(y_val, y_train_)\n"
      ]
    },
    {
      "cell_type": "markdown",
      "metadata": {
        "id": "wMlMqMOy5wAH"
      },
      "source": [
        "# **Extracting TF-IDF parameters**"
      ]
    },
    {
      "cell_type": "code",
      "execution_count": null,
      "metadata": {
        "id": "hwMSq-Pn3vYt"
      },
      "outputs": [],
      "source": [
        "tfidf = TfidfVectorizer(max_features=1000, analyzer='word',ngram_range=(1,3))\n",
        "X_train_tfidf = tfidf.fit_transform(X_train)\n",
        "X_val_tfidf = tfidf.fit_transform(X_test)"
      ]
    },
    {
      "cell_type": "markdown",
      "metadata": {
        "id": "7T_gB7vG57G0"
      },
      "source": [
        "# **Extracting Count Vectors Parameters**"
      ]
    },
    {
      "cell_type": "code",
      "execution_count": null,
      "metadata": {
        "id": "kSv9eLzB4ZYq"
      },
      "outputs": [],
      "source": [
        "count_vect = CountVectorizer(analyzer='word')\n",
        "count_vect.fit(data['content'])\n",
        "X_train_count =  count_vect.transform(X_train)\n",
        "X_val_count =  count_vect.transform(X_test)"
      ]
    },
    {
      "cell_type": "markdown",
      "metadata": {
        "id": "K9pcpuKg6M4m"
      },
      "source": [
        "# **Building models using count vectors feature**"
      ]
    },
    {
      "cell_type": "code",
      "execution_count": null,
      "metadata": {
        "colab": {
          "base_uri": "https://localhost:8080/"
        },
        "id": "c8WJAp7-hvNv",
        "outputId": "2d912815-d1dc-49ee-a116-9f9985e8b4cf"
      },
      "outputs": [
        {
          "name": "stdout",
          "output_type": "stream",
          "text": [
            "Using TF-IDF as feature vector, accuracy for\n",
            "naive bayes = 0.40428079628798086\n",
            "Linear SVM = 0.41206406226612785\n"
          ]
        },
        {
          "name": "stderr",
          "output_type": "stream",
          "text": [
            "/usr/local/lib/python3.7/dist-packages/sklearn/linear_model/_logistic.py:818: ConvergenceWarning: lbfgs failed to converge (status=1):\n",
            "STOP: TOTAL NO. of ITERATIONS REACHED LIMIT.\n",
            "\n",
            "Increase the number of iterations (max_iter) or scale the data as shown in:\n",
            "    https://scikit-learn.org/stable/modules/preprocessing.html\n",
            "Please also refer to the documentation for alternative solver options:\n",
            "    https://scikit-learn.org/stable/modules/linear_model.html#logistic-regression\n",
            "  extra_warning_msg=_LOGISTIC_SOLVER_CONVERGENCE_MSG,\n"
          ]
        },
        {
          "name": "stdout",
          "output_type": "stream",
          "text": [
            "logistic regression = 0.39589881754228406\n",
            "random forest = 0.3955994611585092\n"
          ]
        }
      ],
      "source": [
        "from sklearn.metrics import accuracy_score\n",
        "from sklearn.naive_bayes import MultinomialNB\n",
        "from sklearn.linear_model import SGDClassifier\n",
        "from sklearn.linear_model import LogisticRegression\n",
        "from sklearn.ensemble import RandomForestClassifier\n",
        "\n",
        "# Model 1: Multinomial Naive Bayes Classifier\n",
        "print('Using TF-IDF as feature vector, accuracy for')\n",
        "nb = MultinomialNB()\n",
        "nb.fit(X_train_tfidf, y_train)\n",
        "y_pred = nb.predict(X_val_tfidf)\n",
        "print('naive bayes = %s' % accuracy_score(y_pred, y_test))\n",
        "\n",
        "\n",
        "# Model 2: Linear SVM\n",
        "lsvm = SGDClassifier(alpha=0.001, random_state=5, max_iter=15, tol=None)\n",
        "lsvm.fit(X_train_tfidf, y_train)\n",
        "y_pred = lsvm.predict(X_val_tfidf)\n",
        "print('Linear SVM = %s' % accuracy_score(y_pred, y_test))\n",
        "\n",
        "# Model 3: logistic regression\n",
        "logreg = LogisticRegression(C=1)\n",
        "logreg.fit(X_train_tfidf, y_train)\n",
        "y_pred = logreg.predict(X_val_tfidf)\n",
        "print('logistic regression = %s' % accuracy_score(y_pred, y_test))\n",
        "\n",
        "\n",
        "# Model 4: Random Forest Classifier\n",
        "rf = RandomForestClassifier(n_estimators=100)\n",
        "rf.fit(X_train_tfidf, y_train)\n",
        "y_pred = rf.predict(X_val_tfidf)\n",
        "print('random forest = %s' % accuracy_score(y_pred, y_test))\n"
      ]
    },
    {
      "cell_type": "markdown",
      "metadata": {
        "id": "mQ-6WzzN6FeO"
      },
      "source": [
        "# **Building models using count vectors feature**"
      ]
    },
    {
      "cell_type": "code",
      "execution_count": null,
      "metadata": {
        "colab": {
          "base_uri": "https://localhost:8080/"
        },
        "id": "-nZCFUXX5sfe",
        "outputId": "9fcba122-bf7a-41db-e666-83305f5b1906"
      },
      "outputs": [
        {
          "name": "stdout",
          "output_type": "stream",
          "text": [
            "Using Count Vectors as feature vector, accuracy for\n",
            "naive bayes = accuracy 0.6561891932345457\n",
            "Linear SVM = accuracy 0.6301451878461308\n",
            "logistic regression = accuracy 0.7088759167789254\n"
          ]
        },
        {
          "name": "stderr",
          "output_type": "stream",
          "text": [
            "/usr/local/lib/python3.7/dist-packages/sklearn/linear_model/_logistic.py:818: ConvergenceWarning: lbfgs failed to converge (status=1):\n",
            "STOP: TOTAL NO. of ITERATIONS REACHED LIMIT.\n",
            "\n",
            "Increase the number of iterations (max_iter) or scale the data as shown in:\n",
            "    https://scikit-learn.org/stable/modules/preprocessing.html\n",
            "Please also refer to the documentation for alternative solver options:\n",
            "    https://scikit-learn.org/stable/modules/linear_model.html#logistic-regression\n",
            "  extra_warning_msg=_LOGISTIC_SOLVER_CONVERGENCE_MSG,\n"
          ]
        }
      ],
      "source": [
        "\n",
        "print('Using Count Vectors as feature vector, accuracy for')\n",
        "# Model 1: Multinomial Naive Bayes Classifier\n",
        "nb = MultinomialNB()\n",
        "nb.fit(X_train_count, y_train)\n",
        "y_pred = nb.predict(X_val_count)\n",
        "print('naive bayes = accuracy %s' % accuracy_score(y_pred, y_test))\n",
        "\n",
        "\n",
        "# Model 2: Linear SVM\n",
        "lsvm = SGDClassifier(alpha=0.001, random_state=5, max_iter=15, tol=None)\n",
        "lsvm.fit(X_train_count, y_train)\n",
        "y_pred = lsvm.predict(X_val_count)\n",
        "print('Linear SVM = accuracy %s' % accuracy_score(y_pred, y_test))\n",
        "\n",
        "\n",
        "# Model 3: Logistic Regression\n",
        "logreg = LogisticRegression(C=1)\n",
        "logreg.fit(X_train_count, y_train)\n",
        "y_pred = logreg.predict(X_val_count)\n",
        "print('logistic regression = accuracy %s' % accuracy_score(y_pred, y_test))\n"
      ]
    },
    {
      "cell_type": "code",
      "execution_count": null,
      "metadata": {
        "id": "lS7mAyU4umIH"
      },
      "outputs": [],
      "source": [
        "di = {0:\"negative\",1:\"neutral\",2:\"positive\"}"
      ]
    },
    {
      "cell_type": "markdown",
      "metadata": {
        "id": "GDsDway56QgP"
      },
      "source": [
        "# **Demo for some random statements**"
      ]
    },
    {
      "cell_type": "code",
      "execution_count": null,
      "metadata": {
        "colab": {
          "base_uri": "https://localhost:8080/"
        },
        "id": "h_Z33Q3N706v",
        "outputId": "d458f905-3bfd-48fe-df7e-ba7895988802"
      },
      "outputs": [
        {
          "name": "stdout",
          "output_type": "stream",
          "text": [
            "[2 1 2 0 0 1 2 2 0 1 1 0]\n"
          ]
        }
      ],
      "source": [
        "#Below are some random statements. The first 4 depict happiness. The last 4 depict sadness\n",
        "#0 - negative\n",
        "#1 - neutral\n",
        "#2 - positive\n",
        "tweets = pd.DataFrame(['This is a nice project', \n",
        "                       '', \n",
        "                       'There will be coffee, sweets and dance', \n",
        "                       'Oh, the chocolate will be wonderful', \n",
        "                       'I am so sad as I am missing home', \n",
        "                       'At home alone with not much to do',\n",
        "                       'I want to enjoy with my friends',\n",
        "                       'It will be a lot more fun in college',\n",
        "                       'I will kill you',\n",
        "                       'I am positive',\n",
        "                       'load beard papa disappear uk',\n",
        "                       'I will fail the test'])\n",
        "\n",
        "# Doing some preprocessing on these tweets as done before\n",
        "tweets[0] = tweets[0].str.replace('[^\\w\\s]',' ')\n",
        "from nltk.corpus import stopwords\n",
        "tweets[0] = tweets[0].apply(lambda x: \" \".join(x for x in x.split() if x not in stop_words))\n",
        "from textblob import Word\n",
        "tweets[0] = tweets[0].apply(lambda x: \" \".join([Word(word).lemmatize() for word in x.split()]))\n",
        "\n",
        "# Extracting Count Vectors feature from our tweets\n",
        "tweet_count = count_vect.transform(tweets[0])\n",
        "\n",
        "#Predicting the emotion of the tweet using our already trained logistic regression\n",
        "tweet_pred = logreg.predict(tweet_count)\n",
        "print(tweet_pred)\n"
      ]
    },
    {
      "cell_type": "markdown",
      "metadata": {
        "id": "m3jUFNRf6eDM"
      },
      "source": [
        "# **Evaluation metrics**"
      ]
    },
    {
      "cell_type": "code",
      "execution_count": null,
      "metadata": {
        "colab": {
          "base_uri": "https://localhost:8080/"
        },
        "id": "cGDNQ1ujp1Hu",
        "outputId": "88421be4-86a3-4a65-d0aa-490647711f80"
      },
      "outputs": [
        {
          "name": "stdout",
          "output_type": "stream",
          "text": [
            "CONFUSION MATRIX - \n",
            "[[1848  324  362]\n",
            " [ 257  867  255]\n",
            " [ 380  367 2021]]\n",
            "\n",
            "ACCURACY SCORE - 0.7088759167789254\n",
            "\n",
            "CLASSIFICATION REPORT  - \n",
            "              precision    recall  f1-score   support\n",
            "\n",
            "           0       0.74      0.73      0.74      2534\n",
            "           1       0.56      0.63      0.59      1379\n",
            "           2       0.77      0.73      0.75      2768\n",
            "\n",
            "    accuracy                           0.71      6681\n",
            "   macro avg       0.69      0.70      0.69      6681\n",
            "weighted avg       0.71      0.71      0.71      6681\n",
            "\n"
          ]
        }
      ],
      "source": [
        "from sklearn.metrics import confusion_matrix, accuracy_score, classification_report\n",
        "print(\"CONFUSION MATRIX - \")\n",
        "print(confusion_matrix(y_pred, y_test))\n",
        "print()\n",
        "print(\"ACCURACY SCORE\",\"-\",accuracy_score(y_pred, y_test))\n",
        "print()\n",
        "print(\"CLASSIFICATION REPORT\",\" - \")\n",
        "print(classification_report(y_pred, y_test))"
      ]
    },
    {
      "cell_type": "markdown",
      "metadata": {
        "id": "d60pye5S6ro7"
      },
      "source": [
        "# **Speech to text**"
      ]
    },
    {
      "cell_type": "code",
      "execution_count": null,
      "metadata": {
        "colab": {
          "base_uri": "https://localhost:8080/"
        },
        "id": "7SBqvObcy002",
        "outputId": "753a5a2c-2c8e-4495-8a44-a0870e9750ab"
      },
      "outputs": [
        {
          "name": "stdout",
          "output_type": "stream",
          "text": [
            "Requirement already satisfied: pydub in /usr/local/lib/python3.7/dist-packages (0.25.1)\n",
            "Requirement already satisfied: SpeechRecognition in /usr/local/lib/python3.7/dist-packages (3.8.1)\n"
          ]
        }
      ],
      "source": [
        "!pip install pydub\n",
        "!pip install SpeechRecognition\n",
        "import speech_recognition as sr\n",
        "import os\n",
        "from pydub import AudioSegment\n",
        "\n",
        "def speech_to_text(path):\n",
        "  r = sr.Recognizer()\n",
        "\n",
        "  sound = AudioSegment.from_ogg(path)\n",
        "  sound.export(\"/content/live_demo.wav\", format=\"wav\")\n",
        "  path = path[:-3] + \"wav\"\n",
        "  with sr.AudioFile(path) as source:\n",
        "    audio = r.listen(source)\n",
        "  \n",
        "  try:\n",
        "    print(r.recognize_google(audio))\n",
        "  except:\n",
        "    pass"
      ]
    },
    {
      "cell_type": "code",
      "execution_count": null,
      "metadata": {
        "colab": {
          "base_uri": "https://localhost:8080/"
        },
        "id": "kyfmZPruLAbv",
        "outputId": "cc0c5a28-4c10-4df4-8a3f-1e7b38e791a5"
      },
      "outputs": [
        {
          "name": "stdout",
          "output_type": "stream",
          "text": [
            "this is a nice project\n"
          ]
        }
      ],
      "source": [
        "voice_1 = speech_to_text(\"/content/live_demo.wav\")"
      ]
    },
    {
      "cell_type": "markdown",
      "metadata": {
        "id": "HH_OuJJv7D7W"
      },
      "source": [
        "# **Speech emotion detection**"
      ]
    },
    {
      "cell_type": "code",
      "execution_count": null,
      "metadata": {
        "colab": {
          "base_uri": "https://localhost:8080/"
        },
        "id": "_E9lxPWx10F2",
        "outputId": "fd3e282d-8a0b-42a8-f2cc-d7690a34e41c"
      },
      "outputs": [
        {
          "name": "stdout",
          "output_type": "stream",
          "text": [
            "2 - positive\n"
          ]
        }
      ],
      "source": [
        "tweets = pd.DataFrame([str(voice_1)])\n",
        "# Doing some preprocessing on these tweets as done before\n",
        "tweets[0] = tweets[0].str.replace('[^\\w\\s]',' ')\n",
        "from nltk.corpus import stopwords\n",
        "tweets[0] = tweets[0].apply(lambda x: \" \".join(x for x in x.split() if x not in stop_words))\n",
        "from textblob import Word\n",
        "tweets[0] = tweets[0].apply(lambda x: \" \".join([Word(word).lemmatize() for word in x.split()]))\n",
        "\n",
        "# Extracting Count Vectors feature from our tweets\n",
        "tweet_count = count_vect.transform(tweets[0])\n",
        "\n",
        "#Predicting the emotion of the tweet using our already trained linear SVM\n",
        "tweet_pred = logreg.predict(tweet_count)\n",
        "print(tweet_pred[0],'-',di[tweet_pred[0]])\n"
      ]
    }
  ],
  "metadata": {
    "colab": {
      "collapsed_sections": [],
      "name": "Varshith_NLP.ipynb",
      "provenance": []
    },
    "kernelspec": {
      "display_name": "Python 3",
      "name": "python3"
    },
    "language_info": {
      "name": "python"
    }
  },
  "nbformat": 4,
  "nbformat_minor": 0
}
